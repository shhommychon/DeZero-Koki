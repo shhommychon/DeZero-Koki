{
  "nbformat": 4,
  "nbformat_minor": 0,
  "metadata": {
    "colab": {
      "provenance": []
    },
    "kernelspec": {
      "name": "python3",
      "display_name": "Python 3"
    },
    "language_info": {
      "name": "python"
    }
  },
  "cells": [
    {
      "cell_type": "markdown",
      "source": [
        "[![Open In Colab](https://colab.research.google.com/assets/colab-badge.svg)](https://colab.research.google.com/github/shhommychon/DeZero-Koki/blob/master/from_scratch_3/step18.ipynb)"
      ],
      "metadata": {
        "id": "tljHQ_kCyCDk"
      }
    },
    {
      "cell_type": "markdown",
      "source": [
        "# 제1고지 미분 자동 계산"
      ],
      "metadata": {
        "id": "4tRTGZRKzkVm"
      }
    },
    {
      "cell_type": "code",
      "source": [
        "import numpy as np\n",
        "\n",
        "\n",
        "def as_array(x):\n",
        "    if np.isscalar(x):\n",
        "        return np.array(x)\n",
        "    return x\n"
      ],
      "metadata": {
        "id": "39laKqc7G2zl"
      },
      "execution_count": 1,
      "outputs": []
    },
    {
      "cell_type": "code",
      "source": [
        "# class Exp(Function):\n",
        "#     def forward(self, x):\n",
        "#         return np.exp(x)\n",
        "\n",
        "#     def backward(self, gy):\n",
        "#         x = self.input.data\n",
        "#         gx = np.exp(x) * gy\n",
        "#         return gx\n",
        "\n",
        "\n",
        "# def exp(x):\n",
        "#     return Exp()(x)\n"
      ],
      "metadata": {
        "id": "0tjotk1THBIw"
      },
      "execution_count": 2,
      "outputs": []
    },
    {
      "cell_type": "code",
      "source": [
        "def numerical_diff(f, x, eps=1e-4):\n",
        "    \"\"\"\n",
        "\n",
        "      param:\n",
        "        f (Function): 미분의 대상이 되는 함수\n",
        "        x (Variable): 미분을 계산하는 변수\n",
        "        eps (float): 작은 값\n",
        "    \"\"\"\n",
        "    x0 = Variable(x.data - eps)\n",
        "    x1 = Variable(x.data + eps)\n",
        "    y0 = f(x0)\n",
        "    y1 = f(x1)\n",
        "    return (y1.data - y0.data) / (2 * eps)"
      ],
      "metadata": {
        "id": "6R-wCS0HKPSl"
      },
      "execution_count": 3,
      "outputs": []
    },
    {
      "cell_type": "markdown",
      "source": [
        "# 제2고지 자연스러운 코드로"
      ],
      "metadata": {
        "id": "S4Byz6xBg7Fa"
      }
    },
    {
      "cell_type": "markdown",
      "source": [
        "## 11단계 가변 길이 인수(순전파 편)"
      ],
      "metadata": {
        "id": "asGSdga7hMnz"
      }
    },
    {
      "cell_type": "code",
      "source": [],
      "metadata": {
        "id": "e14gjXxIkLO8"
      },
      "execution_count": 3,
      "outputs": []
    },
    {
      "cell_type": "markdown",
      "source": [
        "## 12단계 가변 길이 인수(개선 편)"
      ],
      "metadata": {
        "id": "4KAaNtzbku-t"
      }
    },
    {
      "cell_type": "code",
      "source": [],
      "metadata": {
        "id": "oRQrnm1Dmg5h"
      },
      "execution_count": 3,
      "outputs": []
    },
    {
      "cell_type": "markdown",
      "source": [
        "## 13단계 가변 길이 인수(역전파 편)"
      ],
      "metadata": {
        "id": "RMsSCNDIoV_h"
      }
    },
    {
      "cell_type": "code",
      "source": [],
      "metadata": {
        "id": "Ar1Aik1Qqx27"
      },
      "execution_count": 3,
      "outputs": []
    },
    {
      "cell_type": "markdown",
      "source": [
        "## 14단계 같은 변수 반복 사용"
      ],
      "metadata": {
        "id": "n1oBMPQVd8nj"
      }
    },
    {
      "cell_type": "code",
      "source": [],
      "metadata": {
        "id": "oDQKkjIaf10O"
      },
      "execution_count": 3,
      "outputs": []
    },
    {
      "cell_type": "markdown",
      "source": [
        "## 15단계 복잡한 계산 그래프(이론 편)"
      ],
      "metadata": {
        "id": "obUPPtCuv1Sw"
      }
    },
    {
      "cell_type": "code",
      "source": [],
      "metadata": {
        "id": "aVZ_w4fjv2e0"
      },
      "execution_count": 3,
      "outputs": []
    },
    {
      "cell_type": "markdown",
      "source": [
        "## 16단계 복잡한 계산 그래프(구현 편)"
      ],
      "metadata": {
        "id": "cszcSufvv2ua"
      }
    },
    {
      "cell_type": "code",
      "source": [],
      "metadata": {
        "id": "HhHicfa60Umc"
      },
      "execution_count": 3,
      "outputs": []
    },
    {
      "cell_type": "markdown",
      "source": [
        "## 17단계 메모리 관리와 순환 참조"
      ],
      "metadata": {
        "id": "9SJdzWiC5DVD"
      }
    },
    {
      "cell_type": "code",
      "source": [
        "import weakref\n",
        "\n",
        "\n",
        "class Function:\n",
        "    \"\"\"\n",
        "\n",
        "    * Function 클래스는 기반 클래스로서, 모든 함수에 공통되는 기능을 구현합니다.\n",
        "    * 구체적인 함수는 Function 클래스를 상속한 클래스에서 구현합니다.\n",
        "    \"\"\"\n",
        "    def __call__(self, *inputs):\n",
        "        xs = [ x.data for x in inputs ]\n",
        "        ys = self.forward(*xs)\n",
        "        if not isinstance(ys, tuple): ys = ys,\n",
        "        outputs = [ Variable(as_array(y)) for y in ys ]\n",
        "\n",
        "        self.generation = max([x.generation for x in inputs])\n",
        "        for output in outputs:\n",
        "            output.set_creator(self)\n",
        "        self.inputs = inputs\n",
        "        self.outputs = [weakref.ref(output) for output in outputs]  # 변경!\n",
        "        return outputs if len(outputs) > 1 else outputs[0]\n",
        "\n",
        "    def forward(self, xs):\n",
        "        raise NotImplementedError()\n",
        "\n",
        "    def backward(self, gys):\n",
        "        raise NotImplementedError()"
      ],
      "metadata": {
        "id": "MDmaZqRuJxOU"
      },
      "execution_count": 4,
      "outputs": []
    },
    {
      "cell_type": "code",
      "source": [
        "import numpy as np\n",
        "\n",
        "\n",
        "class Variable:\n",
        "    def __init__(self, data):\n",
        "        if data is not None:\n",
        "            if not isinstance(data, np.ndarray):\n",
        "                raise TypeError(f\"{type(data)}은(는) 지원하지 않습니다.\")\n",
        "\n",
        "        self.data = data\n",
        "        self.grad = None\n",
        "        self.creator = None\n",
        "        self.generation = 0\n",
        "\n",
        "    def set_creator(self, func):\n",
        "        self.creator = func\n",
        "        self.generation = func.generation + 1\n",
        "\n",
        "    def backward(self):\n",
        "        if self.grad is None:\n",
        "            self.grad = np.ones_like(self.data)\n",
        "\n",
        "        funcs = []\n",
        "        seen_set = set()\n",
        "\n",
        "        def add_func(f):\n",
        "            if f not in seen_set:\n",
        "                funcs.append(f)\n",
        "                seen_set.add(f)\n",
        "                funcs.sort(key=lambda x: x.generation)\n",
        "\n",
        "        add_func(self.creator)\n",
        "\n",
        "        while funcs:\n",
        "            f = funcs.pop()\n",
        "            gys = [ output().grad for output in f.outputs ]  # 변경!\n",
        "            gxs = f.backward(*gys)\n",
        "            if not isinstance(gxs, tuple): gxs = gxs,\n",
        "\n",
        "            for x, gx in zip(f.inputs, gxs):\n",
        "                if x.grad is None:\n",
        "                    x.grad = gx\n",
        "                else:\n",
        "                    x.grad = x.grad + gx\n",
        "\n",
        "                if x.creator is not None:\n",
        "                    add_func(x.creator)\n",
        "\n",
        "    def cleargrad(self):\n",
        "        self.grad = None\n"
      ],
      "metadata": {
        "id": "1MIOWudeJzt5"
      },
      "execution_count": 5,
      "outputs": []
    },
    {
      "cell_type": "markdown",
      "source": [
        "## 18단계 메모리 절약 모드"
      ],
      "metadata": {
        "id": "Uwa1-5XdXS9b"
      }
    },
    {
      "cell_type": "markdown",
      "source": [
        "### 18.1 필요 없는 미분값 삭제"
      ],
      "metadata": {
        "id": "kysjyhRyX3oE"
      }
    },
    {
      "cell_type": "code",
      "source": [
        "class Add(Function):\n",
        "    def forward(self, x0, x1):\n",
        "        y = x0 + x1\n",
        "        return y\n",
        "\n",
        "    def backward(self, gy):\n",
        "        return gy, gy\n",
        "\n",
        "\n",
        "def add(x0, x1):\n",
        "    return Add()(x0, x1)\n"
      ],
      "metadata": {
        "id": "fgjyMDA6XraO"
      },
      "execution_count": 6,
      "outputs": []
    },
    {
      "cell_type": "code",
      "source": [
        "x0 = Variable(np.array(1.0))\n",
        "x1 = Variable(np.array(1.0))\n",
        "t = add(x0, x1)\n",
        "y = add(x0, t)\n",
        "y.backward()\n",
        "\n",
        "print(y.grad, t.grad)\n",
        "print(x0.grad, x1.grad)"
      ],
      "metadata": {
        "colab": {
          "base_uri": "https://localhost:8080/"
        },
        "id": "aGZK8a3TYAYY",
        "outputId": "490e2168-81dd-4212-ac91-6d71da215c4f"
      },
      "execution_count": 7,
      "outputs": [
        {
          "output_type": "stream",
          "name": "stdout",
          "text": [
            "1.0 1.0\n",
            "2.0 1.0\n"
          ]
        }
      ]
    },
    {
      "cell_type": "code",
      "source": [
        "import numpy as np\n",
        "import weakref\n",
        "\n",
        "\n",
        "class Variable:\n",
        "    def __init__(self, data):\n",
        "        if data is not None:\n",
        "            if not isinstance(data, np.ndarray):\n",
        "                raise TypeError(f\"{type(data)}은(는) 지원하지 않습니다.\")\n",
        "\n",
        "        self.data = data\n",
        "        self.grad = None\n",
        "        self.creator = None\n",
        "        self.generation = 0\n",
        "\n",
        "    def set_creator(self, func):\n",
        "        self.creator = func\n",
        "        self.generation = func.generation + 1\n",
        "\n",
        "    def backward(\n",
        "        self,\n",
        "        retain_grad=False  # 추가!\n",
        "    ):\n",
        "        if self.grad is None:\n",
        "            self.grad = np.ones_like(self.data)\n",
        "\n",
        "        funcs = []\n",
        "        seen_set = set()\n",
        "\n",
        "        def add_func(f):\n",
        "            if f not in seen_set:\n",
        "                funcs.append(f)\n",
        "                seen_set.add(f)\n",
        "                funcs.sort(key=lambda x: x.generation)\n",
        "\n",
        "        add_func(self.creator)\n",
        "\n",
        "        while funcs:\n",
        "            f = funcs.pop()\n",
        "            gys = [ output().grad for output in f.outputs ]\n",
        "            gxs = f.backward(*gys)\n",
        "            if not isinstance(gxs, tuple): gxs = gxs,\n",
        "\n",
        "            for x, gx in zip(f.inputs, gxs):\n",
        "                if x.grad is None:\n",
        "                    x.grad = gx\n",
        "                else:\n",
        "                    x.grad = x.grad + gx\n",
        "\n",
        "                if x.creator is not None:\n",
        "                    add_func(x.creator)\n",
        "\n",
        "            ########## 추가 ##########\n",
        "            if not retain_grad:\n",
        "                for y in f.outputs:\n",
        "                    y().grad = None  # y는 약한 참조(weakref)\n",
        "            #########################\n",
        "\n",
        "    def cleargrad(self):\n",
        "        self.grad = None\n"
      ],
      "metadata": {
        "id": "ZWjHpK4jYWo4"
      },
      "execution_count": 8,
      "outputs": []
    },
    {
      "cell_type": "code",
      "source": [
        "x0 = Variable(np.array(1.0))\n",
        "x1 = Variable(np.array(1.0))\n",
        "t = add(x0, x1)\n",
        "y = add(x0, t)\n",
        "y.backward()\n",
        "\n",
        "print(y.grad, t.grad)\n",
        "print(x0.grad, x1.grad)"
      ],
      "metadata": {
        "colab": {
          "base_uri": "https://localhost:8080/"
        },
        "id": "Ph7J19ERabRa",
        "outputId": "5170e47b-32da-40e9-bacc-808084c56c2c"
      },
      "execution_count": 9,
      "outputs": [
        {
          "output_type": "stream",
          "name": "stdout",
          "text": [
            "None None\n",
            "2.0 1.0\n"
          ]
        }
      ]
    },
    {
      "cell_type": "markdown",
      "source": [
        "### 18.2 Function 클래스 복습"
      ],
      "metadata": {
        "id": "BsnpYuZTawoP"
      }
    },
    {
      "cell_type": "code",
      "source": [
        "import weakref\n",
        "\n",
        "\n",
        "class Function:\n",
        "    \"\"\"\n",
        "\n",
        "    * Function 클래스는 기반 클래스로서, 모든 함수에 공통되는 기능을 구현합니다.\n",
        "    * 구체적인 함수는 Function 클래스를 상속한 클래스에서 구현합니다.\n",
        "    \"\"\"\n",
        "    def __call__(self, *inputs):\n",
        "        xs = [ x.data for x in inputs ]\n",
        "        ys = self.forward(*xs)\n",
        "        if not isinstance(ys, tuple): ys = ys,\n",
        "        outputs = [ Variable(as_array(y)) for y in ys ]\n",
        "\n",
        "        self.generation = max([x.generation for x in inputs])\n",
        "        for output in outputs:\n",
        "            output.set_creator(self)\n",
        "        self.inputs = inputs  # 결과값을 보관하는 부분\n",
        "        self.outputs = [weakref.ref(output) for output in outputs]\n",
        "        return outputs if len(outputs) > 1 else outputs[0]\n",
        "\n",
        "    def forward(self, xs):\n",
        "        raise NotImplementedError()\n",
        "\n",
        "    def backward(self, gys):\n",
        "        raise NotImplementedError()"
      ],
      "metadata": {
        "id": "Tdfwed4-a0I8"
      },
      "execution_count": 10,
      "outputs": []
    },
    {
      "cell_type": "markdown",
      "source": [
        "### 18.3 Config 클래스를 활용한 모드 전환"
      ],
      "metadata": {
        "id": "mEz-UGCucSUX"
      }
    },
    {
      "cell_type": "code",
      "source": [
        "class Config:\n",
        "    enable_backprop = True"
      ],
      "metadata": {
        "id": "mfWB6kIQcXUK"
      },
      "execution_count": 11,
      "outputs": []
    },
    {
      "cell_type": "code",
      "source": [
        "import weakref\n",
        "\n",
        "\n",
        "class Function:\n",
        "    \"\"\"\n",
        "\n",
        "    * Function 클래스는 기반 클래스로서, 모든 함수에 공통되는 기능을 구현합니다.\n",
        "    * 구체적인 함수는 Function 클래스를 상속한 클래스에서 구현합니다.\n",
        "    \"\"\"\n",
        "    def __call__(self, *inputs):\n",
        "        xs = [ x.data for x in inputs ]\n",
        "        ys = self.forward(*xs)\n",
        "        if not isinstance(ys, tuple): ys = ys,\n",
        "        outputs = [ Variable(as_array(y)) for y in ys ]\n",
        "\n",
        "        if Config.enable_backprop:  # 추가!\n",
        "            self.generation = max([x.generation for x in inputs])  # ① 세대 설정\n",
        "            for output in outputs:\n",
        "                output.set_creator(self)  # ② 연결 설정\n",
        "            self.inputs = inputs\n",
        "            self.outputs = [weakref.ref(output) for output in outputs]\n",
        "\n",
        "        return outputs if len(outputs) > 1 else outputs[0]\n",
        "\n",
        "    def forward(self, xs):\n",
        "        raise NotImplementedError()\n",
        "\n",
        "    def backward(self, gys):\n",
        "        raise NotImplementedError()"
      ],
      "metadata": {
        "id": "8wDUX9kMdLaj"
      },
      "execution_count": 12,
      "outputs": []
    },
    {
      "cell_type": "markdown",
      "source": [
        "### 18.4 모드 전환"
      ],
      "metadata": {
        "id": "o_EC-vKDdp42"
      }
    },
    {
      "cell_type": "code",
      "source": [
        "class Square(Function):\n",
        "    def forward(self, x):\n",
        "        return x ** 2\n",
        "\n",
        "    def backward(self, gy):\n",
        "        x = self.inputs[0].data\n",
        "        gx = 2 * x * gy\n",
        "        return gx\n",
        "\n",
        "\n",
        "def square(x):\n",
        "    return Square()(x)\n"
      ],
      "metadata": {
        "id": "U3Cy-Sj_d7-r"
      },
      "execution_count": 13,
      "outputs": []
    },
    {
      "cell_type": "code",
      "source": [
        "import gc; gc.collect()\n",
        "import psutil\n",
        "\n",
        "\n",
        "m0 = psutil.virtual_memory()._asdict()[\"free\"]\n",
        "\n",
        "Config.enable_backprop = True\n",
        "x = Variable(np.ones((100, 100, 100)))\n",
        "y = square(square(square(x)))\n",
        "y.backward()\n",
        "\n",
        "m1 = psutil.virtual_memory()._asdict()[\"free\"]\n",
        "print(f\"{(m0-m1)/1024:.2f}KB\")\n",
        "del x, y; gc.collect()\n",
        "\n",
        "\n",
        "m0 = psutil.virtual_memory()._asdict()[\"free\"]\n",
        "\n",
        "Config.enable_backprop = False\n",
        "x = Variable(np.ones((100, 100, 100)))\n",
        "y = square(square(square(x)))\n",
        "\n",
        "m1 = psutil.virtual_memory()._asdict()[\"free\"]\n",
        "print(f\"{(m0-m1)/1024:.2f}KB\")\n",
        "del x, y; gc.collect()"
      ],
      "metadata": {
        "colab": {
          "base_uri": "https://localhost:8080/"
        },
        "id": "VG5J4-5DdrqH",
        "outputId": "5861dd49-a3de-48f8-9da4-19a163e6963e"
      },
      "execution_count": 14,
      "outputs": [
        {
          "output_type": "stream",
          "name": "stdout",
          "text": [
            "51452.00KB\n",
            "11468.00KB\n"
          ]
        },
        {
          "output_type": "execute_result",
          "data": {
            "text/plain": [
              "0"
            ]
          },
          "metadata": {},
          "execution_count": 14
        }
      ]
    },
    {
      "cell_type": "markdown",
      "source": [
        "### 18.5 with 문을 활용한 모드 전환"
      ],
      "metadata": {
        "id": "mb1sgN4VfcfR"
      }
    },
    {
      "cell_type": "code",
      "source": [
        "# f = open(\"sample.txt\", 'w')\n",
        "# f.write(\"hello world!\")\n",
        "# f.close()\n",
        "\n",
        "# with open(\"sample.txt\", 'w') as f:\n",
        "#     f.write(\"hello world!\")"
      ],
      "metadata": {
        "id": "CMPYBtCzffKo"
      },
      "execution_count": 15,
      "outputs": []
    },
    {
      "cell_type": "code",
      "source": [
        "# with using_config(\"enable_backprop\", False):\n",
        "#     x = Variable(np.array(2.0))\n",
        "#     y = square(x)"
      ],
      "metadata": {
        "id": "uHvfDnhthjVl"
      },
      "execution_count": 16,
      "outputs": []
    },
    {
      "cell_type": "code",
      "source": [
        "import contextlib\n",
        "\n",
        "@contextlib.contextmanager\n",
        "def config_test():\n",
        "    print(\"start\")  # 전처리\n",
        "    try:\n",
        "        yield\n",
        "    finally:\n",
        "        print(\"done\")  # 후처리\n",
        "\n",
        "with config_test():\n",
        "    print(\"process...\")"
      ],
      "metadata": {
        "colab": {
          "base_uri": "https://localhost:8080/"
        },
        "id": "zSi3P6yYhzSM",
        "outputId": "db87acaa-208c-427a-c169-f35f3bbb8e47"
      },
      "execution_count": 17,
      "outputs": [
        {
          "output_type": "stream",
          "name": "stdout",
          "text": [
            "start\n",
            "process...\n",
            "done\n"
          ]
        }
      ]
    },
    {
      "cell_type": "code",
      "source": [
        "import contextlib\n",
        "\n",
        "@contextlib.contextmanager\n",
        "def using_config(name, value):\n",
        "    old_value = getattr(Config, name)\n",
        "    setattr(Config, name, value)\n",
        "    try:\n",
        "        yield\n",
        "    finally:\n",
        "        setattr(Config, name, old_value)"
      ],
      "metadata": {
        "id": "iRCHZasrixTO"
      },
      "execution_count": 18,
      "outputs": []
    },
    {
      "cell_type": "code",
      "source": [
        "with using_config(\"enable_backprop\", False):\n",
        "    x = Variable(np.array(2.0))\n",
        "    y = square(x)"
      ],
      "metadata": {
        "id": "IjnQmIRrjOrq"
      },
      "execution_count": 19,
      "outputs": []
    },
    {
      "cell_type": "code",
      "source": [
        "def no_grad():\n",
        "    return using_config(\"enable_backprop\", False)"
      ],
      "metadata": {
        "id": "gP2ZPR5UjUhZ"
      },
      "execution_count": 20,
      "outputs": []
    },
    {
      "cell_type": "code",
      "source": [
        "with no_grad():\n",
        "    x = Variable(np.array(2.0))\n",
        "    y = square(x)"
      ],
      "metadata": {
        "id": "iYOpavK2ji_c"
      },
      "execution_count": 21,
      "outputs": []
    }
  ]
}