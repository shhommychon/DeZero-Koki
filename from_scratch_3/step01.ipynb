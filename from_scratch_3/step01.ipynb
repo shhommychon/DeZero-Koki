{
    "nbformat": 4,
    "nbformat_minor": 0,
    "metadata": {
        "colab": {
            "provenance": [],
            "authorship_tag": "ABX9TyOfrzoAbD2rLp81XvlGt65e"
        },
        "kernelspec": {
            "name": "python3",
            "display_name": "Python 3"
        },
        "language_info": {
            "name": "python"
        }
    },
    "cells": [
        {
            "cell_type": "markdown",
            "source": [
                "[![Open In Colab](https://colab.research.google.com/assets/colab-badge.svg)](https://colab.research.google.com/github/shhommychon/DeZero-Koki/blob/master/from_scratch_3/step01.ipynb)"
            ],
            "metadata": {
                "id": "tljHQ_kCyCDk"
            }
        },
        {
            "cell_type": "markdown",
            "source": [
                "# 제1고지 미분 자동 계산"
            ],
            "metadata": {
                "id": "4tRTGZRKzkVm"
            }
        },
        {
            "cell_type": "markdown",
            "source": [
                "## 1단계 상자로서의 변수"
            ],
            "metadata": {
                "id": "ZmkXFiD-zo0P"
            }
        },
        {
            "cell_type": "markdown",
            "source": [
                "### 1.1 변수란"
            ],
            "metadata": {
                "id": "0WuK-EOF0YJa"
            }
        },
        {
            "cell_type": "code",
            "source": [],
            "metadata": {
                "id": "QZhpFJie0cUU",
                "executionInfo": {
                    "status": "ok",
                    "timestamp": 1705921452027,
                    "user_tz": -540,
                    "elapsed": 10,
                    "user": {
                        "displayName": "",
                        "userId": ""
                    }
                }
            },
            "execution_count": null,
            "outputs": []
        },
        {
            "cell_type": "markdown",
            "source": [
                "### 1.2 Variable 클래스 구현"
            ],
            "metadata": {
                "id": "iCHpH5TE0UfE"
            }
        },
        {
            "cell_type": "code",
            "execution_count": 1,
            "metadata": {
                "id": "YiYi9LKcx6BL",
                "executionInfo": {
                    "status": "ok",
                    "timestamp": 1705921452027,
                    "user_tz": -540,
                    "elapsed": 9,
                    "user": {
                        "displayName": "",
                        "userId": ""
                    }
                }
            },
            "outputs": [],
            "source": [
                "class Variable:\n",
                "    def __init__(self, data):\n",
                "        self.data = data"
            ]
        },
        {
            "cell_type": "code",
            "source": [
                "import numpy as np\n",
                "\n",
                "data = np.array(1.0)\n",
                "x = Variable(data)\n",
                "print(x.data)"
            ],
            "metadata": {
                "colab": {
                    "base_uri": "https://localhost:8080/"
                },
                "id": "KrgrMIDO0LTW",
                "executionInfo": {
                    "status": "ok",
                    "timestamp": 1705921452027,
                    "user_tz": -540,
                    "elapsed": 8,
                    "user": {
                        "displayName": "",
                        "userId": ""
                    }
                },
                "outputId": "6775e157-c979-4c13-aa1c-b70908f3925f"
            },
            "execution_count": 2,
            "outputs": [
                {
                    "output_type": "stream",
                    "name": "stdout",
                    "text": [
                        "1.0\n"
                    ]
                }
            ]
        },
        {
            "cell_type": "code",
            "source": [
                "x.data = np.array(2.0)\n",
                "print(x.data)"
            ],
            "metadata": {
                "colab": {
                    "base_uri": "https://localhost:8080/"
                },
                "id": "12nAtWt10dHK",
                "executionInfo": {
                    "status": "ok",
                    "timestamp": 1705921452027,
                    "user_tz": -540,
                    "elapsed": 7,
                    "user": {
                        "displayName": "",
                        "userId": ""
                    }
                },
                "outputId": "f0cfe44f-c722-4efe-ee57-17de49919cda"
            },
            "execution_count": 3,
            "outputs": [
                {
                    "output_type": "stream",
                    "name": "stdout",
                    "text": [
                        "2.0\n"
                    ]
                }
            ]
        },
        {
            "cell_type": "markdown",
            "source": [
                "### 1.3 [보충] 넘파이의 다차원 배열"
            ],
            "metadata": {
                "id": "uhpgL3L41ZCS"
            }
        },
        {
            "cell_type": "code",
            "source": [
                "import numpy as np\n",
                "x = np.array(1)\n",
                "x.ndim"
            ],
            "metadata": {
                "colab": {
                    "base_uri": "https://localhost:8080/"
                },
                "id": "IvD8akv61Y2_",
                "executionInfo": {
                    "status": "ok",
                    "timestamp": 1705921452027,
                    "user_tz": -540,
                    "elapsed": 5,
                    "user": {
                        "displayName": "",
                        "userId": ""
                    }
                },
                "outputId": "8ba8bb97-3903-44ed-b932-59a2687931ab"
            },
            "execution_count": 4,
            "outputs": [
                {
                    "output_type": "execute_result",
                    "data": {
                        "text/plain": [
                            "0"
                        ]
                    },
                    "metadata": {},
                    "execution_count": 4
                }
            ]
        },
        {
            "cell_type": "code",
            "source": [
                "x = np.array([1, 2, 3])\n",
                "x.ndim"
            ],
            "metadata": {
                "colab": {
                    "base_uri": "https://localhost:8080/"
                },
                "id": "6dwttbuS1iuP",
                "executionInfo": {
                    "status": "ok",
                    "timestamp": 1705921452028,
                    "user_tz": -540,
                    "elapsed": 5,
                    "user": {
                        "displayName": "",
                        "userId": ""
                    }
                },
                "outputId": "702136c4-c23e-4b31-c5c9-02f41ce20142"
            },
            "execution_count": 5,
            "outputs": [
                {
                    "output_type": "execute_result",
                    "data": {
                        "text/plain": [
                            "1"
                        ]
                    },
                    "metadata": {},
                    "execution_count": 5
                }
            ]
        },
        {
            "cell_type": "code",
            "source": [
                "x = np.array([[1, 2, 3],\n",
                "              [4, 5, 6]])\n",
                "x.ndim"
            ],
            "metadata": {
                "colab": {
                    "base_uri": "https://localhost:8080/"
                },
                "id": "UZ5me9r91oPF",
                "executionInfo": {
                    "status": "ok",
                    "timestamp": 1705921452028,
                    "user_tz": -540,
                    "elapsed": 5,
                    "user": {
                        "displayName": "",
                        "userId": ""
                    }
                },
                "outputId": "6046bd92-52e9-457d-bda9-4209aea9177a"
            },
            "execution_count": 6,
            "outputs": [
                {
                    "output_type": "execute_result",
                    "data": {
                        "text/plain": [
                            "2"
                        ]
                    },
                    "metadata": {},
                    "execution_count": 6
                }
            ]
        }
    ]
}