{
    "nbformat": 4,
    "nbformat_minor": 0,
    "metadata": {
        "colab": {
            "provenance": [],
            "authorship_tag": "ABX9TyN2TpCE70NX32MPjlsOeNe4"
        },
        "kernelspec": {
            "name": "python3",
            "display_name": "Python 3"
        },
        "language_info": {
            "name": "python"
        }
    },
    "cells": [
        {
            "cell_type": "markdown",
            "source": [
                "[![Open In Colab](https://colab.research.google.com/assets/colab-badge.svg)](https://colab.research.google.com/github/shhommychon/DeZero-Koki/blob/master/from_scratch_3/step12.ipynb)"
            ],
            "metadata": {
                "id": "tljHQ_kCyCDk"
            }
        },
        {
            "cell_type": "markdown",
            "source": [
                "# 제1고지 미분 자동 계산"
            ],
            "metadata": {
                "id": "4tRTGZRKzkVm"
            }
        },
        {
            "cell_type": "code",
            "source": [
                "import numpy as np\n",
                "\n",
                "\n",
                "class Variable:\n",
                "    def __init__(self, data):\n",
                "        if data is not None:\n",
                "            if not isinstance(data, np.ndarray):\n",
                "                raise TypeError(f\"{type(data)}은(는) 지원하지 않습니다.\")\n",
                "\n",
                "        self.data = data\n",
                "        self.grad = None\n",
                "        self.creator = None\n",
                "\n",
                "    def set_creator(self, func):\n",
                "        self.creator = func\n",
                "\n",
                "    def backward(self):\n",
                "        if self.grad is None:\n",
                "            self.grad = np.ones_like(self.data)\n",
                "\n",
                "        funcs = [self.creator]\n",
                "        while funcs:\n",
                "            f = funcs.pop()\n",
                "            x, y = f.input, f.output\n",
                "            x.grad = f.backward(y.grad)\n",
                "\n",
                "            if x.creator is not None:\n",
                "                funcs.append(x.creator)\n"
            ],
            "metadata": {
                "id": "ENLW2_tmFqtd",
                "executionInfo": {
                    "status": "ok",
                    "timestamp": 1706538539403,
                    "user_tz": -540,
                    "elapsed": 386,
                    "user": {
                        "displayName": "",
                        "userId": ""
                    }
                }
            },
            "execution_count": 1,
            "outputs": []
        },
        {
            "cell_type": "code",
            "source": [
                "import numpy as np\n",
                "\n",
                "\n",
                "def as_array(x):\n",
                "    if np.isscalar(x):\n",
                "        return np.array(x)\n",
                "    return x\n"
            ],
            "metadata": {
                "id": "39laKqc7G2zl",
                "executionInfo": {
                    "status": "ok",
                    "timestamp": 1706538539403,
                    "user_tz": -540,
                    "elapsed": 11,
                    "user": {
                        "displayName": "",
                        "userId": ""
                    }
                }
            },
            "execution_count": 2,
            "outputs": []
        },
        {
            "cell_type": "code",
            "source": [
                "# class Square(Function):\n",
                "#     def forward(self, x):\n",
                "#         return x ** 2\n",
                "\n",
                "#     def backward(self, gy):\n",
                "#         x = self.input.data\n",
                "#         gx = 2 * x * gy\n",
                "#         return gx\n",
                "\n",
                "\n",
                "# class Exp(Function):\n",
                "#     def forward(self, x):\n",
                "#         return np.exp(x)\n",
                "\n",
                "#     def backward(self, gy):\n",
                "#         x = self.input.data\n",
                "#         gx = np.exp(x) * gy\n",
                "#         return gx\n",
                "\n",
                "\n",
                "# def square(x):\n",
                "#     return Square()(x)  # 한 줄로 작성\n",
                "\n",
                "\n",
                "# def exp(x):\n",
                "#     return Exp()(x)\n"
            ],
            "metadata": {
                "id": "0tjotk1THBIw",
                "executionInfo": {
                    "status": "ok",
                    "timestamp": 1706538539403,
                    "user_tz": -540,
                    "elapsed": 10,
                    "user": {
                        "displayName": "",
                        "userId": ""
                    }
                }
            },
            "execution_count": 3,
            "outputs": []
        },
        {
            "cell_type": "code",
            "source": [
                "def numerical_diff(f, x, eps=1e-4):\n",
                "    \"\"\"\n",
                "\n",
                "      param:\n",
                "        f (Function): 미분의 대상이 되는 함수\n",
                "        x (Variable): 미분을 계산하는 변수\n",
                "        eps (float): 작은 값\n",
                "    \"\"\"\n",
                "    x0 = Variable(x.data - eps)\n",
                "    x1 = Variable(x.data + eps)\n",
                "    y0 = f(x0)\n",
                "    y1 = f(x1)\n",
                "    return (y1.data - y0.data) / (2 * eps)"
            ],
            "metadata": {
                "id": "6R-wCS0HKPSl",
                "executionInfo": {
                    "status": "ok",
                    "timestamp": 1706538539403,
                    "user_tz": -540,
                    "elapsed": 10,
                    "user": {
                        "displayName": "",
                        "userId": ""
                    }
                }
            },
            "execution_count": 4,
            "outputs": []
        },
        {
            "cell_type": "markdown",
            "source": [
                "# 제2고지 자연스러운 코드로"
            ],
            "metadata": {
                "id": "S4Byz6xBg7Fa"
            }
        },
        {
            "cell_type": "markdown",
            "source": [
                "## 11단계 가변 길이 인수(순전파 편)"
            ],
            "metadata": {
                "id": "asGSdga7hMnz"
            }
        },
        {
            "cell_type": "code",
            "source": [],
            "metadata": {
                "id": "e14gjXxIkLO8",
                "executionInfo": {
                    "status": "ok",
                    "timestamp": 1706538539404,
                    "user_tz": -540,
                    "elapsed": 11,
                    "user": {
                        "displayName": "",
                        "userId": ""
                    }
                }
            },
            "execution_count": 4,
            "outputs": []
        },
        {
            "cell_type": "markdown",
            "source": [
                "## 12단계 가변 길이 인수(개선 편)"
            ],
            "metadata": {
                "id": "4KAaNtzbku-t"
            }
        },
        {
            "cell_type": "markdown",
            "source": [
                "### 12.1 첫 번째 개선: 함수를 사용하기 쉽게"
            ],
            "metadata": {
                "id": "QUu9_IAslZjs"
            }
        },
        {
            "cell_type": "code",
            "source": [
                "class Function:\n",
                "    \"\"\"\n",
                "\n",
                "    * Function 클래스는 기반 클래스로서, 모든 함수에 공통되는 기능을 구현합니다.\n",
                "    * 구체적인 함수는 Function 클래스를 상속한 클래스에서 구현합니다.\n",
                "    \"\"\"\n",
                "    def __call__(self, *inputs):  # (1)\n",
                "        xs = [ x.data for x in inputs ]\n",
                "        ys = self.forward(xs)\n",
                "        outputs = [ Variable(as_array(y)) for y in ys ]\n",
                "\n",
                "        for output in outputs:\n",
                "            output.set_creator(self)\n",
                "        self.inputs = inputs\n",
                "        self.outputs = outputs\n",
                "        return outputs if len(outputs) > 1 else outputs[0]  # (2)\n",
                "\n",
                "    def forward(self, xs):\n",
                "        raise NotImplementedError()\n",
                "\n",
                "    def backward(self, gys):\n",
                "        raise NotImplementedError()"
            ],
            "metadata": {
                "id": "8nhnHaMQkztU",
                "executionInfo": {
                    "status": "ok",
                    "timestamp": 1706538539404,
                    "user_tz": -540,
                    "elapsed": 11,
                    "user": {
                        "displayName": "",
                        "userId": ""
                    }
                }
            },
            "execution_count": 5,
            "outputs": []
        },
        {
            "cell_type": "code",
            "source": [
                "def f(*x): print(x)\n",
                "\n",
                "f(1, 2, 3)\n",
                "f(1, 2, 3, 4, 5, 6)"
            ],
            "metadata": {
                "colab": {
                    "base_uri": "https://localhost:8080/"
                },
                "id": "0HievhQalzsW",
                "executionInfo": {
                    "status": "ok",
                    "timestamp": 1706538539404,
                    "user_tz": -540,
                    "elapsed": 10,
                    "user": {
                        "displayName": "",
                        "userId": ""
                    }
                },
                "outputId": "1a48e437-91ed-427e-af02-141ed3109069"
            },
            "execution_count": 6,
            "outputs": [
                {
                    "output_type": "stream",
                    "name": "stdout",
                    "text": [
                        "(1, 2, 3)\n",
                        "(1, 2, 3, 4, 5, 6)\n"
                    ]
                }
            ]
        },
        {
            "cell_type": "code",
            "source": [
                "class Add(Function):\n",
                "    def forward(self, xs):\n",
                "        x0, x1 = xs\n",
                "        y = x0 + x1\n",
                "        return y,"
            ],
            "metadata": {
                "id": "tCatqhp7mSat",
                "executionInfo": {
                    "status": "ok",
                    "timestamp": 1706538539404,
                    "user_tz": -540,
                    "elapsed": 7,
                    "user": {
                        "displayName": "",
                        "userId": ""
                    }
                }
            },
            "execution_count": 7,
            "outputs": []
        },
        {
            "cell_type": "code",
            "source": [
                "import numpy as np\n",
                "\n",
                "x0 = Variable(np.array(2))\n",
                "x1 = Variable(np.array(3))\n",
                "f = Add()\n",
                "y = f(x0, x1)\n",
                "print(y.data)"
            ],
            "metadata": {
                "colab": {
                    "base_uri": "https://localhost:8080/"
                },
                "id": "0XbbZJQzmBSX",
                "executionInfo": {
                    "status": "ok",
                    "timestamp": 1706538539404,
                    "user_tz": -540,
                    "elapsed": 7,
                    "user": {
                        "displayName": "",
                        "userId": ""
                    }
                },
                "outputId": "b2318b8e-423e-457e-cdb9-58ec5be583d2"
            },
            "execution_count": 8,
            "outputs": [
                {
                    "output_type": "stream",
                    "name": "stdout",
                    "text": [
                        "5\n"
                    ]
                }
            ]
        },
        {
            "cell_type": "markdown",
            "source": [
                "### 12.2 두 번째 개선: 함수를 구현하기 쉽도록"
            ],
            "metadata": {
                "id": "5gbDAGNmmXGv"
            }
        },
        {
            "cell_type": "code",
            "source": [
                "class Function:\n",
                "    \"\"\"\n",
                "\n",
                "    * Function 클래스는 기반 클래스로서, 모든 함수에 공통되는 기능을 구현합니다.\n",
                "    * 구체적인 함수는 Function 클래스를 상속한 클래스에서 구현합니다.\n",
                "    \"\"\"\n",
                "    def __call__(self, *inputs):\n",
                "        xs = [ x.data for x in inputs ]\n",
                "        ys = self.forward(*xs)  # (1)\n",
                "        if not isinstance(ys, tuple): ys = ys,  # (2)\n",
                "        outputs = [ Variable(as_array(y)) for y in ys ]\n",
                "\n",
                "        for output in outputs:\n",
                "            output.set_creator(self)\n",
                "        self.inputs = inputs\n",
                "        self.outputs = outputs\n",
                "        return outputs if len(outputs) > 1 else outputs[0]\n",
                "\n",
                "    def forward(self, xs):\n",
                "        raise NotImplementedError()\n",
                "\n",
                "    def backward(self, gys):\n",
                "        raise NotImplementedError()"
            ],
            "metadata": {
                "id": "oRQrnm1Dmg5h",
                "executionInfo": {
                    "status": "ok",
                    "timestamp": 1706538539404,
                    "user_tz": -540,
                    "elapsed": 6,
                    "user": {
                        "displayName": "",
                        "userId": ""
                    }
                }
            },
            "execution_count": 9,
            "outputs": []
        },
        {
            "cell_type": "code",
            "source": [
                "class Add(Function):\n",
                "    def forward(self, x0, x1):\n",
                "        y = x0 + x1\n",
                "        return y"
            ],
            "metadata": {
                "id": "ZaSMmQAEnLqe",
                "executionInfo": {
                    "status": "ok",
                    "timestamp": 1706538539404,
                    "user_tz": -540,
                    "elapsed": 5,
                    "user": {
                        "displayName": "",
                        "userId": ""
                    }
                }
            },
            "execution_count": 10,
            "outputs": []
        },
        {
            "cell_type": "markdown",
            "source": [
                "### 12.3 add 함수 구현"
            ],
            "metadata": {
                "id": "jO0RoaPmnSSc"
            }
        },
        {
            "cell_type": "code",
            "source": [
                "def add(x0, x1):\n",
                "    return Add()(x0, x1)"
            ],
            "metadata": {
                "id": "GiMK7YmAnVDx",
                "executionInfo": {
                    "status": "ok",
                    "timestamp": 1706538539404,
                    "user_tz": -540,
                    "elapsed": 5,
                    "user": {
                        "displayName": "",
                        "userId": ""
                    }
                }
            },
            "execution_count": 11,
            "outputs": []
        },
        {
            "cell_type": "code",
            "source": [
                "import numpy as np\n",
                "\n",
                "x0 = Variable(np.array(2))\n",
                "x1 = Variable(np.array(3))\n",
                "y = add(x0, x1)  # Add 클래스 생성 과정이 감춰짐\n",
                "print(y.data)"
            ],
            "metadata": {
                "colab": {
                    "base_uri": "https://localhost:8080/"
                },
                "id": "HR9Usin_nfGg",
                "executionInfo": {
                    "status": "ok",
                    "timestamp": 1706538539404,
                    "user_tz": -540,
                    "elapsed": 5,
                    "user": {
                        "displayName": "",
                        "userId": ""
                    }
                },
                "outputId": "15e68d71-e6b2-4312-ab5a-f4989ae38867"
            },
            "execution_count": 12,
            "outputs": [
                {
                    "output_type": "stream",
                    "name": "stdout",
                    "text": [
                        "5\n"
                    ]
                }
            ]
        }
    ]
}