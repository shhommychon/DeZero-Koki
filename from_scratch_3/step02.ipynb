{
    "nbformat": 4,
    "nbformat_minor": 0,
    "metadata": {
        "colab": {
            "provenance": [],
            "authorship_tag": "ABX9TyOjTxrV8yniKRZQ8udOv6F9"
        },
        "kernelspec": {
            "name": "python3",
            "display_name": "Python 3"
        },
        "language_info": {
            "name": "python"
        }
    },
    "cells": [
        {
            "cell_type": "markdown",
            "source": [
                "[![Open In Colab](https://colab.research.google.com/assets/colab-badge.svg)](https://colab.research.google.com/github/shhommychon/DeZero-Koki/blob/master/from_scratch_3/step02.ipynb)"
            ],
            "metadata": {
                "id": "tljHQ_kCyCDk"
            }
        },
        {
            "cell_type": "markdown",
            "source": [
                "# 제1고지 미분 자동 계산"
            ],
            "metadata": {
                "id": "4tRTGZRKzkVm"
            }
        },
        {
            "cell_type": "markdown",
            "source": [
                "## 1단계 상자로서의 변수"
            ],
            "metadata": {
                "id": "ULNPptMZujF1"
            }
        },
        {
            "cell_type": "code",
            "source": [
                "class Variable:\n",
                "    def __init__(self, data):\n",
                "        self.data = data"
            ],
            "metadata": {
                "id": "jdlYcPgEufTY",
                "executionInfo": {
                    "status": "ok",
                    "timestamp": 1706020212845,
                    "user_tz": -540,
                    "elapsed": 10,
                    "user": {
                        "displayName": "",
                        "userId": ""
                    }
                }
            },
            "execution_count": 1,
            "outputs": []
        },
        {
            "cell_type": "markdown",
            "source": [
                "## 2단계 변수를 낳는 함수"
            ],
            "metadata": {
                "id": "ZmkXFiD-zo0P"
            }
        },
        {
            "cell_type": "markdown",
            "source": [
                "### 2.1 함수란"
            ],
            "metadata": {
                "id": "0WuK-EOF0YJa"
            }
        },
        {
            "cell_type": "code",
            "source": [],
            "metadata": {
                "id": "QZhpFJie0cUU",
                "executionInfo": {
                    "status": "ok",
                    "timestamp": 1706020212845,
                    "user_tz": -540,
                    "elapsed": 9,
                    "user": {
                        "displayName": "",
                        "userId": ""
                    }
                }
            },
            "execution_count": 1,
            "outputs": []
        },
        {
            "cell_type": "markdown",
            "source": [
                "### 2.2 Function 클래스 구현"
            ],
            "metadata": {
                "id": "iCHpH5TE0UfE"
            }
        },
        {
            "cell_type": "code",
            "execution_count": 2,
            "metadata": {
                "id": "YiYi9LKcx6BL",
                "executionInfo": {
                    "status": "ok",
                    "timestamp": 1706020212846,
                    "user_tz": -540,
                    "elapsed": 9,
                    "user": {
                        "displayName": "",
                        "userId": ""
                    }
                }
            },
            "outputs": [],
            "source": [
                "class Function:\n",
                "    def __call__(self, input):\n",
                "        x = input.data  # 데이터를 꺼낸다.\n",
                "        y = x ** 2  # 실제 계산\n",
                "        output = Variable(y)  # Variable 형태로 되돌린다.\n",
                "        return output"
            ]
        },
        {
            "cell_type": "markdown",
            "source": [
                "### 2.3 Function 클래스 이용"
            ],
            "metadata": {
                "id": "uhpgL3L41ZCS"
            }
        },
        {
            "cell_type": "code",
            "source": [
                "import numpy as np\n",
                "\n",
                "x = Variable(np.array(10))\n",
                "f = Function()\n",
                "y = f(x)\n",
                "\n",
                "print(type(y))\n",
                "print(y.data)"
            ],
            "metadata": {
                "colab": {
                    "base_uri": "https://localhost:8080/"
                },
                "id": "IvD8akv61Y2_",
                "executionInfo": {
                    "status": "ok",
                    "timestamp": 1706020212846,
                    "user_tz": -540,
                    "elapsed": 9,
                    "user": {
                        "displayName": "",
                        "userId": ""
                    }
                },
                "outputId": "90c57ebb-80b5-4893-e4c3-ee4aaa67182b"
            },
            "execution_count": 3,
            "outputs": [
                {
                    "output_type": "stream",
                    "name": "stdout",
                    "text": [
                        "<class '__main__.Variable'>\n",
                        "100\n"
                    ]
                }
            ]
        },
        {
            "cell_type": "code",
            "source": [
                "class Function:\n",
                "    \"\"\"\n",
                "\n",
                "    * Function 클래스는 기반 클래스로서, 모든 함수에 공통되는 기능을 구현합니다.\n",
                "    * 구체적인 함수는 Function 클래스를 상속한 클래스에서 구현합니다.\n",
                "    \"\"\"\n",
                "    def __call__(self, input):\n",
                "        x = input.data  # 데이터를 꺼낸다.\n",
                "        y = self.forward(x)  # 구체적인 계산은 forward 메서드에서 한다.\n",
                "        output = Variable(y)  # Variable 형태로 되돌린다.\n",
                "        return output\n",
                "\n",
                "    def forward(self, x):\n",
                "        raise NotImplementedError()"
            ],
            "metadata": {
                "id": "6dwttbuS1iuP",
                "executionInfo": {
                    "status": "ok",
                    "timestamp": 1706020212846,
                    "user_tz": -540,
                    "elapsed": 7,
                    "user": {
                        "displayName": "",
                        "userId": ""
                    }
                }
            },
            "execution_count": 4,
            "outputs": []
        },
        {
            "cell_type": "code",
            "source": [
                "class Square(Function):\n",
                "    def forward(self, x):\n",
                "        return x ** 2"
            ],
            "metadata": {
                "id": "UZ5me9r91oPF",
                "executionInfo": {
                    "status": "ok",
                    "timestamp": 1706020212846,
                    "user_tz": -540,
                    "elapsed": 6,
                    "user": {
                        "displayName": "",
                        "userId": ""
                    }
                }
            },
            "execution_count": 5,
            "outputs": []
        },
        {
            "cell_type": "code",
            "source": [
                "x = Variable(np.array(10))\n",
                "f = Square()\n",
                "y = f(x)\n",
                "print(type(y))\n",
                "print(y.data)"
            ],
            "metadata": {
                "colab": {
                    "base_uri": "https://localhost:8080/"
                },
                "id": "H1BC0hYBuJM3",
                "executionInfo": {
                    "status": "ok",
                    "timestamp": 1706020212846,
                    "user_tz": -540,
                    "elapsed": 6,
                    "user": {
                        "displayName": "",
                        "userId": ""
                    }
                },
                "outputId": "db5f3cad-7c95-4e98-c44d-9de2f047316d"
            },
            "execution_count": 6,
            "outputs": [
                {
                    "output_type": "stream",
                    "name": "stdout",
                    "text": [
                        "<class '__main__.Variable'>\n",
                        "100\n"
                    ]
                }
            ]
        }
    ]
}