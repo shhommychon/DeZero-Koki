{
  "nbformat": 4,
  "nbformat_minor": 0,
  "metadata": {
    "colab": {
      "provenance": []
    },
    "kernelspec": {
      "name": "python3",
      "display_name": "Python 3"
    },
    "language_info": {
      "name": "python"
    }
  },
  "cells": [
    {
      "cell_type": "markdown",
      "source": [
        "[![Open In Colab](https://colab.research.google.com/assets/colab-badge.svg)](https://colab.research.google.com/github/shhommychon/DeZero-Koki/blob/master/from_scratch_3/step23.ipynb)"
      ],
      "metadata": {
        "id": "tljHQ_kCyCDk"
      }
    },
    {
      "cell_type": "markdown",
      "source": [
        "# 제1고지 미분 자동 계산"
      ],
      "metadata": {
        "id": "4tRTGZRKzkVm"
      }
    },
    {
      "cell_type": "code",
      "source": [
        "# class Exp(Function):\n",
        "#     def forward(self, x):\n",
        "#         return np.exp(x)\n",
        "\n",
        "#     def backward(self, gy):\n",
        "#         x = self.input.data\n",
        "#         gx = np.exp(x) * gy\n",
        "#         return gx\n",
        "\n",
        "\n",
        "# def exp(x):\n",
        "#     return Exp()(x)\n"
      ],
      "metadata": {
        "id": "0tjotk1THBIw"
      },
      "execution_count": 1,
      "outputs": []
    },
    {
      "cell_type": "code",
      "source": [
        "# def numerical_diff(f, x, eps=1e-4):\n",
        "#     \"\"\"\n",
        "\n",
        "#       param:\n",
        "#         f (Function): 미분의 대상이 되는 함수\n",
        "#         x (Variable): 미분을 계산하는 변수\n",
        "#         eps (float): 작은 값\n",
        "#     \"\"\"\n",
        "#     x0 = Variable(x.data - eps)\n",
        "#     x1 = Variable(x.data + eps)\n",
        "#     y0 = f(x0)\n",
        "#     y1 = f(x1)\n",
        "#     return (y1.data - y0.data) / (2 * eps)"
      ],
      "metadata": {
        "id": "6R-wCS0HKPSl"
      },
      "execution_count": 2,
      "outputs": []
    },
    {
      "cell_type": "markdown",
      "source": [
        "# 제2고지 자연스러운 코드로"
      ],
      "metadata": {
        "id": "S4Byz6xBg7Fa"
      }
    },
    {
      "cell_type": "markdown",
      "source": [
        "## 11단계 가변 길이 인수(순전파 편)"
      ],
      "metadata": {
        "id": "asGSdga7hMnz"
      }
    },
    {
      "cell_type": "code",
      "source": [],
      "metadata": {
        "id": "e14gjXxIkLO8"
      },
      "execution_count": 2,
      "outputs": []
    },
    {
      "cell_type": "markdown",
      "source": [
        "## 12단계 가변 길이 인수(개선 편)"
      ],
      "metadata": {
        "id": "4KAaNtzbku-t"
      }
    },
    {
      "cell_type": "code",
      "source": [],
      "metadata": {
        "id": "oRQrnm1Dmg5h"
      },
      "execution_count": 2,
      "outputs": []
    },
    {
      "cell_type": "markdown",
      "source": [
        "## 13단계 가변 길이 인수(역전파 편)"
      ],
      "metadata": {
        "id": "RMsSCNDIoV_h"
      }
    },
    {
      "cell_type": "code",
      "source": [],
      "metadata": {
        "id": "Ar1Aik1Qqx27"
      },
      "execution_count": 2,
      "outputs": []
    },
    {
      "cell_type": "markdown",
      "source": [
        "## 14단계 같은 변수 반복 사용"
      ],
      "metadata": {
        "id": "n1oBMPQVd8nj"
      }
    },
    {
      "cell_type": "code",
      "source": [],
      "metadata": {
        "id": "oDQKkjIaf10O"
      },
      "execution_count": 2,
      "outputs": []
    },
    {
      "cell_type": "markdown",
      "source": [
        "## 15단계 복잡한 계산 그래프(이론 편)"
      ],
      "metadata": {
        "id": "obUPPtCuv1Sw"
      }
    },
    {
      "cell_type": "code",
      "source": [],
      "metadata": {
        "id": "aVZ_w4fjv2e0"
      },
      "execution_count": 2,
      "outputs": []
    },
    {
      "cell_type": "markdown",
      "source": [
        "## 16단계 복잡한 계산 그래프(구현 편)"
      ],
      "metadata": {
        "id": "cszcSufvv2ua"
      }
    },
    {
      "cell_type": "code",
      "source": [],
      "metadata": {
        "id": "HhHicfa60Umc"
      },
      "execution_count": 2,
      "outputs": []
    },
    {
      "cell_type": "markdown",
      "source": [
        "## 17단계 메모리 관리와 순환 참조"
      ],
      "metadata": {
        "id": "9SJdzWiC5DVD"
      }
    },
    {
      "cell_type": "code",
      "source": [],
      "metadata": {
        "id": "MDmaZqRuJxOU"
      },
      "execution_count": 2,
      "outputs": []
    },
    {
      "cell_type": "markdown",
      "source": [
        "## 18단계 메모리 절약 모드"
      ],
      "metadata": {
        "id": "Uwa1-5XdXS9b"
      }
    },
    {
      "cell_type": "code",
      "source": [
        "# class Square(Function):\n",
        "#     def forward(self, x):\n",
        "#         return x ** 2\n",
        "\n",
        "#     def backward(self, gy):\n",
        "#         x = self.inputs[0].data\n",
        "#         gx = 2 * x * gy\n",
        "#         return gx\n",
        "\n",
        "\n",
        "# def square(x):\n",
        "#     return Square()(x)\n"
      ],
      "metadata": {
        "id": "U3Cy-Sj_d7-r"
      },
      "execution_count": 3,
      "outputs": []
    },
    {
      "cell_type": "markdown",
      "source": [
        "## 19단계 변수 사용성 개선"
      ],
      "metadata": {
        "id": "CGX4vW34nfj_"
      }
    },
    {
      "cell_type": "code",
      "source": [],
      "metadata": {
        "id": "KeuInx4AsjhO"
      },
      "execution_count": 3,
      "outputs": []
    },
    {
      "cell_type": "markdown",
      "source": [
        "## 20단계 연산자 오버로드(1)"
      ],
      "metadata": {
        "id": "iKpQzeVitplQ"
      }
    },
    {
      "cell_type": "code",
      "source": [],
      "metadata": {
        "id": "yPUd4m9JvZwq"
      },
      "execution_count": 3,
      "outputs": []
    },
    {
      "cell_type": "markdown",
      "source": [
        "## 21단계 연산자 오버로드(2)"
      ],
      "metadata": {
        "id": "ETqAUmHEx6dV"
      }
    },
    {
      "cell_type": "code",
      "source": [],
      "metadata": {
        "id": "SyBTDl9I1Xbo"
      },
      "execution_count": 3,
      "outputs": []
    },
    {
      "cell_type": "markdown",
      "source": [
        "## 22단계 연산자 오버로드(3)"
      ],
      "metadata": {
        "id": "Lry419kK3opQ"
      }
    },
    {
      "cell_type": "code",
      "source": [],
      "metadata": {
        "id": "hYIQTiG_7GOR"
      },
      "execution_count": 3,
      "outputs": []
    },
    {
      "cell_type": "markdown",
      "source": [
        "## 23단계 패키지로 정리"
      ],
      "metadata": {
        "id": "cp_ShDOU8WJC"
      }
    },
    {
      "cell_type": "markdown",
      "source": [
        "### 23.1 파일 구성"
      ],
      "metadata": {
        "id": "Ig0c1kYe8gO7"
      }
    },
    {
      "cell_type": "code",
      "source": [],
      "metadata": {
        "id": "6EQnlDft8i38"
      },
      "execution_count": 3,
      "outputs": []
    },
    {
      "cell_type": "markdown",
      "source": [
        "### 23.2 코어 클래스로 옮기기"
      ],
      "metadata": {
        "id": "TL-qrr9T8jLL"
      }
    },
    {
      "cell_type": "code",
      "source": [
        "!git clone https://github.com/shhommychon/DeZero-Koki.git\n",
        "\n",
        "import sys\n",
        "sys.path = [\"DeZero-Koki/\"] + sys.path"
      ],
      "metadata": {
        "colab": {
          "base_uri": "https://localhost:8080/"
        },
        "id": "YwjkdEs88mJi",
        "outputId": "00b5c869-77de-4b1b-cef9-ed1bda564840"
      },
      "execution_count": 4,
      "outputs": [
        {
          "output_type": "stream",
          "name": "stdout",
          "text": [
            "Cloning into 'DeZero-Koki'...\n",
            "remote: Enumerating objects: 94, done.\u001b[K\n",
            "remote: Counting objects: 100% (94/94), done.\u001b[K\n",
            "remote: Compressing objects: 100% (35/35), done.\u001b[K\n",
            "remote: Total 94 (delta 55), reused 82 (delta 43), pack-reused 0\u001b[K\n",
            "Receiving objects: 100% (94/94), 33.93 KiB | 4.24 MiB/s, done.\n",
            "Resolving deltas: 100% (55/55), done.\n"
          ]
        }
      ]
    },
    {
      "cell_type": "code",
      "source": [
        "import numpy as np\n",
        "from dezero.core_simple import Variable\n",
        "\n",
        "x = Variable(np.array(1.0))\n",
        "print(x)"
      ],
      "metadata": {
        "colab": {
          "base_uri": "https://localhost:8080/"
        },
        "id": "p0fqVBKj9o4m",
        "outputId": "cfc1a901-028f-4fff-aab3-939fdb764304"
      },
      "execution_count": 5,
      "outputs": [
        {
          "output_type": "stream",
          "name": "stdout",
          "text": [
            "variable(1.0)\n"
          ]
        }
      ]
    },
    {
      "cell_type": "markdown",
      "source": [
        "### 23.3 연산자 오버로드"
      ],
      "metadata": {
        "id": "Ses_EinwAH7t"
      }
    },
    {
      "cell_type": "code",
      "source": [
        "# dezero를 이용하는 사용자의 코드\n",
        "\n",
        "# from dezero.core_simple import Variable\n",
        "from dezero import Variable"
      ],
      "metadata": {
        "id": "9ZcN7TYRAMmv"
      },
      "execution_count": 6,
      "outputs": []
    }
  ]
}