{
    "nbformat": 4,
    "nbformat_minor": 0,
    "metadata": {
        "colab": {
            "provenance": [],
            "authorship_tag": "ABX9TyOQs8C//4QJNa8ugtTmFKd8"
        },
        "kernelspec": {
            "name": "python3",
            "display_name": "Python 3"
        },
        "language_info": {
            "name": "python"
        }
    },
    "cells": [
        {
            "cell_type": "markdown",
            "source": [
                "[![Open In Colab](https://colab.research.google.com/assets/colab-badge.svg)](https://colab.research.google.com/github/shhommychon/DeZero-Koki/blob/master/from_scratch_3/step04.ipynb)"
            ],
            "metadata": {
                "id": "tljHQ_kCyCDk"
            }
        },
        {
            "cell_type": "markdown",
            "source": [
                "# 제1고지 미분 자동 계산"
            ],
            "metadata": {
                "id": "4tRTGZRKzkVm"
            }
        },
        {
            "cell_type": "markdown",
            "source": [
                "## 1단계 상자로서의 변수"
            ],
            "metadata": {
                "id": "ULNPptMZujF1"
            }
        },
        {
            "cell_type": "code",
            "source": [
                "class Variable:\n",
                "    def __init__(self, data):\n",
                "        self.data = data"
            ],
            "metadata": {
                "id": "jdlYcPgEufTY",
                "executionInfo": {
                    "status": "ok",
                    "timestamp": 1706108977864,
                    "user_tz": -540,
                    "elapsed": 8,
                    "user": {
                        "displayName": "",
                        "userId": ""
                    }
                }
            },
            "execution_count": 1,
            "outputs": []
        },
        {
            "cell_type": "markdown",
            "source": [
                "## 2단계 변수를 낳는 함수"
            ],
            "metadata": {
                "id": "ZmkXFiD-zo0P"
            }
        },
        {
            "cell_type": "code",
            "source": [
                "class Function:\n",
                "    \"\"\"\n",
                "\n",
                "    * Function 클래스는 기반 클래스로서, 모든 함수에 공통되는 기능을 구현합니다.\n",
                "    * 구체적인 함수는 Function 클래스를 상속한 클래스에서 구현합니다.\n",
                "    \"\"\"\n",
                "    def __call__(self, input):\n",
                "        x = input.data  # 데이터를 꺼낸다.\n",
                "        y = self.forward(x)  # 구체적인 계산은 forward 메서드에서 한다.\n",
                "        output = Variable(y)  # Variable 형태로 되돌린다.\n",
                "        return output\n",
                "\n",
                "    def forward(self, x):\n",
                "        raise NotImplementedError()"
            ],
            "metadata": {
                "id": "6dwttbuS1iuP",
                "executionInfo": {
                    "status": "ok",
                    "timestamp": 1706108977865,
                    "user_tz": -540,
                    "elapsed": 9,
                    "user": {
                        "displayName": "",
                        "userId": ""
                    }
                }
            },
            "execution_count": 2,
            "outputs": []
        },
        {
            "cell_type": "code",
            "source": [
                "class Square(Function):\n",
                "    def forward(self, x):\n",
                "        return x ** 2"
            ],
            "metadata": {
                "id": "UZ5me9r91oPF",
                "executionInfo": {
                    "status": "ok",
                    "timestamp": 1706108977865,
                    "user_tz": -540,
                    "elapsed": 9,
                    "user": {
                        "displayName": "",
                        "userId": ""
                    }
                }
            },
            "execution_count": 3,
            "outputs": []
        },
        {
            "cell_type": "markdown",
            "source": [
                "## 3단계 함수 연결"
            ],
            "metadata": {
                "id": "E21JKUaPu8Uq"
            }
        },
        {
            "cell_type": "code",
            "source": [
                "import numpy as np\n",
                "\n",
                "class Exp(Function):\n",
                "    def forward(self, x):\n",
                "        return np.exp(x)"
            ],
            "metadata": {
                "id": "uHkBpSkWvAkf",
                "executionInfo": {
                    "status": "ok",
                    "timestamp": 1706108977865,
                    "user_tz": -540,
                    "elapsed": 8,
                    "user": {
                        "displayName": "",
                        "userId": ""
                    }
                }
            },
            "execution_count": 4,
            "outputs": []
        },
        {
            "cell_type": "markdown",
            "source": [
                "## 4단계 수치 미분"
            ],
            "metadata": {
                "id": "SuY18rwB7-Rl"
            }
        },
        {
            "cell_type": "markdown",
            "source": [
                "### 4.1 미분이란"
            ],
            "metadata": {
                "id": "U7vxS8nt8H4G"
            }
        },
        {
            "cell_type": "code",
            "source": [],
            "metadata": {
                "id": "-vce965q7-AQ",
                "executionInfo": {
                    "status": "ok",
                    "timestamp": 1706108977865,
                    "user_tz": -540,
                    "elapsed": 8,
                    "user": {
                        "displayName": "",
                        "userId": ""
                    }
                }
            },
            "execution_count": 4,
            "outputs": []
        },
        {
            "cell_type": "markdown",
            "source": [
                "### 4.2 수치 미분 구현\n",
                "\n",
                "- 컴퓨터는 극한을 취급할 수 없어 매우 작은 차이를 의미하는 값을 이용하여 함수의 변화량을 구하며, 이를 수치 미분(numerical differentiation)이라고 한다.\n",
                "- 근사 오차를 줄이는 방법으로는 중앙차분(centered difference)이 있다.\n",
                "  - 전진차분(forward difference)보다 중앙차분이 실제 미분값에 더 가깝다. \\(증명: T. Young, M. J. Mohlenkamp. \"[Introduction to Numerical Methods and Matlab Programming for Engineers - Lecture 27: Numerical Differentiation](http://www.ohiouniversityfaculty.com/youngt/IntNumMeth/lecture27.pdf)\"\\)"
            ],
            "metadata": {
                "id": "Ej2K1kQ18XKF"
            }
        },
        {
            "cell_type": "code",
            "source": [
                "def numerical_diff(f, x, eps=1e-4):\n",
                "    \"\"\"\n",
                "\n",
                "      param:\n",
                "        f (Function): 미분의 대상이 되는 함수\n",
                "        x (Variable): 미분을 계산하는 변수\n",
                "        eps (float): 작은 값\n",
                "    \"\"\"\n",
                "    x0 = Variable(x.data - eps)\n",
                "    x1 = Variable(x.data + eps)\n",
                "    y0 = f(x0)\n",
                "    y1 = f(x1)\n",
                "    return (y1.data - y0.data) / (2 * eps)"
            ],
            "metadata": {
                "id": "U4wN2UD3-nSt",
                "executionInfo": {
                    "status": "ok",
                    "timestamp": 1706108977865,
                    "user_tz": -540,
                    "elapsed": 8,
                    "user": {
                        "displayName": "",
                        "userId": ""
                    }
                }
            },
            "execution_count": 5,
            "outputs": []
        },
        {
            "cell_type": "code",
            "source": [
                "f = Square()\n",
                "x = Variable(np.array(2.0))\n",
                "dy = numerical_diff(f, x)\n",
                "print(dy)"
            ],
            "metadata": {
                "colab": {
                    "base_uri": "https://localhost:8080/"
                },
                "id": "VZ36tbum_h4u",
                "executionInfo": {
                    "status": "ok",
                    "timestamp": 1706108977865,
                    "user_tz": -540,
                    "elapsed": 8,
                    "user": {
                        "displayName": "",
                        "userId": ""
                    }
                },
                "outputId": "b5667aff-c597-4b40-e030-54cf9efb8662"
            },
            "execution_count": 6,
            "outputs": [
                {
                    "output_type": "stream",
                    "name": "stdout",
                    "text": [
                        "4.000000000004\n"
                    ]
                }
            ]
        },
        {
            "cell_type": "markdown",
            "source": [
                "### 4.3 합성 함수의 미분"
            ],
            "metadata": {
                "id": "9aNtpyu2_r2C"
            }
        },
        {
            "cell_type": "code",
            "source": [
                "def f(x):\n",
                "    A = Square()\n",
                "    B = Exp()\n",
                "    C = Square()\n",
                "    return C(B(A(x)))\n",
                "\n",
                "x = Variable(np.array(0.5))\n",
                "dy = numerical_diff(f, x)\n",
                "print(dy)"
            ],
            "metadata": {
                "colab": {
                    "base_uri": "https://localhost:8080/"
                },
                "id": "N-Jt7GSm_hvD",
                "executionInfo": {
                    "status": "ok",
                    "timestamp": 1706108977865,
                    "user_tz": -540,
                    "elapsed": 7,
                    "user": {
                        "displayName": "",
                        "userId": ""
                    }
                },
                "outputId": "c58fe676-5590-432d-906e-ea5224b07adf"
            },
            "execution_count": 7,
            "outputs": [
                {
                    "output_type": "stream",
                    "name": "stdout",
                    "text": [
                        "3.2974426293330694\n"
                    ]
                }
            ]
        },
        {
            "cell_type": "markdown",
            "source": [
                "### 4.4 수치 미분의 문제점\n",
                "\n",
                "- 자릿수 누락에 따라 발생하는 오차가 포함되기 쉽다.\n",
                "- 계산량이 많다.\n",
                "\n",
                "&nbsp;\n",
                "\n",
                "- 실제 딥러닝에서는 역전파를 사용하고, 역전파를 정확하게 구현했는지 확인하는 기울기 확인(gradient checking) 단계에서 수치 미분 결과를 사용한다."
            ],
            "metadata": {
                "id": "8qPzt1qEAMbx"
            }
        },
        {
            "cell_type": "code",
            "source": [],
            "metadata": {
                "id": "AqPpJIyAAR_w",
                "executionInfo": {
                    "status": "ok",
                    "timestamp": 1706108977866,
                    "user_tz": -540,
                    "elapsed": 6,
                    "user": {
                        "displayName": "",
                        "userId": ""
                    }
                }
            },
            "execution_count": 7,
            "outputs": []
        }
    ]
}