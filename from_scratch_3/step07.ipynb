{
    "nbformat": 4,
    "nbformat_minor": 0,
    "metadata": {
        "colab": {
            "provenance": [],
            "authorship_tag": "ABX9TyPQohOVtz6SNcxMbOneIROi"
        },
        "kernelspec": {
            "name": "python3",
            "display_name": "Python 3"
        },
        "language_info": {
            "name": "python"
        }
    },
    "cells": [
        {
            "cell_type": "markdown",
            "source": [
                "[![Open In Colab](https://colab.research.google.com/assets/colab-badge.svg)](https://colab.research.google.com/github/shhommychon/DeZero-Koki/blob/master/from_scratch_3/step07.ipynb)"
            ],
            "metadata": {
                "id": "tljHQ_kCyCDk"
            }
        },
        {
            "cell_type": "markdown",
            "source": [
                "# 제1고지 미분 자동 계산"
            ],
            "metadata": {
                "id": "4tRTGZRKzkVm"
            }
        },
        {
            "cell_type": "markdown",
            "source": [
                "## 1단계 상자로서의 변수"
            ],
            "metadata": {
                "id": "ULNPptMZujF1"
            }
        },
        {
            "cell_type": "code",
            "source": [],
            "metadata": {
                "id": "jdlYcPgEufTY",
                "executionInfo": {
                    "status": "ok",
                    "timestamp": 1706162739422,
                    "user_tz": -540,
                    "elapsed": 4,
                    "user": {
                        "displayName": "",
                        "userId": ""
                    }
                }
            },
            "execution_count": null,
            "outputs": []
        },
        {
            "cell_type": "markdown",
            "source": [
                "## 2단계 변수를 낳는 함수"
            ],
            "metadata": {
                "id": "ZmkXFiD-zo0P"
            }
        },
        {
            "cell_type": "code",
            "source": [],
            "metadata": {
                "id": "6dwttbuS1iuP",
                "executionInfo": {
                    "status": "ok",
                    "timestamp": 1706162739423,
                    "user_tz": -540,
                    "elapsed": 4,
                    "user": {
                        "displayName": "",
                        "userId": ""
                    }
                }
            },
            "execution_count": null,
            "outputs": []
        },
        {
            "cell_type": "markdown",
            "source": [
                "## 3단계 함수 연결"
            ],
            "metadata": {
                "id": "E21JKUaPu8Uq"
            }
        },
        {
            "cell_type": "code",
            "source": [],
            "metadata": {
                "id": "uHkBpSkWvAkf",
                "executionInfo": {
                    "status": "ok",
                    "timestamp": 1706162739423,
                    "user_tz": -540,
                    "elapsed": 4,
                    "user": {
                        "displayName": "",
                        "userId": ""
                    }
                }
            },
            "execution_count": null,
            "outputs": []
        },
        {
            "cell_type": "markdown",
            "source": [
                "## 4단계 수치 미분"
            ],
            "metadata": {
                "id": "SuY18rwB7-Rl"
            }
        },
        {
            "cell_type": "code",
            "source": [
                "# def numerical_diff(f, x, eps=1e-4):\n",
                "#     \"\"\"\n",
                "\n",
                "#       param:\n",
                "#         f (Function): 미분의 대상이 되는 함수\n",
                "#         x (Variable): 미분을 계산하는 변수\n",
                "#         eps (float): 작은 값\n",
                "#     \"\"\"\n",
                "#     x0 = Variable(x.data - eps)\n",
                "#     x1 = Variable(x.data + eps)\n",
                "#     y0 = f(x0)\n",
                "#     y1 = f(x1)\n",
                "#     return (y1.data - y0.data) / (2 * eps)"
            ],
            "metadata": {
                "id": "U4wN2UD3-nSt",
                "executionInfo": {
                    "status": "ok",
                    "timestamp": 1706162739423,
                    "user_tz": -540,
                    "elapsed": 4,
                    "user": {
                        "displayName": "",
                        "userId": ""
                    }
                }
            },
            "execution_count": 1,
            "outputs": []
        },
        {
            "cell_type": "markdown",
            "source": [
                "## 5단계 역전파 이론"
            ],
            "metadata": {
                "id": "iaKJPgv7Bsw7"
            }
        },
        {
            "cell_type": "code",
            "source": [],
            "metadata": {
                "id": "ZLIaGDOEDcA7",
                "executionInfo": {
                    "status": "ok",
                    "timestamp": 1706162739423,
                    "user_tz": -540,
                    "elapsed": 4,
                    "user": {
                        "displayName": "",
                        "userId": ""
                    }
                }
            },
            "execution_count": 1,
            "outputs": []
        },
        {
            "cell_type": "markdown",
            "source": [
                "## 6단계 수동 역전파"
            ],
            "metadata": {
                "id": "3VCxqCDYCAKh"
            }
        },
        {
            "cell_type": "code",
            "source": [],
            "metadata": {
                "id": "4hOZW9vADc-d",
                "executionInfo": {
                    "status": "ok",
                    "timestamp": 1706162739423,
                    "user_tz": -540,
                    "elapsed": 3,
                    "user": {
                        "displayName": "",
                        "userId": ""
                    }
                }
            },
            "execution_count": 1,
            "outputs": []
        },
        {
            "cell_type": "markdown",
            "source": [
                "## 7단계 역전파 자동화"
            ],
            "metadata": {
                "id": "DByzU1lqI2un"
            }
        },
        {
            "cell_type": "markdown",
            "source": [
                "### 7.1 역전파 자동화의 시작"
            ],
            "metadata": {
                "id": "lxVDycBcI5qV"
            }
        },
        {
            "cell_type": "code",
            "source": [
                "class Variable:\n",
                "    def __init__(self, data):\n",
                "        self.data = data\n",
                "        self.grad = None\n",
                "        self.creator = None\n",
                "\n",
                "    def set_creator(self, func):\n",
                "        self.creator = func"
            ],
            "metadata": {
                "id": "WZw4MIqPJQCX",
                "executionInfo": {
                    "status": "ok",
                    "timestamp": 1706162739993,
                    "user_tz": -540,
                    "elapsed": 5,
                    "user": {
                        "displayName": "",
                        "userId": ""
                    }
                }
            },
            "execution_count": 2,
            "outputs": []
        },
        {
            "cell_type": "code",
            "source": [
                "class Function:\n",
                "    \"\"\"\n",
                "\n",
                "    * Function 클래스는 기반 클래스로서, 모든 함수에 공통되는 기능을 구현합니다.\n",
                "    * 구체적인 함수는 Function 클래스를 상속한 클래스에서 구현합니다.\n",
                "    \"\"\"\n",
                "    def __call__(self, input):\n",
                "        x = input.data  # 데이터를 꺼낸다.\n",
                "        y = self.forward(x)  # 구체적인 계산은 forward 메서드에서 한다.\n",
                "        output = Variable(y)  # Variable 형태로 되돌린다.\n",
                "        output.set_creator(self)  # 출력 변수에 창조자를 설정한다.\n",
                "        self.input = input  # 입력 변수를 기억(보관)한다.\n",
                "        self.output = output  # 출력도 저장한다.\n",
                "        return output\n",
                "\n",
                "    def forward(self, x):\n",
                "        raise NotImplementedError()\n",
                "\n",
                "    def backward(self, gy):\n",
                "        raise NotImplementedError()"
            ],
            "metadata": {
                "id": "3CNx3Yd5JdLu",
                "executionInfo": {
                    "status": "ok",
                    "timestamp": 1706162739993,
                    "user_tz": -540,
                    "elapsed": 5,
                    "user": {
                        "displayName": "",
                        "userId": ""
                    }
                }
            },
            "execution_count": 3,
            "outputs": []
        },
        {
            "cell_type": "code",
            "source": [
                "class Square(Function):\n",
                "    def forward(self, x):\n",
                "        return x ** 2\n",
                "\n",
                "    def backward(self, gy):\n",
                "        x = self.input.data\n",
                "        gx = 2 * x * gy\n",
                "        return gx"
            ],
            "metadata": {
                "id": "1BoQcSpEKKft",
                "executionInfo": {
                    "status": "ok",
                    "timestamp": 1706162739993,
                    "user_tz": -540,
                    "elapsed": 5,
                    "user": {
                        "displayName": "",
                        "userId": ""
                    }
                }
            },
            "execution_count": 4,
            "outputs": []
        },
        {
            "cell_type": "code",
            "source": [
                "import numpy as np\n",
                "\n",
                "class Exp(Function):\n",
                "    def forward(self, x):\n",
                "        return np.exp(x)\n",
                "\n",
                "    def backward(self, gy):\n",
                "        x = self.input.data\n",
                "        gx = np.exp(x) * gy\n",
                "        return gx"
            ],
            "metadata": {
                "id": "k1uL5i1nKOJl",
                "executionInfo": {
                    "status": "ok",
                    "timestamp": 1706162739993,
                    "user_tz": -540,
                    "elapsed": 5,
                    "user": {
                        "displayName": "",
                        "userId": ""
                    }
                }
            },
            "execution_count": 5,
            "outputs": []
        },
        {
            "cell_type": "code",
            "source": [
                "A = Square()\n",
                "B = Exp()\n",
                "C = Square()\n",
                "\n",
                "x = Variable(np.array(0.5))\n",
                "a = A(x)\n",
                "b = B(a)\n",
                "y = C(b)"
            ],
            "metadata": {
                "id": "vDQX3OimKQ4l",
                "executionInfo": {
                    "status": "ok",
                    "timestamp": 1706162739993,
                    "user_tz": -540,
                    "elapsed": 4,
                    "user": {
                        "displayName": "",
                        "userId": ""
                    }
                }
            },
            "execution_count": 6,
            "outputs": []
        },
        {
            "cell_type": "code",
            "source": [
                "# 계산 그래프의 노드들을 거꾸로 거슬러 올라간다.\n",
                "assert y.creator == C\n",
                "assert y.creator.input == b\n",
                "assert y.creator.input.creator == B\n",
                "assert y.creator.input.creator.input == a\n",
                "assert y.creator.input.creator.input.creator == A\n",
                "assert y.creator.input.creator.input.creator.input == x"
            ],
            "metadata": {
                "id": "DZBbrMYfKVAO",
                "executionInfo": {
                    "status": "ok",
                    "timestamp": 1706162739993,
                    "user_tz": -540,
                    "elapsed": 4,
                    "user": {
                        "displayName": "",
                        "userId": ""
                    }
                }
            },
            "execution_count": 7,
            "outputs": []
        },
        {
            "cell_type": "markdown",
            "source": [
                "### 7.2 역전파 도전!"
            ],
            "metadata": {
                "id": "jJzXFTAvKqcO"
            }
        },
        {
            "cell_type": "code",
            "source": [
                "y.grad = np.array(1.0)\n",
                "\n",
                "C = y.creator  # 1. 함수를 가져온다.\n",
                "b = C.input  # 2. 함수의 입력을 가져온다.\n",
                "b.grad = C.backward(y.grad)  # 3. 함수의 backward 메서드를 호출한다."
            ],
            "metadata": {
                "id": "XB-VNY15Kq3f",
                "executionInfo": {
                    "status": "ok",
                    "timestamp": 1706162739993,
                    "user_tz": -540,
                    "elapsed": 4,
                    "user": {
                        "displayName": "",
                        "userId": ""
                    }
                }
            },
            "execution_count": 8,
            "outputs": []
        },
        {
            "cell_type": "code",
            "source": [
                "B = b.creator  # 1. 함수를 가져온다.\n",
                "a = B.input  # 2. 함수의 입력을 가져온다.\n",
                "a.grad = B.backward(b.grad)  # 3. 함수의 backward 메서드를 호출한다."
            ],
            "metadata": {
                "id": "HPN2BRtlMFte",
                "executionInfo": {
                    "status": "ok",
                    "timestamp": 1706162739993,
                    "user_tz": -540,
                    "elapsed": 4,
                    "user": {
                        "displayName": "",
                        "userId": ""
                    }
                }
            },
            "execution_count": 9,
            "outputs": []
        },
        {
            "cell_type": "code",
            "source": [
                "A = a.creator  # 1. 함수를 가져온다.\n",
                "x = A.input  # 2. 함수의 입력을 가져온다.\n",
                "x.grad = A.backward(a.grad)  # 3. 함수의 backward 메서드를 호출한다.\n",
                "print(x.grad)"
            ],
            "metadata": {
                "colab": {
                    "base_uri": "https://localhost:8080/"
                },
                "id": "Uy8xnPRYMW3u",
                "executionInfo": {
                    "status": "ok",
                    "timestamp": 1706162739993,
                    "user_tz": -540,
                    "elapsed": 4,
                    "user": {
                        "displayName": "",
                        "userId": ""
                    }
                },
                "outputId": "4277d09d-8786-43ef-e072-dccca9dcf1bb"
            },
            "execution_count": 10,
            "outputs": [
                {
                    "output_type": "stream",
                    "name": "stdout",
                    "text": [
                        "3.297442541400256\n"
                    ]
                }
            ]
        },
        {
            "cell_type": "markdown",
            "source": [
                "### 7.3 backward 메소드 추가"
            ],
            "metadata": {
                "id": "OnXj9GCzKqWO"
            }
        },
        {
            "cell_type": "code",
            "source": [
                "class Variable:\n",
                "    def __init__(self, data):\n",
                "        self.data = data\n",
                "        self.grad = None\n",
                "        self.creator = None\n",
                "\n",
                "    def set_creator(self, func):\n",
                "        self.creator = func\n",
                "\n",
                "    def backward(self):\n",
                "        f = self.creator  # 1. 함수를 가져온다.\n",
                "        if f is not None:\n",
                "            x = f.input  # 2. 함수의 입력을 가져온다.\n",
                "            x.grad = f.backward(self.grad)  # 3. 함수의 backward 메서드를 호출한다.\n",
                "            x.backward()  # 하나 앞 변수의 backward 메서드를 호출한다(재귀)."
            ],
            "metadata": {
                "id": "QYy_hXMEMjmG",
                "executionInfo": {
                    "status": "ok",
                    "timestamp": 1706162739993,
                    "user_tz": -540,
                    "elapsed": 3,
                    "user": {
                        "displayName": "",
                        "userId": ""
                    }
                }
            },
            "execution_count": 11,
            "outputs": []
        },
        {
            "cell_type": "code",
            "source": [
                "A = Square()\n",
                "B = Exp()\n",
                "C = Square()\n",
                "\n",
                "x = Variable(np.array(0.5))\n",
                "a = A(x)\n",
                "b = B(a)\n",
                "y = C(b)\n",
                "\n",
                "# 역전파\n",
                "y.grad = np.array(1.0)\n",
                "y.backward()\n",
                "print(x.grad)"
            ],
            "metadata": {
                "colab": {
                    "base_uri": "https://localhost:8080/"
                },
                "id": "FSEvLUfPN7fB",
                "executionInfo": {
                    "status": "ok",
                    "timestamp": 1706162739993,
                    "user_tz": -540,
                    "elapsed": 3,
                    "user": {
                        "displayName": "",
                        "userId": ""
                    }
                },
                "outputId": "2c7ac629-fcf5-4d68-eddd-5180f133fa2d"
            },
            "execution_count": 12,
            "outputs": [
                {
                    "output_type": "stream",
                    "name": "stdout",
                    "text": [
                        "3.297442541400256\n"
                    ]
                }
            ]
        }
    ]
}