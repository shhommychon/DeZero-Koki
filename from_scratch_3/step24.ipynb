{
  "nbformat": 4,
  "nbformat_minor": 0,
  "metadata": {
    "colab": {
      "provenance": []
    },
    "kernelspec": {
      "name": "python3",
      "display_name": "Python 3"
    },
    "language_info": {
      "name": "python"
    }
  },
  "cells": [
    {
      "cell_type": "markdown",
      "source": [
        "[![Open In Colab](https://colab.research.google.com/assets/colab-badge.svg)](https://colab.research.google.com/github/shhommychon/DeZero-Koki/blob/master/from_scratch_3/step24.ipynb)"
      ],
      "metadata": {
        "id": "tljHQ_kCyCDk"
      }
    },
    {
      "cell_type": "markdown",
      "source": [
        "# 제1고지 미분 자동 계산"
      ],
      "metadata": {
        "id": "4tRTGZRKzkVm"
      }
    },
    {
      "cell_type": "code",
      "source": [
        "# class Exp(Function):\n",
        "#     def forward(self, x):\n",
        "#         return np.exp(x)\n",
        "\n",
        "#     def backward(self, gy):\n",
        "#         x = self.input.data\n",
        "#         gx = np.exp(x) * gy\n",
        "#         return gx\n",
        "\n",
        "\n",
        "# def exp(x):\n",
        "#     return Exp()(x)\n"
      ],
      "metadata": {
        "id": "0tjotk1THBIw"
      },
      "execution_count": 1,
      "outputs": []
    },
    {
      "cell_type": "code",
      "source": [
        "# def numerical_diff(f, x, eps=1e-4):\n",
        "#     \"\"\"\n",
        "\n",
        "#       param:\n",
        "#         f (Function): 미분의 대상이 되는 함수\n",
        "#         x (Variable): 미분을 계산하는 변수\n",
        "#         eps (float): 작은 값\n",
        "#     \"\"\"\n",
        "#     x0 = Variable(x.data - eps)\n",
        "#     x1 = Variable(x.data + eps)\n",
        "#     y0 = f(x0)\n",
        "#     y1 = f(x1)\n",
        "#     return (y1.data - y0.data) / (2 * eps)"
      ],
      "metadata": {
        "id": "6R-wCS0HKPSl"
      },
      "execution_count": 2,
      "outputs": []
    },
    {
      "cell_type": "markdown",
      "source": [
        "# 제2고지 자연스러운 코드로"
      ],
      "metadata": {
        "id": "S4Byz6xBg7Fa"
      }
    },
    {
      "cell_type": "markdown",
      "source": [
        "## 11단계 가변 길이 인수(순전파 편)"
      ],
      "metadata": {
        "id": "asGSdga7hMnz"
      }
    },
    {
      "cell_type": "code",
      "source": [],
      "metadata": {
        "id": "e14gjXxIkLO8"
      },
      "execution_count": 2,
      "outputs": []
    },
    {
      "cell_type": "markdown",
      "source": [
        "## 12단계 가변 길이 인수(개선 편)"
      ],
      "metadata": {
        "id": "4KAaNtzbku-t"
      }
    },
    {
      "cell_type": "code",
      "source": [],
      "metadata": {
        "id": "oRQrnm1Dmg5h"
      },
      "execution_count": 2,
      "outputs": []
    },
    {
      "cell_type": "markdown",
      "source": [
        "## 13단계 가변 길이 인수(역전파 편)"
      ],
      "metadata": {
        "id": "RMsSCNDIoV_h"
      }
    },
    {
      "cell_type": "code",
      "source": [],
      "metadata": {
        "id": "Ar1Aik1Qqx27"
      },
      "execution_count": 2,
      "outputs": []
    },
    {
      "cell_type": "markdown",
      "source": [
        "## 14단계 같은 변수 반복 사용"
      ],
      "metadata": {
        "id": "n1oBMPQVd8nj"
      }
    },
    {
      "cell_type": "code",
      "source": [],
      "metadata": {
        "id": "oDQKkjIaf10O"
      },
      "execution_count": 2,
      "outputs": []
    },
    {
      "cell_type": "markdown",
      "source": [
        "## 15단계 복잡한 계산 그래프(이론 편)"
      ],
      "metadata": {
        "id": "obUPPtCuv1Sw"
      }
    },
    {
      "cell_type": "code",
      "source": [],
      "metadata": {
        "id": "aVZ_w4fjv2e0"
      },
      "execution_count": 2,
      "outputs": []
    },
    {
      "cell_type": "markdown",
      "source": [
        "## 16단계 복잡한 계산 그래프(구현 편)"
      ],
      "metadata": {
        "id": "cszcSufvv2ua"
      }
    },
    {
      "cell_type": "code",
      "source": [],
      "metadata": {
        "id": "HhHicfa60Umc"
      },
      "execution_count": 2,
      "outputs": []
    },
    {
      "cell_type": "markdown",
      "source": [
        "## 17단계 메모리 관리와 순환 참조"
      ],
      "metadata": {
        "id": "9SJdzWiC5DVD"
      }
    },
    {
      "cell_type": "code",
      "source": [],
      "metadata": {
        "id": "MDmaZqRuJxOU"
      },
      "execution_count": 2,
      "outputs": []
    },
    {
      "cell_type": "markdown",
      "source": [
        "## 18단계 메모리 절약 모드"
      ],
      "metadata": {
        "id": "Uwa1-5XdXS9b"
      }
    },
    {
      "cell_type": "code",
      "source": [
        "# class Square(Function):\n",
        "#     def forward(self, x):\n",
        "#         return x ** 2\n",
        "\n",
        "#     def backward(self, gy):\n",
        "#         x = self.inputs[0].data\n",
        "#         gx = 2 * x * gy\n",
        "#         return gx\n",
        "\n",
        "\n",
        "# def square(x):\n",
        "#     return Square()(x)\n"
      ],
      "metadata": {
        "id": "U3Cy-Sj_d7-r"
      },
      "execution_count": 3,
      "outputs": []
    },
    {
      "cell_type": "markdown",
      "source": [
        "## 19단계 변수 사용성 개선"
      ],
      "metadata": {
        "id": "CGX4vW34nfj_"
      }
    },
    {
      "cell_type": "code",
      "source": [],
      "metadata": {
        "id": "KeuInx4AsjhO"
      },
      "execution_count": 3,
      "outputs": []
    },
    {
      "cell_type": "markdown",
      "source": [
        "## 20단계 연산자 오버로드(1)"
      ],
      "metadata": {
        "id": "iKpQzeVitplQ"
      }
    },
    {
      "cell_type": "code",
      "source": [],
      "metadata": {
        "id": "yPUd4m9JvZwq"
      },
      "execution_count": 3,
      "outputs": []
    },
    {
      "cell_type": "markdown",
      "source": [
        "## 21단계 연산자 오버로드(2)"
      ],
      "metadata": {
        "id": "ETqAUmHEx6dV"
      }
    },
    {
      "cell_type": "code",
      "source": [],
      "metadata": {
        "id": "SyBTDl9I1Xbo"
      },
      "execution_count": 3,
      "outputs": []
    },
    {
      "cell_type": "markdown",
      "source": [
        "## 22단계 연산자 오버로드(3)"
      ],
      "metadata": {
        "id": "Lry419kK3opQ"
      }
    },
    {
      "cell_type": "code",
      "source": [],
      "metadata": {
        "id": "hYIQTiG_7GOR"
      },
      "execution_count": 3,
      "outputs": []
    },
    {
      "cell_type": "markdown",
      "source": [
        "## 23단계 패키지로 정리"
      ],
      "metadata": {
        "id": "cp_ShDOU8WJC"
      }
    },
    {
      "cell_type": "code",
      "source": [
        "!git clone https://github.com/shhommychon/DeZero-Koki.git\n",
        "\n",
        "import sys\n",
        "sys.path = [\"DeZero-Koki/\"] + sys.path"
      ],
      "metadata": {
        "colab": {
          "base_uri": "https://localhost:8080/"
        },
        "id": "YwjkdEs88mJi",
        "outputId": "7762a29d-6c69-4d9a-97e7-b75c909ac924"
      },
      "execution_count": 4,
      "outputs": [
        {
          "output_type": "stream",
          "name": "stdout",
          "text": [
            "Cloning into 'DeZero-Koki'...\n",
            "remote: Enumerating objects: 165, done.\u001b[K\n",
            "remote: Counting objects: 100% (165/165), done.\u001b[K\n",
            "remote: Compressing objects: 100% (54/54), done.\u001b[K\n",
            "remote: Total 165 (delta 106), reused 149 (delta 90), pack-reused 0\u001b[K\n",
            "Receiving objects: 100% (165/165), 68.68 KiB | 781.00 KiB/s, done.\n",
            "Resolving deltas: 100% (106/106), done.\n"
          ]
        }
      ]
    },
    {
      "cell_type": "markdown",
      "source": [
        "## 24단계 복잡한 함수의 미분\n",
        "\n",
        "- 참고: [위키백과](https://en.wikipedia.org/wiki/Test_functions_for_optimization)"
      ],
      "metadata": {
        "id": "drT6fAajbNzh"
      }
    },
    {
      "cell_type": "markdown",
      "source": [
        "### 24.1 Sphere 함수"
      ],
      "metadata": {
        "id": "3Ocr9_UlcXkD"
      }
    },
    {
      "cell_type": "code",
      "source": [
        "import numpy as np\n",
        "from dezero import Variable\n",
        "\n",
        "def sphere(x, y):\n",
        "    z = x ** 2 + y ** 2\n",
        "    return z\n",
        "\n",
        "x = Variable(np.array(1.0))\n",
        "y = Variable(np.array(1.0))\n",
        "z = sphere(x, y)\n",
        "z.backward()\n",
        "print(x.grad, y.grad)"
      ],
      "metadata": {
        "colab": {
          "base_uri": "https://localhost:8080/"
        },
        "id": "-OS6rt_KbgfV",
        "outputId": "d2289981-afaa-4b5b-e457-2180c39d91b3"
      },
      "execution_count": 5,
      "outputs": [
        {
          "output_type": "stream",
          "name": "stdout",
          "text": [
            "2.0 2.0\n"
          ]
        }
      ]
    },
    {
      "cell_type": "markdown",
      "source": [
        "### 24.2 matyas 함수"
      ],
      "metadata": {
        "id": "EEo6pYtkcbzs"
      }
    },
    {
      "cell_type": "code",
      "source": [
        "def matyas(x, y):\n",
        "    z = 0.26 * (x ** 2 + y ** 2) - 0.48 * x * y\n",
        "    return z\n",
        "\n",
        "x = Variable(np.array(1.0))\n",
        "y = Variable(np.array(1.0))\n",
        "z = matyas(x, y)\n",
        "z.backward()\n",
        "print(x.grad, y.grad)"
      ],
      "metadata": {
        "colab": {
          "base_uri": "https://localhost:8080/"
        },
        "id": "IAbCK3OYcf59",
        "outputId": "8637cee1-d805-4ab5-ea5d-a6ab7fceca72"
      },
      "execution_count": 6,
      "outputs": [
        {
          "output_type": "stream",
          "name": "stdout",
          "text": [
            "0.040000000000000036 0.040000000000000036\n"
          ]
        }
      ]
    },
    {
      "cell_type": "code",
      "source": [
        "# def matyas(x, y):\n",
        "#     z = sub(mul(0.26, add(pow(x, 2), pow(y, 2))), mul(0.48, mul(x, y)))\n",
        "#     return z"
      ],
      "metadata": {
        "id": "VPQvJC20c1-6"
      },
      "execution_count": 7,
      "outputs": []
    },
    {
      "cell_type": "markdown",
      "source": [
        "### 24.3 Goldstein-Price 함수"
      ],
      "metadata": {
        "id": "5li1yRNhdRP_"
      }
    },
    {
      "cell_type": "code",
      "source": [
        "def goldstein(x, y):\n",
        "    z = (1 + (x + y + 1)**2 * (19 - 14*x + 3*x**2 - 14*y + 6*x*y + 3*y**2)) * \\\n",
        "        (30 + (2*x - 3*y)**2 * (18 - 32*x + 12*x**2 + 48*y - 36*x*y + 27*y**2))\n",
        "    return z\n",
        "\n",
        "x = Variable(np.array(1.0))\n",
        "y = Variable(np.array(1.0))\n",
        "z = goldstein(x, y)\n",
        "z.backward()\n",
        "print(x.grad, y.grad)"
      ],
      "metadata": {
        "colab": {
          "base_uri": "https://localhost:8080/"
        },
        "id": "qLDVYPrHdWC0",
        "outputId": "add01d12-3908-436b-f6b9-bba73452b87c"
      },
      "execution_count": 8,
      "outputs": [
        {
          "output_type": "stream",
          "name": "stdout",
          "text": [
            "-5376.0 8064.0\n"
          ]
        }
      ]
    },
    {
      "cell_type": "markdown",
      "source": [
        "### 칼럼: Define-by-Run"
      ],
      "metadata": {
        "id": "gi5cpkCzezUx"
      }
    },
    {
      "cell_type": "markdown",
      "source": [
        "#### Define-and-Run (정적 계산 그래프 방식)"
      ],
      "metadata": {
        "id": "e44hBP0SfhuB"
      }
    },
    {
      "cell_type": "code",
      "source": [],
      "metadata": {
        "id": "xn6CrQMLghMk"
      },
      "execution_count": 8,
      "outputs": []
    },
    {
      "cell_type": "markdown",
      "source": [
        "#### Define-by-Run (동적 계산 그래프 방식)"
      ],
      "metadata": {
        "id": "7-76B4cNfo0Q"
      }
    },
    {
      "cell_type": "code",
      "source": [
        "import numpy as np\n",
        "from dezero import Variable\n",
        "\n",
        "a = Variable(np.ones(10))\n",
        "b = Variable(np.ones(10) * 2)\n",
        "c = b * a\n",
        "d = c + 1\n",
        "print(d)"
      ],
      "metadata": {
        "colab": {
          "base_uri": "https://localhost:8080/"
        },
        "id": "aEvcpfTKgg5C",
        "outputId": "b49d771e-2c54-4e7b-f960-996399dc76af"
      },
      "execution_count": 9,
      "outputs": [
        {
          "output_type": "stream",
          "name": "stdout",
          "text": [
            "variable([3. 3. 3. 3. 3. 3. 3. 3. 3. 3.])\n"
          ]
        }
      ]
    },
    {
      "cell_type": "code",
      "source": [
        "x = Variable(np.array(3.0))\n",
        "y = Variable(np.array(0.0))\n",
        "\n",
        "while True:\n",
        "    y = y + x\n",
        "    if y.data > 100:\n",
        "        break\n",
        "\n",
        "y.backward()"
      ],
      "metadata": {
        "id": "1TNb8_9Sgvsn"
      },
      "execution_count": 10,
      "outputs": []
    }
  ]
}