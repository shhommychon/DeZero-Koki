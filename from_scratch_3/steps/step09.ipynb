{
    "nbformat": 4,
    "nbformat_minor": 0,
    "metadata": {
        "colab": {
            "provenance": [],
            "authorship_tag": "ABX9TyOyJ1Uh3j9qYC5+OHRmCH87"
        },
        "kernelspec": {
            "name": "python3",
            "display_name": "Python 3"
        },
        "language_info": {
            "name": "python"
        }
    },
    "cells": [
        {
            "cell_type": "markdown",
            "source": [
                "[![Open In Colab](https://colab.research.google.com/assets/colab-badge.svg)](https://colab.research.google.com/github/shhommychon/DeZero-Koki/blob/master/from_scratch_3/steps/step09.ipynb)"
            ],
            "metadata": {
                "id": "tljHQ_kCyCDk"
            }
        },
        {
            "cell_type": "markdown",
            "source": [
                "# 제1고지 미분 자동 계산"
            ],
            "metadata": {
                "id": "4tRTGZRKzkVm"
            }
        },
        {
            "cell_type": "markdown",
            "source": [
                "## 1단계 상자로서의 변수"
            ],
            "metadata": {
                "id": "ULNPptMZujF1"
            }
        },
        {
            "cell_type": "code",
            "source": [],
            "metadata": {
                "id": "jdlYcPgEufTY",
                "executionInfo": {
                    "status": "ok",
                    "timestamp": 1706497434283,
                    "user_tz": -540,
                    "elapsed": 5,
                    "user": {
                        "displayName": "",
                        "userId": ""
                    }
                }
            },
            "execution_count": null,
            "outputs": []
        },
        {
            "cell_type": "markdown",
            "source": [
                "## 2단계 변수를 낳는 함수"
            ],
            "metadata": {
                "id": "ZmkXFiD-zo0P"
            }
        },
        {
            "cell_type": "code",
            "source": [],
            "metadata": {
                "id": "6dwttbuS1iuP",
                "executionInfo": {
                    "status": "ok",
                    "timestamp": 1706497434284,
                    "user_tz": -540,
                    "elapsed": 6,
                    "user": {
                        "displayName": "",
                        "userId": ""
                    }
                }
            },
            "execution_count": null,
            "outputs": []
        },
        {
            "cell_type": "markdown",
            "source": [
                "## 3단계 함수 연결"
            ],
            "metadata": {
                "id": "E21JKUaPu8Uq"
            }
        },
        {
            "cell_type": "code",
            "source": [],
            "metadata": {
                "id": "uHkBpSkWvAkf",
                "executionInfo": {
                    "status": "ok",
                    "timestamp": 1706497434284,
                    "user_tz": -540,
                    "elapsed": 5,
                    "user": {
                        "displayName": "",
                        "userId": ""
                    }
                }
            },
            "execution_count": null,
            "outputs": []
        },
        {
            "cell_type": "markdown",
            "source": [
                "## 4단계 수치 미분"
            ],
            "metadata": {
                "id": "SuY18rwB7-Rl"
            }
        },
        {
            "cell_type": "code",
            "source": [
                "# def numerical_diff(f, x, eps=1e-4):\n",
                "#     \"\"\"\n",
                "\n",
                "#       param:\n",
                "#         f (Function): 미분의 대상이 되는 함수\n",
                "#         x (Variable): 미분을 계산하는 변수\n",
                "#         eps (float): 작은 값\n",
                "#     \"\"\"\n",
                "#     x0 = Variable(x.data - eps)\n",
                "#     x1 = Variable(x.data + eps)\n",
                "#     y0 = f(x0)\n",
                "#     y1 = f(x1)\n",
                "#     return (y1.data - y0.data) / (2 * eps)"
            ],
            "metadata": {
                "id": "U4wN2UD3-nSt",
                "executionInfo": {
                    "status": "ok",
                    "timestamp": 1706497434284,
                    "user_tz": -540,
                    "elapsed": 5,
                    "user": {
                        "displayName": "",
                        "userId": ""
                    }
                }
            },
            "execution_count": 1,
            "outputs": []
        },
        {
            "cell_type": "markdown",
            "source": [
                "## 5단계 역전파 이론"
            ],
            "metadata": {
                "id": "iaKJPgv7Bsw7"
            }
        },
        {
            "cell_type": "code",
            "source": [],
            "metadata": {
                "id": "ZLIaGDOEDcA7",
                "executionInfo": {
                    "status": "ok",
                    "timestamp": 1706497434284,
                    "user_tz": -540,
                    "elapsed": 5,
                    "user": {
                        "displayName": "",
                        "userId": ""
                    }
                }
            },
            "execution_count": 1,
            "outputs": []
        },
        {
            "cell_type": "markdown",
            "source": [
                "## 6단계 수동 역전파"
            ],
            "metadata": {
                "id": "3VCxqCDYCAKh"
            }
        },
        {
            "cell_type": "code",
            "source": [],
            "metadata": {
                "id": "4hOZW9vADc-d",
                "executionInfo": {
                    "status": "ok",
                    "timestamp": 1706497434284,
                    "user_tz": -540,
                    "elapsed": 5,
                    "user": {
                        "displayName": "",
                        "userId": ""
                    }
                }
            },
            "execution_count": 1,
            "outputs": []
        },
        {
            "cell_type": "markdown",
            "source": [
                "## 7단계 역전파 자동화"
            ],
            "metadata": {
                "id": "DByzU1lqI2un"
            }
        },
        {
            "cell_type": "code",
            "source": [
                "class Function:\n",
                "    \"\"\"\n",
                "\n",
                "    * Function 클래스는 기반 클래스로서, 모든 함수에 공통되는 기능을 구현합니다.\n",
                "    * 구체적인 함수는 Function 클래스를 상속한 클래스에서 구현합니다.\n",
                "    \"\"\"\n",
                "    def __call__(self, input):\n",
                "        x = input.data  # 데이터를 꺼낸다.\n",
                "        y = self.forward(x)  # 구체적인 계산은 forward 메서드에서 한다.\n",
                "        output = Variable(y)  # Variable 형태로 되돌린다.\n",
                "        output.set_creator(self)  # 출력 변수에 창조자를 설정한다.\n",
                "        self.input = input  # 입력 변수를 기억(보관)한다.\n",
                "        self.output = output  # 출력도 저장한다.\n",
                "        return output\n",
                "\n",
                "    def forward(self, x):\n",
                "        raise NotImplementedError()\n",
                "\n",
                "    def backward(self, gy):\n",
                "        raise NotImplementedError()"
            ],
            "metadata": {
                "id": "3CNx3Yd5JdLu",
                "executionInfo": {
                    "status": "ok",
                    "timestamp": 1706497434284,
                    "user_tz": -540,
                    "elapsed": 4,
                    "user": {
                        "displayName": "",
                        "userId": ""
                    }
                }
            },
            "execution_count": 2,
            "outputs": []
        },
        {
            "cell_type": "code",
            "source": [
                "class Square(Function):\n",
                "    def forward(self, x):\n",
                "        return x ** 2\n",
                "\n",
                "    def backward(self, gy):\n",
                "        x = self.input.data\n",
                "        gx = 2 * x * gy\n",
                "        return gx"
            ],
            "metadata": {
                "id": "1BoQcSpEKKft",
                "executionInfo": {
                    "status": "ok",
                    "timestamp": 1706497434284,
                    "user_tz": -540,
                    "elapsed": 4,
                    "user": {
                        "displayName": "",
                        "userId": ""
                    }
                }
            },
            "execution_count": 3,
            "outputs": []
        },
        {
            "cell_type": "code",
            "source": [
                "import numpy as np\n",
                "\n",
                "class Exp(Function):\n",
                "    def forward(self, x):\n",
                "        return np.exp(x)\n",
                "\n",
                "    def backward(self, gy):\n",
                "        x = self.input.data\n",
                "        gx = np.exp(x) * gy\n",
                "        return gx"
            ],
            "metadata": {
                "id": "k1uL5i1nKOJl",
                "executionInfo": {
                    "status": "ok",
                    "timestamp": 1706497434284,
                    "user_tz": -540,
                    "elapsed": 4,
                    "user": {
                        "displayName": "",
                        "userId": ""
                    }
                }
            },
            "execution_count": 4,
            "outputs": []
        },
        {
            "cell_type": "markdown",
            "source": [
                "## 8단계 재귀에서 반복문으로"
            ],
            "metadata": {
                "id": "yW0evWphChSv"
            }
        },
        {
            "cell_type": "code",
            "source": [
                "class Variable:\n",
                "    def __init__(self, data):\n",
                "        self.data = data\n",
                "        self.grad = None\n",
                "        self.creator = None\n",
                "\n",
                "    def set_creator(self, func):\n",
                "        self.creator = func\n",
                "\n",
                "    def backward(self):\n",
                "        funcs = [self.creator]\n",
                "        while funcs:\n",
                "            f = funcs.pop()  # 1. 함수를 가져온다.\n",
                "            x, y = f.input, f.output  # 2. 함수의 입력과 출력을 가져온다.\n",
                "            x.grad = f.backward(y.grad)  # 3. backward 메서드를 호출한다.\n",
                "\n",
                "            if x.creator is not None:\n",
                "                funcs.append(x.creator)  # 하나 앞의 함수를 리스트에 추가한다.\n"
            ],
            "metadata": {
                "id": "Ec5pmuF_C0Wj",
                "executionInfo": {
                    "status": "ok",
                    "timestamp": 1706497434284,
                    "user_tz": -540,
                    "elapsed": 4,
                    "user": {
                        "displayName": "",
                        "userId": ""
                    }
                }
            },
            "execution_count": 5,
            "outputs": []
        },
        {
            "cell_type": "markdown",
            "source": [
                "## 9단계 함수를 더 편리하게"
            ],
            "metadata": {
                "id": "iim2zumDFqNt"
            }
        },
        {
            "cell_type": "markdown",
            "source": [
                "### 9.1 파이썬 함수로 이용하기"
            ],
            "metadata": {
                "id": "LJCKAkKGF1Qw"
            }
        },
        {
            "cell_type": "code",
            "source": [
                "x = Variable(np.array(0.5))\n",
                "f = Square()\n",
                "y = f(x)"
            ],
            "metadata": {
                "id": "ENLW2_tmFqtd",
                "executionInfo": {
                    "status": "ok",
                    "timestamp": 1706497434284,
                    "user_tz": -540,
                    "elapsed": 4,
                    "user": {
                        "displayName": "",
                        "userId": ""
                    }
                }
            },
            "execution_count": 6,
            "outputs": []
        },
        {
            "cell_type": "code",
            "source": [
                "def square(x):\n",
                "    f = Square()\n",
                "    return f(x)\n",
                "\n",
                "def exp(x):\n",
                "    f = Exp()\n",
                "    return f(x)"
            ],
            "metadata": {
                "id": "39laKqc7G2zl",
                "executionInfo": {
                    "status": "ok",
                    "timestamp": 1706497434605,
                    "user_tz": -540,
                    "elapsed": 13,
                    "user": {
                        "displayName": "",
                        "userId": ""
                    }
                }
            },
            "execution_count": 7,
            "outputs": []
        },
        {
            "cell_type": "code",
            "source": [
                "def square(x):\n",
                "    return Square()(x)  # 한 줄로 작성\n",
                "\n",
                "def exp(x):\n",
                "    return Exp()(x)"
            ],
            "metadata": {
                "id": "0tjotk1THBIw",
                "executionInfo": {
                    "status": "ok",
                    "timestamp": 1706497434605,
                    "user_tz": -540,
                    "elapsed": 12,
                    "user": {
                        "displayName": "",
                        "userId": ""
                    }
                }
            },
            "execution_count": 8,
            "outputs": []
        },
        {
            "cell_type": "code",
            "source": [
                "x = Variable(np.array(0.5))\n",
                "a = square(x)\n",
                "b = exp(a)\n",
                "y = square(b)\n",
                "\n",
                "# 역전파\n",
                "y.grad = np.array(1.0)\n",
                "y.backward()\n",
                "print(x.grad)"
            ],
            "metadata": {
                "colab": {
                    "base_uri": "https://localhost:8080/"
                },
                "id": "9OyQ6hEAHU3R",
                "executionInfo": {
                    "status": "ok",
                    "timestamp": 1706497434605,
                    "user_tz": -540,
                    "elapsed": 12,
                    "user": {
                        "displayName": "",
                        "userId": ""
                    }
                },
                "outputId": "7f7d3623-4196-4e35-8efb-9935cc556e35"
            },
            "execution_count": 9,
            "outputs": [
                {
                    "output_type": "stream",
                    "name": "stdout",
                    "text": [
                        "3.297442541400256\n"
                    ]
                }
            ]
        },
        {
            "cell_type": "code",
            "source": [
                "x = Variable(np.array(0.5))\n",
                "y = square(exp(square(x)))\n",
                "y.grad = np.array(1.0)\n",
                "y.backward()\n",
                "print(x.grad)"
            ],
            "metadata": {
                "colab": {
                    "base_uri": "https://localhost:8080/"
                },
                "id": "cHLL9ebaHeuh",
                "executionInfo": {
                    "status": "ok",
                    "timestamp": 1706497434605,
                    "user_tz": -540,
                    "elapsed": 10,
                    "user": {
                        "displayName": "",
                        "userId": ""
                    }
                },
                "outputId": "d33f01c9-1c23-458b-a75d-e39ca6b19f3d"
            },
            "execution_count": 10,
            "outputs": [
                {
                    "output_type": "stream",
                    "name": "stdout",
                    "text": [
                        "3.297442541400256\n"
                    ]
                }
            ]
        },
        {
            "cell_type": "markdown",
            "source": [
                "### 9.2 backward 메서드 간소화"
            ],
            "metadata": {
                "id": "0mUpc8lzF5Z1"
            }
        },
        {
            "cell_type": "code",
            "source": [
                "import numpy as np\n",
                "\n",
                "class Variable:\n",
                "    def __init__(self, data):\n",
                "        self.data = data\n",
                "        self.grad = None\n",
                "        self.creator = None\n",
                "\n",
                "    def set_creator(self, func):\n",
                "        self.creator = func\n",
                "\n",
                "    def backward(self):\n",
                "        ########################################\n",
                "        if self.grad is None:\n",
                "            self.grad = np.ones_like(self.data)\n",
                "        ########################################\n",
                "\n",
                "        funcs = [self.creator]\n",
                "        while funcs:\n",
                "            f = funcs.pop()\n",
                "            x, y = f.input, f.output\n",
                "            x.grad = f.backward(y.grad)\n",
                "\n",
                "            if x.creator is not None:\n",
                "                funcs.append(x.creator)"
            ],
            "metadata": {
                "id": "-KkbYDyyGBa0",
                "executionInfo": {
                    "status": "ok",
                    "timestamp": 1706497434605,
                    "user_tz": -540,
                    "elapsed": 9,
                    "user": {
                        "displayName": "",
                        "userId": ""
                    }
                }
            },
            "execution_count": 11,
            "outputs": []
        },
        {
            "cell_type": "code",
            "source": [
                "x = Variable(np.array(0.5))\n",
                "y = square(exp(square(x)))\n",
                "# y.grad = np.array(1.0)  # 이 줄이 생략됨\n",
                "y.backward()\n",
                "print(x.grad)"
            ],
            "metadata": {
                "colab": {
                    "base_uri": "https://localhost:8080/"
                },
                "id": "5iyvstnUIayx",
                "executionInfo": {
                    "status": "ok",
                    "timestamp": 1706497434605,
                    "user_tz": -540,
                    "elapsed": 8,
                    "user": {
                        "displayName": "",
                        "userId": ""
                    }
                },
                "outputId": "6bf41956-94b8-4b16-dde5-788d4d9a8a14"
            },
            "execution_count": 12,
            "outputs": [
                {
                    "output_type": "stream",
                    "name": "stdout",
                    "text": [
                        "3.297442541400256\n"
                    ]
                }
            ]
        },
        {
            "cell_type": "markdown",
            "source": [
                "### 9.3 ndarray만 취급하기"
            ],
            "metadata": {
                "id": "xEmlb8w3GCUr"
            }
        },
        {
            "cell_type": "code",
            "source": [
                "import numpy as np\n",
                "\n",
                "class Variable:\n",
                "    def __init__(self, data):\n",
                "        ########################################\n",
                "        if data is not None:\n",
                "            if not isinstance(data, np.ndarray):\n",
                "                raise TypeError(f\"{type(data)}은(는) 지원하지 않습니다.\")\n",
                "        ########################################\n",
                "\n",
                "        self.data = data\n",
                "        self.grad = None\n",
                "        self.creator = None\n",
                "\n",
                "    def set_creator(self, func):\n",
                "        self.creator = func\n",
                "\n",
                "    def backward(self):\n",
                "        if self.grad is None:\n",
                "            self.grad = np.ones_like(self.data)\n",
                "\n",
                "        funcs = [self.creator]\n",
                "        while funcs:\n",
                "            f = funcs.pop()\n",
                "            x, y = f.input, f.output\n",
                "            x.grad = f.backward(y.grad)\n",
                "\n",
                "            if x.creator is not None:\n",
                "                funcs.append(x.creator)"
            ],
            "metadata": {
                "id": "gPnV62dYGGkj",
                "executionInfo": {
                    "status": "ok",
                    "timestamp": 1706497434605,
                    "user_tz": -540,
                    "elapsed": 8,
                    "user": {
                        "displayName": "",
                        "userId": ""
                    }
                }
            },
            "execution_count": 13,
            "outputs": []
        },
        {
            "cell_type": "code",
            "source": [
                "x = Variable(np.array(1.0))"
            ],
            "metadata": {
                "id": "n7NpGwCkJKPC",
                "executionInfo": {
                    "status": "ok",
                    "timestamp": 1706497434605,
                    "user_tz": -540,
                    "elapsed": 7,
                    "user": {
                        "displayName": "",
                        "userId": ""
                    }
                }
            },
            "execution_count": 14,
            "outputs": []
        },
        {
            "cell_type": "code",
            "source": [
                "x = Variable(None)"
            ],
            "metadata": {
                "id": "zxfvNrD2JOpo",
                "executionInfo": {
                    "status": "ok",
                    "timestamp": 1706497434605,
                    "user_tz": -540,
                    "elapsed": 7,
                    "user": {
                        "displayName": "",
                        "userId": ""
                    }
                }
            },
            "execution_count": 15,
            "outputs": []
        },
        {
            "cell_type": "code",
            "source": [
                "x = Variable(1.0)"
            ],
            "metadata": {
                "colab": {
                    "base_uri": "https://localhost:8080/",
                    "height": 305
                },
                "id": "EeR4-atMJPbq",
                "executionInfo": {
                    "status": "error",
                    "timestamp": 1706497434606,
                    "user_tz": -540,
                    "elapsed": 8,
                    "user": {
                        "displayName": "",
                        "userId": ""
                    }
                },
                "outputId": "a2ab0490-f4e8-4213-cf77-8ec32aec44eb"
            },
            "execution_count": 16,
            "outputs": [
                {
                    "output_type": "error",
                    "ename": "TypeError",
                    "evalue": "<class 'float'>은(는) 지원하지 않습니다.",
                    "traceback": [
                        "\u001b[0;31m---------------------------------------------------------------------------\u001b[0m",
                        "\u001b[0;31mTypeError\u001b[0m                                 Traceback (most recent call last)",
                        "\u001b[0;32m<ipython-input-16-73d504647026>\u001b[0m in \u001b[0;36m<cell line: 1>\u001b[0;34m()\u001b[0m\n\u001b[0;32m----> 1\u001b[0;31m \u001b[0mx\u001b[0m \u001b[0;34m=\u001b[0m \u001b[0mVariable\u001b[0m\u001b[0;34m(\u001b[0m\u001b[0;36m1.0\u001b[0m\u001b[0;34m)\u001b[0m\u001b[0;34m\u001b[0m\u001b[0;34m\u001b[0m\u001b[0m\n\u001b[0m",
                        "\u001b[0;32m<ipython-input-13-711b29f18b3f>\u001b[0m in \u001b[0;36m__init__\u001b[0;34m(self, data)\u001b[0m\n\u001b[1;32m      6\u001b[0m         \u001b[0;32mif\u001b[0m \u001b[0mdata\u001b[0m \u001b[0;32mis\u001b[0m \u001b[0;32mnot\u001b[0m \u001b[0;32mNone\u001b[0m\u001b[0;34m:\u001b[0m\u001b[0;34m\u001b[0m\u001b[0;34m\u001b[0m\u001b[0m\n\u001b[1;32m      7\u001b[0m             \u001b[0;32mif\u001b[0m \u001b[0;32mnot\u001b[0m \u001b[0misinstance\u001b[0m\u001b[0;34m(\u001b[0m\u001b[0mdata\u001b[0m\u001b[0;34m,\u001b[0m \u001b[0mnp\u001b[0m\u001b[0;34m.\u001b[0m\u001b[0mndarray\u001b[0m\u001b[0;34m)\u001b[0m\u001b[0;34m:\u001b[0m\u001b[0;34m\u001b[0m\u001b[0;34m\u001b[0m\u001b[0m\n\u001b[0;32m----> 8\u001b[0;31m                 \u001b[0;32mraise\u001b[0m \u001b[0mTypeError\u001b[0m\u001b[0;34m(\u001b[0m\u001b[0;34mf\"{type(data)}은(는) 지원하지 않습니다.\"\u001b[0m\u001b[0;34m)\u001b[0m\u001b[0;34m\u001b[0m\u001b[0;34m\u001b[0m\u001b[0m\n\u001b[0m\u001b[1;32m      9\u001b[0m         \u001b[0;31m########################################\u001b[0m\u001b[0;34m\u001b[0m\u001b[0;34m\u001b[0m\u001b[0m\n\u001b[1;32m     10\u001b[0m \u001b[0;34m\u001b[0m\u001b[0m\n",
                        "\u001b[0;31mTypeError\u001b[0m: <class 'float'>은(는) 지원하지 않습니다."
                    ]
                }
            ]
        },
        {
            "cell_type": "code",
            "source": [
                "x = np.array([1.0])\n",
                "y = x ** 2\n",
                "print(type(x), x.ndim)\n",
                "print(type(y))"
            ],
            "metadata": {
                "colab": {
                    "base_uri": "https://localhost:8080/"
                },
                "id": "0OyjehjRJdHc",
                "executionInfo": {
                    "status": "ok",
                    "timestamp": 1706497445446,
                    "user_tz": -540,
                    "elapsed": 424,
                    "user": {
                        "displayName": "",
                        "userId": ""
                    }
                },
                "outputId": "e12913cd-b98f-452c-8d6b-fb3dca314455"
            },
            "execution_count": 17,
            "outputs": [
                {
                    "output_type": "stream",
                    "name": "stdout",
                    "text": [
                        "<class 'numpy.ndarray'> 1\n",
                        "<class 'numpy.ndarray'>\n"
                    ]
                }
            ]
        },
        {
            "cell_type": "code",
            "source": [
                "x = np.array(1.0)\n",
                "y = x ** 2\n",
                "print(type(x), x.ndim)\n",
                "print(type(y))"
            ],
            "metadata": {
                "colab": {
                    "base_uri": "https://localhost:8080/"
                },
                "id": "6Zm4cqh_JupS",
                "executionInfo": {
                    "status": "ok",
                    "timestamp": 1706497448206,
                    "user_tz": -540,
                    "elapsed": 297,
                    "user": {
                        "displayName": "",
                        "userId": ""
                    }
                },
                "outputId": "a9fc0f8c-de08-4f5c-de0c-45f08c12e793"
            },
            "execution_count": 18,
            "outputs": [
                {
                    "output_type": "stream",
                    "name": "stdout",
                    "text": [
                        "<class 'numpy.ndarray'> 0\n",
                        "<class 'numpy.float64'>\n"
                    ]
                }
            ]
        },
        {
            "cell_type": "code",
            "source": [
                "import numpy as np\n",
                "\n",
                "def as_array(x):\n",
                "    if np.isscalar(x):\n",
                "        return np.array(x)\n",
                "    return x"
            ],
            "metadata": {
                "id": "2Tsbu6vFJyQS",
                "executionInfo": {
                    "status": "ok",
                    "timestamp": 1706497451406,
                    "user_tz": -540,
                    "elapsed": 293,
                    "user": {
                        "displayName": "",
                        "userId": ""
                    }
                }
            },
            "execution_count": 19,
            "outputs": []
        },
        {
            "cell_type": "code",
            "source": [
                "import numpy as np\n",
                "np.isscalar(np.float64(1.0))"
            ],
            "metadata": {
                "colab": {
                    "base_uri": "https://localhost:8080/"
                },
                "id": "PxWYMuybJ7F6",
                "executionInfo": {
                    "status": "ok",
                    "timestamp": 1706497464707,
                    "user_tz": -540,
                    "elapsed": 307,
                    "user": {
                        "displayName": "",
                        "userId": ""
                    }
                },
                "outputId": "8a4f013f-cd7b-4f91-b914-44957462c55c"
            },
            "execution_count": 20,
            "outputs": [
                {
                    "output_type": "execute_result",
                    "data": {
                        "text/plain": [
                            "True"
                        ]
                    },
                    "metadata": {},
                    "execution_count": 20
                }
            ]
        },
        {
            "cell_type": "code",
            "source": [
                "np.isscalar(2.0)"
            ],
            "metadata": {
                "colab": {
                    "base_uri": "https://localhost:8080/"
                },
                "id": "v9DGISqoKB-P",
                "executionInfo": {
                    "status": "ok",
                    "timestamp": 1706497466645,
                    "user_tz": -540,
                    "elapsed": 405,
                    "user": {
                        "displayName": "",
                        "userId": ""
                    }
                },
                "outputId": "ff472c64-44e2-4f84-9985-291a89e0c0ec"
            },
            "execution_count": 21,
            "outputs": [
                {
                    "output_type": "execute_result",
                    "data": {
                        "text/plain": [
                            "True"
                        ]
                    },
                    "metadata": {},
                    "execution_count": 21
                }
            ]
        },
        {
            "cell_type": "code",
            "source": [
                "np.isscalar(np.array(1.0))"
            ],
            "metadata": {
                "colab": {
                    "base_uri": "https://localhost:8080/"
                },
                "id": "gVCayVDDKEWU",
                "executionInfo": {
                    "status": "ok",
                    "timestamp": 1706497469451,
                    "user_tz": -540,
                    "elapsed": 439,
                    "user": {
                        "displayName": "",
                        "userId": ""
                    }
                },
                "outputId": "d8190f8c-ca78-4303-f7c7-b5da75e748d8"
            },
            "execution_count": 22,
            "outputs": [
                {
                    "output_type": "execute_result",
                    "data": {
                        "text/plain": [
                            "False"
                        ]
                    },
                    "metadata": {},
                    "execution_count": 22
                }
            ]
        },
        {
            "cell_type": "code",
            "source": [
                "np.isscalar(np.array([1, 2, 3]))"
            ],
            "metadata": {
                "colab": {
                    "base_uri": "https://localhost:8080/"
                },
                "id": "-Gou4D22KHbM",
                "executionInfo": {
                    "status": "ok",
                    "timestamp": 1706497472070,
                    "user_tz": -540,
                    "elapsed": 382,
                    "user": {
                        "displayName": "",
                        "userId": ""
                    }
                },
                "outputId": "a81675cb-f481-429e-d50b-3c7d0d7c79e8"
            },
            "execution_count": 23,
            "outputs": [
                {
                    "output_type": "execute_result",
                    "data": {
                        "text/plain": [
                            "False"
                        ]
                    },
                    "metadata": {},
                    "execution_count": 23
                }
            ]
        },
        {
            "cell_type": "code",
            "source": [
                "import numpy as np\n",
                "\n",
                "\n",
                "class Function:\n",
                "    \"\"\"\n",
                "\n",
                "    * Function 클래스는 기반 클래스로서, 모든 함수에 공통되는 기능을 구현합니다.\n",
                "    * 구체적인 함수는 Function 클래스를 상속한 클래스에서 구현합니다.\n",
                "    \"\"\"\n",
                "    def __call__(self, input):\n",
                "        x = input.data\n",
                "        y = self.forward(x)\n",
                "        ########################################\n",
                "        output = Variable(as_array(y))\n",
                "        ########################################\n",
                "        output.set_creator(self)\n",
                "        self.input = input\n",
                "        self.output = output\n",
                "        return output\n",
                "\n",
                "    def forward(self, x):\n",
                "        raise NotImplementedError()\n",
                "\n",
                "    def backward(self, gy):\n",
                "        raise NotImplementedError()\n",
                "\n",
                "\n",
                "class Square(Function):\n",
                "    def forward(self, x):\n",
                "        return x ** 2\n",
                "\n",
                "    def backward(self, gy):\n",
                "        x = self.input.data\n",
                "        gx = 2 * x * gy\n",
                "        return gx\n",
                "\n",
                "\n",
                "class Exp(Function):\n",
                "    def forward(self, x):\n",
                "        return np.exp(x)\n",
                "\n",
                "    def backward(self, gy):\n",
                "        x = self.input.data\n",
                "        gx = np.exp(x) * gy\n",
                "        return gx"
            ],
            "metadata": {
                "id": "6R-wCS0HKPSl",
                "executionInfo": {
                    "status": "ok",
                    "timestamp": 1706497475093,
                    "user_tz": -540,
                    "elapsed": 320,
                    "user": {
                        "displayName": "",
                        "userId": ""
                    }
                }
            },
            "execution_count": 24,
            "outputs": []
        }
    ]
}