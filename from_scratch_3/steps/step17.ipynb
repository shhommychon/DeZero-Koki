{
  "nbformat": 4,
  "nbformat_minor": 0,
  "metadata": {
    "colab": {
      "provenance": []
    },
    "kernelspec": {
      "name": "python3",
      "display_name": "Python 3"
    },
    "language_info": {
      "name": "python"
    }
  },
  "cells": [
    {
      "cell_type": "markdown",
      "source": [
        "[![Open In Colab](https://colab.research.google.com/assets/colab-badge.svg)](https://colab.research.google.com/github/shhommychon/DeZero-Koki/blob/master/from_scratch_3/steps/step17.ipynb)"
      ],
      "metadata": {
        "id": "tljHQ_kCyCDk"
      }
    },
    {
      "cell_type": "markdown",
      "source": [
        "# 제1고지 미분 자동 계산"
      ],
      "metadata": {
        "id": "4tRTGZRKzkVm"
      }
    },
    {
      "cell_type": "code",
      "source": [
        "import numpy as np\n",
        "\n",
        "\n",
        "def as_array(x):\n",
        "    if np.isscalar(x):\n",
        "        return np.array(x)\n",
        "    return x\n"
      ],
      "metadata": {
        "id": "39laKqc7G2zl"
      },
      "execution_count": 1,
      "outputs": []
    },
    {
      "cell_type": "code",
      "source": [
        "# class Exp(Function):\n",
        "#     def forward(self, x):\n",
        "#         return np.exp(x)\n",
        "\n",
        "#     def backward(self, gy):\n",
        "#         x = self.input.data\n",
        "#         gx = np.exp(x) * gy\n",
        "#         return gx\n",
        "\n",
        "\n",
        "# def exp(x):\n",
        "#     return Exp()(x)\n"
      ],
      "metadata": {
        "id": "0tjotk1THBIw"
      },
      "execution_count": 2,
      "outputs": []
    },
    {
      "cell_type": "code",
      "source": [
        "def numerical_diff(f, x, eps=1e-4):\n",
        "    \"\"\"\n",
        "\n",
        "      param:\n",
        "        f (Function): 미분의 대상이 되는 함수\n",
        "        x (Variable): 미분을 계산하는 변수\n",
        "        eps (float): 작은 값\n",
        "    \"\"\"\n",
        "    x0 = Variable(x.data - eps)\n",
        "    x1 = Variable(x.data + eps)\n",
        "    y0 = f(x0)\n",
        "    y1 = f(x1)\n",
        "    return (y1.data - y0.data) / (2 * eps)"
      ],
      "metadata": {
        "id": "6R-wCS0HKPSl"
      },
      "execution_count": 3,
      "outputs": []
    },
    {
      "cell_type": "markdown",
      "source": [
        "# 제2고지 자연스러운 코드로"
      ],
      "metadata": {
        "id": "S4Byz6xBg7Fa"
      }
    },
    {
      "cell_type": "markdown",
      "source": [
        "## 11단계 가변 길이 인수(순전파 편)"
      ],
      "metadata": {
        "id": "asGSdga7hMnz"
      }
    },
    {
      "cell_type": "code",
      "source": [],
      "metadata": {
        "id": "e14gjXxIkLO8"
      },
      "execution_count": 3,
      "outputs": []
    },
    {
      "cell_type": "markdown",
      "source": [
        "## 12단계 가변 길이 인수(개선 편)"
      ],
      "metadata": {
        "id": "4KAaNtzbku-t"
      }
    },
    {
      "cell_type": "code",
      "source": [],
      "metadata": {
        "id": "oRQrnm1Dmg5h"
      },
      "execution_count": 3,
      "outputs": []
    },
    {
      "cell_type": "markdown",
      "source": [
        "## 13단계 가변 길이 인수(역전파 편)"
      ],
      "metadata": {
        "id": "RMsSCNDIoV_h"
      }
    },
    {
      "cell_type": "code",
      "source": [],
      "metadata": {
        "id": "Ar1Aik1Qqx27"
      },
      "execution_count": 3,
      "outputs": []
    },
    {
      "cell_type": "markdown",
      "source": [
        "## 14단계 같은 변수 반복 사용"
      ],
      "metadata": {
        "id": "n1oBMPQVd8nj"
      }
    },
    {
      "cell_type": "code",
      "source": [],
      "metadata": {
        "id": "oDQKkjIaf10O"
      },
      "execution_count": 3,
      "outputs": []
    },
    {
      "cell_type": "markdown",
      "source": [
        "## 15단계 복잡한 계산 그래프(이론 편)"
      ],
      "metadata": {
        "id": "obUPPtCuv1Sw"
      }
    },
    {
      "cell_type": "code",
      "source": [],
      "metadata": {
        "id": "aVZ_w4fjv2e0"
      },
      "execution_count": 3,
      "outputs": []
    },
    {
      "cell_type": "markdown",
      "source": [
        "## 16단계 복잡한 계산 그래프(구현 편)"
      ],
      "metadata": {
        "id": "cszcSufvv2ua"
      }
    },
    {
      "cell_type": "code",
      "source": [
        "# class Add(Function):\n",
        "#     def forward(self, x0, x1):\n",
        "#         y = x0 + x1\n",
        "#         return y\n",
        "\n",
        "#     def backward(self, gy):\n",
        "#         return gy, gy\n",
        "\n",
        "\n",
        "# def add(x0, x1):\n",
        "#     return Add()(x0, x1)\n"
      ],
      "metadata": {
        "id": "HhHicfa60Umc"
      },
      "execution_count": 4,
      "outputs": []
    },
    {
      "cell_type": "markdown",
      "source": [
        "## 17단계 메모리 관리와 순환 참조"
      ],
      "metadata": {
        "id": "9SJdzWiC5DVD"
      }
    },
    {
      "cell_type": "markdown",
      "source": [
        "### 17.1 메모리 관리"
      ],
      "metadata": {
        "id": "JYcNOZzO7CL5"
      }
    },
    {
      "cell_type": "code",
      "source": [],
      "metadata": {
        "id": "7q1v1Csw7BFz"
      },
      "execution_count": 4,
      "outputs": []
    },
    {
      "cell_type": "markdown",
      "source": [
        "### 17.2 참조 카운트 방식의 메모리 관리"
      ],
      "metadata": {
        "id": "APPWHiwm79-9"
      }
    },
    {
      "cell_type": "code",
      "source": [
        "# class obj: pass\n",
        "# def f(x): print(x)\n",
        "\n",
        "# a = obj()  # 변수에 대입: 참조 카운트 1\n",
        "# f(a)  # 함수에 전달: 함수 안에서는 참조 카운트 2\n",
        "# # 함수 완료: 빠져나오면 참조 카운트 1\n",
        "# a = None  # 대입 해제: 참조 카운트 0"
      ],
      "metadata": {
        "id": "4uYu2RWVB1Tz"
      },
      "execution_count": 5,
      "outputs": []
    },
    {
      "cell_type": "code",
      "source": [
        "# a = obj()\n",
        "# b = obj()\n",
        "# c = obj()\n",
        "\n",
        "# a.b = b\n",
        "# b.c = c\n",
        "\n",
        "# a = b = c = None  # a의 참조 카운트가 0이 되면서 삭제되고, b와 c도 따라서 삭제 됨"
      ],
      "metadata": {
        "id": "CdlfxNzTAMHS"
      },
      "execution_count": 6,
      "outputs": []
    },
    {
      "cell_type": "markdown",
      "source": [
        "### 17.3 순환 참조"
      ],
      "metadata": {
        "id": "Db6EmjpnIqub"
      }
    },
    {
      "cell_type": "code",
      "source": [
        "# a = obj()\n",
        "# b = obj()\n",
        "# c = obj()\n",
        "\n",
        "# a.b = b\n",
        "# b.c = c\n",
        "# c.a = a\n",
        "\n",
        "# a = b = c = None  # a, b, c의 참조 카운트 중 어느 것도 0이 되지 않아 접근할 수 없으면서도 메모리에서 삭제되지 않는 상태가 됨"
      ],
      "metadata": {
        "id": "_xdLzjj7Ivcf"
      },
      "execution_count": 7,
      "outputs": []
    },
    {
      "cell_type": "markdown",
      "source": [
        "### 17.4 weakref 모듈\n",
        "\n",
        "- 여기 내용은 jupyter로 실행하면 제대로 실행되지 않음"
      ],
      "metadata": {
        "id": "M89eP5VdJEVc"
      }
    },
    {
      "cell_type": "code",
      "source": [
        "python_script = \"\"\"\n",
        "import weakref\n",
        "import numpy as np\n",
        "\n",
        "a = np.array([1, 2, 3])\n",
        "b = weakref.ref(a)\n",
        "\n",
        "print(b)\n",
        "print(b())\n",
        "\"\"\".strip()\n",
        "\n",
        "with open(\"py.py\", 'w') as f: f.write(python_script)\n",
        "!python py.py"
      ],
      "metadata": {
        "colab": {
          "base_uri": "https://localhost:8080/"
        },
        "id": "iQDknyfhJICL",
        "outputId": "b6d308bc-28db-4707-df5f-674d351485aa"
      },
      "execution_count": 8,
      "outputs": [
        {
          "output_type": "stream",
          "name": "stdout",
          "text": [
            "<weakref at 0x78cbb55f11c0; to 'numpy.ndarray' at 0x78cbb54a5b90>\n",
            "[1 2 3]\n"
          ]
        }
      ]
    },
    {
      "cell_type": "code",
      "source": [
        "python_script = \"\"\"\n",
        "import weakref\n",
        "import numpy as np\n",
        "\n",
        "a = np.array([1, 2, 3])\n",
        "b = weakref.ref(a)\n",
        "\n",
        "a = None\n",
        "print(b)\n",
        "# print(b())\n",
        "\"\"\".strip()\n",
        "\n",
        "with open(\"py.py\", 'w') as f: f.write(python_script)\n",
        "!python py.py"
      ],
      "metadata": {
        "colab": {
          "base_uri": "https://localhost:8080/"
        },
        "id": "nNP_ROTsJ01F",
        "outputId": "ca5e5345-2cdc-4714-8333-007a367c7128"
      },
      "execution_count": 9,
      "outputs": [
        {
          "output_type": "stream",
          "name": "stdout",
          "text": [
            "<weakref at 0x7c398b96d1c0; dead>\n"
          ]
        }
      ]
    },
    {
      "cell_type": "code",
      "source": [
        "import weakref\n",
        "\n",
        "\n",
        "class Function:\n",
        "    \"\"\"\n",
        "\n",
        "    * Function 클래스는 기반 클래스로서, 모든 함수에 공통되는 기능을 구현합니다.\n",
        "    * 구체적인 함수는 Function 클래스를 상속한 클래스에서 구현합니다.\n",
        "    \"\"\"\n",
        "    def __call__(self, *inputs):\n",
        "        xs = [ x.data for x in inputs ]\n",
        "        ys = self.forward(*xs)\n",
        "        if not isinstance(ys, tuple): ys = ys,\n",
        "        outputs = [ Variable(as_array(y)) for y in ys ]\n",
        "\n",
        "        self.generation = max([x.generation for x in inputs])\n",
        "        for output in outputs:\n",
        "            output.set_creator(self)\n",
        "        self.inputs = inputs\n",
        "        self.outputs = [weakref.ref(output) for output in outputs]  # 변경!\n",
        "        return outputs if len(outputs) > 1 else outputs[0]\n",
        "\n",
        "    def forward(self, xs):\n",
        "        raise NotImplementedError()\n",
        "\n",
        "    def backward(self, gys):\n",
        "        raise NotImplementedError()"
      ],
      "metadata": {
        "id": "MDmaZqRuJxOU"
      },
      "execution_count": 10,
      "outputs": []
    },
    {
      "cell_type": "code",
      "source": [
        "import numpy as np\n",
        "\n",
        "\n",
        "class Variable:\n",
        "    def __init__(self, data):\n",
        "        if data is not None:\n",
        "            if not isinstance(data, np.ndarray):\n",
        "                raise TypeError(f\"{type(data)}은(는) 지원하지 않습니다.\")\n",
        "\n",
        "        self.data = data\n",
        "        self.grad = None\n",
        "        self.creator = None\n",
        "        self.generation = 0\n",
        "\n",
        "    def set_creator(self, func):\n",
        "        self.creator = func\n",
        "        self.generation = func.generation + 1\n",
        "\n",
        "    def backward(self):\n",
        "        if self.grad is None:\n",
        "            self.grad = np.ones_like(self.data)\n",
        "\n",
        "        funcs = []\n",
        "        seen_set = set()\n",
        "\n",
        "        def add_func(f):\n",
        "            if f not in seen_set:\n",
        "                funcs.append(f)\n",
        "                seen_set.add(f)\n",
        "                funcs.sort(key=lambda x: x.generation)\n",
        "\n",
        "        add_func(self.creator)\n",
        "\n",
        "        while funcs:\n",
        "            f = funcs.pop()\n",
        "            gys = [ output().grad for output in f.outputs ]  # 변경!\n",
        "            gxs = f.backward(*gys)\n",
        "            if not isinstance(gxs, tuple): gxs = gxs,\n",
        "\n",
        "            for x, gx in zip(f.inputs, gxs):\n",
        "                if x.grad is None:\n",
        "                    x.grad = gx\n",
        "                else:\n",
        "                    x.grad = x.grad + gx\n",
        "\n",
        "                if x.creator is not None:\n",
        "                    add_func(x.creator)\n",
        "\n",
        "    def cleargrad(self):\n",
        "        self.grad = None\n"
      ],
      "metadata": {
        "id": "1MIOWudeJzt5"
      },
      "execution_count": 11,
      "outputs": []
    },
    {
      "cell_type": "code",
      "source": [
        "class Square(Function):\n",
        "    def forward(self, x):\n",
        "        return x ** 2\n",
        "\n",
        "    def backward(self, gy):\n",
        "        x = self.inputs[0].data\n",
        "        gx = 2 * x * gy\n",
        "        return gx\n",
        "\n",
        "\n",
        "def square(x):\n",
        "    return Square()(x)\n"
      ],
      "metadata": {
        "id": "dJAQrwSlPBoN"
      },
      "execution_count": 12,
      "outputs": []
    },
    {
      "cell_type": "code",
      "source": [
        "for i in range(10):\n",
        "    x = Variable(np.random.randn(10000))  # 거대한 데이터\n",
        "    y = square(square(square(x)))  # 복잡한 계산을 수행한다."
      ],
      "metadata": {
        "id": "Xc3-sKi3J5E4"
      },
      "execution_count": 13,
      "outputs": []
    }
  ]
}