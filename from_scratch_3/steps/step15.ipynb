{
  "nbformat": 4,
  "nbformat_minor": 0,
  "metadata": {
    "colab": {
      "provenance": []
    },
    "kernelspec": {
      "name": "python3",
      "display_name": "Python 3"
    },
    "language_info": {
      "name": "python"
    }
  },
  "cells": [
    {
      "cell_type": "markdown",
      "source": [
        "[![Open In Colab](https://colab.research.google.com/assets/colab-badge.svg)](https://colab.research.google.com/github/shhommychon/DeZero-Koki/blob/master/from_scratch_3/steps/step15.ipynb)"
      ],
      "metadata": {
        "id": "tljHQ_kCyCDk"
      }
    },
    {
      "cell_type": "markdown",
      "source": [
        "# 제1고지 미분 자동 계산"
      ],
      "metadata": {
        "id": "4tRTGZRKzkVm"
      }
    },
    {
      "cell_type": "code",
      "source": [
        "import numpy as np\n",
        "\n",
        "\n",
        "def as_array(x):\n",
        "    if np.isscalar(x):\n",
        "        return np.array(x)\n",
        "    return x\n"
      ],
      "metadata": {
        "id": "39laKqc7G2zl"
      },
      "execution_count": 1,
      "outputs": []
    },
    {
      "cell_type": "code",
      "source": [
        "# class Exp(Function):\n",
        "#     def forward(self, x):\n",
        "#         return np.exp(x)\n",
        "\n",
        "#     def backward(self, gy):\n",
        "#         x = self.input.data\n",
        "#         gx = np.exp(x) * gy\n",
        "#         return gx\n",
        "\n",
        "\n",
        "# def exp(x):\n",
        "#     return Exp()(x)\n"
      ],
      "metadata": {
        "id": "0tjotk1THBIw"
      },
      "execution_count": 2,
      "outputs": []
    },
    {
      "cell_type": "code",
      "source": [
        "def numerical_diff(f, x, eps=1e-4):\n",
        "    \"\"\"\n",
        "\n",
        "      param:\n",
        "        f (Function): 미분의 대상이 되는 함수\n",
        "        x (Variable): 미분을 계산하는 변수\n",
        "        eps (float): 작은 값\n",
        "    \"\"\"\n",
        "    x0 = Variable(x.data - eps)\n",
        "    x1 = Variable(x.data + eps)\n",
        "    y0 = f(x0)\n",
        "    y1 = f(x1)\n",
        "    return (y1.data - y0.data) / (2 * eps)"
      ],
      "metadata": {
        "id": "6R-wCS0HKPSl"
      },
      "execution_count": 3,
      "outputs": []
    },
    {
      "cell_type": "markdown",
      "source": [
        "# 제2고지 자연스러운 코드로"
      ],
      "metadata": {
        "id": "S4Byz6xBg7Fa"
      }
    },
    {
      "cell_type": "markdown",
      "source": [
        "## 11단계 가변 길이 인수(순전파 편)"
      ],
      "metadata": {
        "id": "asGSdga7hMnz"
      }
    },
    {
      "cell_type": "code",
      "source": [],
      "metadata": {
        "id": "e14gjXxIkLO8"
      },
      "execution_count": 3,
      "outputs": []
    },
    {
      "cell_type": "markdown",
      "source": [
        "## 12단계 가변 길이 인수(개선 편)"
      ],
      "metadata": {
        "id": "4KAaNtzbku-t"
      }
    },
    {
      "cell_type": "code",
      "source": [],
      "metadata": {
        "id": "oRQrnm1Dmg5h"
      },
      "execution_count": 3,
      "outputs": []
    },
    {
      "cell_type": "markdown",
      "source": [
        "## 13단계 가변 길이 인수(역전파 편)"
      ],
      "metadata": {
        "id": "RMsSCNDIoV_h"
      }
    },
    {
      "cell_type": "code",
      "source": [
        "# class Square(Function):\n",
        "#     def forward(self, x):\n",
        "#         return x ** 2\n",
        "\n",
        "#     def backward(self, gy):\n",
        "#         x = self.inputs[0].data\n",
        "#         gx = 2 * x * gy\n",
        "#         return gx\n",
        "\n",
        "\n",
        "# def square(x):\n",
        "#     return Square()(x)\n"
      ],
      "metadata": {
        "id": "Ar1Aik1Qqx27"
      },
      "execution_count": 4,
      "outputs": []
    },
    {
      "cell_type": "markdown",
      "source": [
        "## 14단계 같은 변수 반복 사용"
      ],
      "metadata": {
        "id": "n1oBMPQVd8nj"
      }
    },
    {
      "cell_type": "code",
      "source": [
        "class Function:\n",
        "    \"\"\"\n",
        "\n",
        "    * Function 클래스는 기반 클래스로서, 모든 함수에 공통되는 기능을 구현합니다.\n",
        "    * 구체적인 함수는 Function 클래스를 상속한 클래스에서 구현합니다.\n",
        "    \"\"\"\n",
        "    def __call__(self, *inputs):\n",
        "        xs = [ x.data for x in inputs ]\n",
        "        ys = self.forward(*xs)\n",
        "        if not isinstance(ys, tuple): ys = ys,\n",
        "        outputs = [ Variable(as_array(y)) for y in ys ]\n",
        "\n",
        "        for output in outputs:\n",
        "            output.set_creator(self)\n",
        "        self.inputs = inputs\n",
        "        self.outputs = outputs\n",
        "        return outputs if len(outputs) > 1 else outputs[0]\n",
        "\n",
        "    def forward(self, xs):\n",
        "        raise NotImplementedError()\n",
        "\n",
        "    def backward(self, gys):\n",
        "        raise NotImplementedError()"
      ],
      "metadata": {
        "id": "EB9h-rbAfc4v"
      },
      "execution_count": 5,
      "outputs": []
    },
    {
      "cell_type": "code",
      "source": [
        "class Add(Function):\n",
        "    def forward(self, x0, x1):\n",
        "        y = x0 + x1\n",
        "        return y\n",
        "\n",
        "    def backward(self, gy):\n",
        "        return gy, gy\n",
        "\n",
        "\n",
        "def add(x0, x1):\n",
        "    return Add()(x0, x1)"
      ],
      "metadata": {
        "id": "oDQKkjIaf10O"
      },
      "execution_count": 6,
      "outputs": []
    },
    {
      "cell_type": "code",
      "source": [
        "import numpy as np\n",
        "\n",
        "\n",
        "class Variable:\n",
        "    def __init__(self, data):\n",
        "        if data is not None:\n",
        "            if not isinstance(data, np.ndarray):\n",
        "                raise TypeError(f\"{type(data)}은(는) 지원하지 않습니다.\")\n",
        "\n",
        "        self.data = data\n",
        "        self.grad = None\n",
        "        self.creator = None\n",
        "\n",
        "    def set_creator(self, func):\n",
        "        self.creator = func\n",
        "\n",
        "    def backward(self):\n",
        "        if self.grad is None:\n",
        "            self.grad = np.ones_like(self.data)\n",
        "\n",
        "        funcs = [self.creator]\n",
        "        while funcs:\n",
        "            f = funcs.pop()\n",
        "            gys = [ output.grad for output in f.outputs ]\n",
        "            gxs = f.backward(*gys)\n",
        "            if not isinstance(gxs, tuple): gxs = gxs,\n",
        "\n",
        "            for x, gx in zip(f.inputs, gxs):\n",
        "                if x.grad is None:\n",
        "                    x.grad = gx\n",
        "                else:\n",
        "                    x.grad = x.grad + gx\n",
        "\n",
        "                if x.creator is not None:\n",
        "                    funcs.append(x.creator)\n",
        "\n",
        "    def cleargrad(self):\n",
        "        self.grad = None\n"
      ],
      "metadata": {
        "id": "kHNeufzfmn2a"
      },
      "execution_count": 7,
      "outputs": []
    },
    {
      "cell_type": "markdown",
      "source": [
        "## 15단계 복잡한 계산 그래프(이론 편)"
      ],
      "metadata": {
        "id": "iFm0pTfBvvbf"
      }
    },
    {
      "cell_type": "markdown",
      "source": [
        "### 15.1 역전파의 올바른 순서"
      ],
      "metadata": {
        "id": "0bqRtkrJv46P"
      }
    },
    {
      "cell_type": "code",
      "source": [],
      "metadata": {
        "id": "boTncQgQv32i"
      },
      "execution_count": 7,
      "outputs": []
    },
    {
      "cell_type": "markdown",
      "source": [
        "### 15.2 현재의 DeZero"
      ],
      "metadata": {
        "id": "LDOpgt7Hv8oy"
      }
    },
    {
      "cell_type": "code",
      "source": [
        "import numpy as np\n",
        "\n",
        "\n",
        "class Variable:\n",
        "    def __init__(self, data):\n",
        "        if data is not None:\n",
        "            if not isinstance(data, np.ndarray):\n",
        "                raise TypeError(f\"{type(data)}은(는) 지원하지 않습니다.\")\n",
        "\n",
        "        self.data = data\n",
        "        self.grad = None\n",
        "        self.creator = None\n",
        "\n",
        "    def set_creator(self, func):\n",
        "        self.creator = func\n",
        "\n",
        "    def backward(self):\n",
        "        if self.grad is None:\n",
        "            self.grad = np.ones_like(self.data)\n",
        "\n",
        "        funcs = [self.creator]\n",
        "        while funcs:\n",
        "            f = funcs.pop()  # ★★★\n",
        "            gys = [ output.grad for output in f.outputs ]\n",
        "            gxs = f.backward(*gys)\n",
        "            if not isinstance(gxs, tuple): gxs = gxs,\n",
        "\n",
        "            for x, gx in zip(f.inputs, gxs):\n",
        "                if x.grad is None:\n",
        "                    x.grad = gx\n",
        "                else:\n",
        "                    x.grad = x.grad + gx\n",
        "\n",
        "                if x.creator is not None:\n",
        "                    funcs.append(x.creator)  # ★★★\n",
        "\n",
        "    def cleargrad(self):\n",
        "        self.grad = None\n"
      ],
      "metadata": {
        "id": "8eNTkafswA3H"
      },
      "execution_count": 8,
      "outputs": []
    },
    {
      "cell_type": "markdown",
      "source": [
        "### 15.3 함수 우선순위"
      ],
      "metadata": {
        "id": "4codrZCawBQo"
      }
    },
    {
      "cell_type": "code",
      "source": [],
      "metadata": {
        "id": "CrDRR_hFwbkc"
      },
      "execution_count": 8,
      "outputs": []
    }
  ]
}