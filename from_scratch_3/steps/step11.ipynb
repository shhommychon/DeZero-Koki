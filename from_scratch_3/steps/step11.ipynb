{
    "nbformat": 4,
    "nbformat_minor": 0,
    "metadata": {
        "colab": {
            "provenance": [],
            "authorship_tag": "ABX9TyMHiMxTYPfsFyXMRItkRCmT"
        },
        "kernelspec": {
            "name": "python3",
            "display_name": "Python 3"
        },
        "language_info": {
            "name": "python"
        }
    },
    "cells": [
        {
            "cell_type": "markdown",
            "source": [
                "[![Open In Colab](https://colab.research.google.com/assets/colab-badge.svg)](https://colab.research.google.com/github/shhommychon/DeZero-Koki/blob/master/from_scratch_3/steps/step11.ipynb)"
            ],
            "metadata": {
                "id": "tljHQ_kCyCDk"
            }
        },
        {
            "cell_type": "markdown",
            "source": [
                "# 제1고지 미분 자동 계산"
            ],
            "metadata": {
                "id": "4tRTGZRKzkVm"
            }
        },
        {
            "cell_type": "code",
            "source": [
                "import numpy as np\n",
                "\n",
                "\n",
                "class Variable:\n",
                "    def __init__(self, data):\n",
                "        if data is not None:\n",
                "            if not isinstance(data, np.ndarray):\n",
                "                raise TypeError(f\"{type(data)}은(는) 지원하지 않습니다.\")\n",
                "\n",
                "        self.data = data\n",
                "        self.grad = None\n",
                "        self.creator = None\n",
                "\n",
                "    def set_creator(self, func):\n",
                "        self.creator = func\n",
                "\n",
                "    def backward(self):\n",
                "        if self.grad is None:\n",
                "            self.grad = np.ones_like(self.data)\n",
                "\n",
                "        funcs = [self.creator]\n",
                "        while funcs:\n",
                "            f = funcs.pop()\n",
                "            x, y = f.input, f.output\n",
                "            x.grad = f.backward(y.grad)\n",
                "\n",
                "            if x.creator is not None:\n",
                "                funcs.append(x.creator)\n"
            ],
            "metadata": {
                "id": "ENLW2_tmFqtd",
                "executionInfo": {
                    "status": "ok",
                    "timestamp": 1706537651503,
                    "user_tz": -540,
                    "elapsed": 4,
                    "user": {
                        "displayName": "",
                        "userId": ""
                    }
                }
            },
            "execution_count": 1,
            "outputs": []
        },
        {
            "cell_type": "code",
            "source": [
                "import numpy as np\n",
                "\n",
                "\n",
                "def as_array(x):\n",
                "    if np.isscalar(x):\n",
                "        return np.array(x)\n",
                "    return x\n"
            ],
            "metadata": {
                "id": "39laKqc7G2zl",
                "executionInfo": {
                    "status": "ok",
                    "timestamp": 1706537651504,
                    "user_tz": -540,
                    "elapsed": 4,
                    "user": {
                        "displayName": "",
                        "userId": ""
                    }
                }
            },
            "execution_count": 2,
            "outputs": []
        },
        {
            "cell_type": "code",
            "source": [
                "# class Square(Function):\n",
                "#     def forward(self, x):\n",
                "#         return x ** 2\n",
                "\n",
                "#     def backward(self, gy):\n",
                "#         x = self.input.data\n",
                "#         gx = 2 * x * gy\n",
                "#         return gx\n",
                "\n",
                "\n",
                "# class Exp(Function):\n",
                "#     def forward(self, x):\n",
                "#         return np.exp(x)\n",
                "\n",
                "#     def backward(self, gy):\n",
                "#         x = self.input.data\n",
                "#         gx = np.exp(x) * gy\n",
                "#         return gx\n",
                "\n",
                "\n",
                "# def square(x):\n",
                "#     return Square()(x)  # 한 줄로 작성\n",
                "\n",
                "\n",
                "# def exp(x):\n",
                "#     return Exp()(x)\n"
            ],
            "metadata": {
                "id": "0tjotk1THBIw",
                "executionInfo": {
                    "status": "ok",
                    "timestamp": 1706537651504,
                    "user_tz": -540,
                    "elapsed": 4,
                    "user": {
                        "displayName": "",
                        "userId": ""
                    }
                }
            },
            "execution_count": 3,
            "outputs": []
        },
        {
            "cell_type": "code",
            "source": [
                "def numerical_diff(f, x, eps=1e-4):\n",
                "    \"\"\"\n",
                "\n",
                "      param:\n",
                "        f (Function): 미분의 대상이 되는 함수\n",
                "        x (Variable): 미분을 계산하는 변수\n",
                "        eps (float): 작은 값\n",
                "    \"\"\"\n",
                "    x0 = Variable(x.data - eps)\n",
                "    x1 = Variable(x.data + eps)\n",
                "    y0 = f(x0)\n",
                "    y1 = f(x1)\n",
                "    return (y1.data - y0.data) / (2 * eps)"
            ],
            "metadata": {
                "id": "6R-wCS0HKPSl",
                "executionInfo": {
                    "status": "ok",
                    "timestamp": 1706537651504,
                    "user_tz": -540,
                    "elapsed": 3,
                    "user": {
                        "displayName": "",
                        "userId": ""
                    }
                }
            },
            "execution_count": 4,
            "outputs": []
        },
        {
            "cell_type": "markdown",
            "source": [
                "# 제2고지 자연스러운 코드로"
            ],
            "metadata": {
                "id": "S4Byz6xBg7Fa"
            }
        },
        {
            "cell_type": "markdown",
            "source": [
                "## 11단계 가변 길이 인수(순전파 편)"
            ],
            "metadata": {
                "id": "asGSdga7hMnz"
            }
        },
        {
            "cell_type": "markdown",
            "source": [
                "### 11.1 Function 클래스 수정"
            ],
            "metadata": {
                "id": "pBRPeVUchf5Y"
            }
        },
        {
            "cell_type": "code",
            "source": [
                "class Function:\n",
                "    \"\"\"\n",
                "\n",
                "    * Function 클래스는 기반 클래스로서, 모든 함수에 공통되는 기능을 구현합니다.\n",
                "    * 구체적인 함수는 Function 클래스를 상속한 클래스에서 구현합니다.\n",
                "    \"\"\"\n",
                "    def __call__(self, input):\n",
                "        x = input.data  # (1) Variable에서 실제 데이터를 꺼냄.\n",
                "        y = self.forward(x)  # (2) 구체적인 계산 진행.\n",
                "        output = Variable(as_array(y))  # (3) 계산 결과를 Variable에 넣음.\n",
                "        output.set_creator(self)  # (4) 본 함수가 계산 결과의 '창조자'임을 명시.\n",
                "        self.input = input\n",
                "        self.output = output\n",
                "        return output\n",
                "\n",
                "    def forward(self, x):\n",
                "        raise NotImplementedError()\n",
                "\n",
                "    def backward(self, gy):\n",
                "        raise NotImplementedError()"
            ],
            "metadata": {
                "id": "HYul5t_dhWLy",
                "executionInfo": {
                    "status": "ok",
                    "timestamp": 1706537651820,
                    "user_tz": -540,
                    "elapsed": 319,
                    "user": {
                        "displayName": "",
                        "userId": ""
                    }
                }
            },
            "execution_count": 5,
            "outputs": []
        },
        {
            "cell_type": "code",
            "source": [
                "class Function:\n",
                "    \"\"\"\n",
                "\n",
                "    * Function 클래스는 기반 클래스로서, 모든 함수에 공통되는 기능을 구현합니다.\n",
                "    * 구체적인 함수는 Function 클래스를 상속한 클래스에서 구현합니다.\n",
                "    \"\"\"\n",
                "    def __call__(self, inputs):\n",
                "        xs = [ x.data for x in inputs ]  # (1)\n",
                "        ys = self.forward(xs)  # (2)\n",
                "        outputs = [ Variable(as_array(y)) for y in ys ]  # (3)\n",
                "        for output in outputs: output.set_creator(self)  # (4)\n",
                "        self.inputs = inputs\n",
                "        self.outputs = outputs\n",
                "        return outputs\n",
                "\n",
                "    def forward(self, xs):\n",
                "        raise NotImplementedError()\n",
                "\n",
                "    def backward(self, gys):\n",
                "        raise NotImplementedError()"
            ],
            "metadata": {
                "id": "Is_QWBVGi_Jt",
                "executionInfo": {
                    "status": "ok",
                    "timestamp": 1706537651820,
                    "user_tz": -540,
                    "elapsed": 3,
                    "user": {
                        "displayName": "",
                        "userId": ""
                    }
                }
            },
            "execution_count": 6,
            "outputs": []
        },
        {
            "cell_type": "markdown",
            "source": [
                "### 11.2 Add 클래스 구현"
            ],
            "metadata": {
                "id": "ucNpyrDQj5Sy"
            }
        },
        {
            "cell_type": "code",
            "source": [
                "class Add(Function):\n",
                "    def forward(self, xs):\n",
                "        x0, x1 = xs\n",
                "        y = x0 + x1\n",
                "        return y,"
            ],
            "metadata": {
                "id": "JP_VpL65j8ZN",
                "executionInfo": {
                    "status": "ok",
                    "timestamp": 1706537651821,
                    "user_tz": -540,
                    "elapsed": 4,
                    "user": {
                        "displayName": "",
                        "userId": ""
                    }
                }
            },
            "execution_count": 7,
            "outputs": []
        },
        {
            "cell_type": "code",
            "source": [
                "xs = [Variable(np.array(2)), Variable(np.array(3))]\n",
                "f = Add()\n",
                "ys = f(xs)  # ys 튜플\n",
                "y = ys[0]\n",
                "print(y.data)"
            ],
            "metadata": {
                "colab": {
                    "base_uri": "https://localhost:8080/"
                },
                "id": "e14gjXxIkLO8",
                "executionInfo": {
                    "status": "ok",
                    "timestamp": 1706537651821,
                    "user_tz": -540,
                    "elapsed": 4,
                    "user": {
                        "displayName": "",
                        "userId": ""
                    }
                },
                "outputId": "240615c3-4af2-4681-af1c-8e9b0a64f74a"
            },
            "execution_count": 8,
            "outputs": [
                {
                    "output_type": "stream",
                    "name": "stdout",
                    "text": [
                        "5\n"
                    ]
                }
            ]
        }
    ]
}