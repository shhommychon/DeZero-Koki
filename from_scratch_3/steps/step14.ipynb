{
  "nbformat": 4,
  "nbformat_minor": 0,
  "metadata": {
    "colab": {
      "provenance": []
    },
    "kernelspec": {
      "name": "python3",
      "display_name": "Python 3"
    },
    "language_info": {
      "name": "python"
    }
  },
  "cells": [
    {
      "cell_type": "markdown",
      "source": [
        "[![Open In Colab](https://colab.research.google.com/assets/colab-badge.svg)](https://colab.research.google.com/github/shhommychon/DeZero-Koki/blob/master/from_scratch_3/steps/step14.ipynb)"
      ],
      "metadata": {
        "id": "tljHQ_kCyCDk"
      }
    },
    {
      "cell_type": "markdown",
      "source": [
        "# 제1고지 미분 자동 계산"
      ],
      "metadata": {
        "id": "4tRTGZRKzkVm"
      }
    },
    {
      "cell_type": "code",
      "source": [
        "import numpy as np\n",
        "\n",
        "\n",
        "def as_array(x):\n",
        "    if np.isscalar(x):\n",
        "        return np.array(x)\n",
        "    return x\n"
      ],
      "metadata": {
        "id": "39laKqc7G2zl"
      },
      "execution_count": 1,
      "outputs": []
    },
    {
      "cell_type": "code",
      "source": [
        "# class Exp(Function):\n",
        "#     def forward(self, x):\n",
        "#         return np.exp(x)\n",
        "\n",
        "#     def backward(self, gy):\n",
        "#         x = self.input.data\n",
        "#         gx = np.exp(x) * gy\n",
        "#         return gx\n",
        "\n",
        "\n",
        "# def exp(x):\n",
        "#     return Exp()(x)\n"
      ],
      "metadata": {
        "id": "0tjotk1THBIw"
      },
      "execution_count": 2,
      "outputs": []
    },
    {
      "cell_type": "code",
      "source": [
        "def numerical_diff(f, x, eps=1e-4):\n",
        "    \"\"\"\n",
        "\n",
        "      param:\n",
        "        f (Function): 미분의 대상이 되는 함수\n",
        "        x (Variable): 미분을 계산하는 변수\n",
        "        eps (float): 작은 값\n",
        "    \"\"\"\n",
        "    x0 = Variable(x.data - eps)\n",
        "    x1 = Variable(x.data + eps)\n",
        "    y0 = f(x0)\n",
        "    y1 = f(x1)\n",
        "    return (y1.data - y0.data) / (2 * eps)"
      ],
      "metadata": {
        "id": "6R-wCS0HKPSl"
      },
      "execution_count": 3,
      "outputs": []
    },
    {
      "cell_type": "markdown",
      "source": [
        "# 제2고지 자연스러운 코드로"
      ],
      "metadata": {
        "id": "S4Byz6xBg7Fa"
      }
    },
    {
      "cell_type": "markdown",
      "source": [
        "## 11단계 가변 길이 인수(순전파 편)"
      ],
      "metadata": {
        "id": "asGSdga7hMnz"
      }
    },
    {
      "cell_type": "code",
      "source": [],
      "metadata": {
        "id": "e14gjXxIkLO8"
      },
      "execution_count": 3,
      "outputs": []
    },
    {
      "cell_type": "markdown",
      "source": [
        "## 12단계 가변 길이 인수(개선 편)"
      ],
      "metadata": {
        "id": "4KAaNtzbku-t"
      }
    },
    {
      "cell_type": "code",
      "source": [],
      "metadata": {
        "id": "oRQrnm1Dmg5h"
      },
      "execution_count": 3,
      "outputs": []
    },
    {
      "cell_type": "markdown",
      "source": [
        "## 13단계 가변 길이 인수(역전파 편)"
      ],
      "metadata": {
        "id": "RMsSCNDIoV_h"
      }
    },
    {
      "cell_type": "code",
      "source": [
        "# class Square(Function):\n",
        "#     def forward(self, x):\n",
        "#         return x ** 2\n",
        "\n",
        "#     def backward(self, gy):\n",
        "#         x = self.inputs[0].data\n",
        "#         gx = 2 * x * gy\n",
        "#         return gx\n",
        "\n",
        "\n",
        "# def square(x):\n",
        "#     return Square()(x)\n"
      ],
      "metadata": {
        "id": "Ar1Aik1Qqx27"
      },
      "execution_count": 4,
      "outputs": []
    },
    {
      "cell_type": "markdown",
      "source": [
        "## 14단계 같은 변수 반복 사용"
      ],
      "metadata": {
        "id": "n1oBMPQVd8nj"
      }
    },
    {
      "cell_type": "code",
      "source": [
        "import numpy as np\n",
        "\n",
        "\n",
        "class Variable:\n",
        "    def __init__(self, data):\n",
        "        if data is not None:\n",
        "            if not isinstance(data, np.ndarray):\n",
        "                raise TypeError(f\"{type(data)}은(는) 지원하지 않습니다.\")\n",
        "\n",
        "        self.data = data\n",
        "        self.grad = None\n",
        "        self.creator = None\n",
        "\n",
        "    def set_creator(self, func):\n",
        "        self.creator = func\n",
        "\n",
        "    def backward(self):\n",
        "        if self.grad is None:\n",
        "            self.grad = np.ones_like(self.data)\n",
        "\n",
        "        funcs = [self.creator]\n",
        "        while funcs:\n",
        "            f = funcs.pop()\n",
        "            gys = [ output.grad for output in f.outputs ]\n",
        "            gxs = f.backward(*gys)\n",
        "            if not isinstance(gxs, tuple): gxs = gxs,\n",
        "\n",
        "            for x, gx in zip(f.inputs, gxs):\n",
        "                x.grad = gx\n",
        "\n",
        "                if x.creator is not None:\n",
        "                    funcs.append(x.creator)\n"
      ],
      "metadata": {
        "id": "el7SPI55eeXL"
      },
      "execution_count": 5,
      "outputs": []
    },
    {
      "cell_type": "code",
      "source": [
        "class Function:\n",
        "    \"\"\"\n",
        "\n",
        "    * Function 클래스는 기반 클래스로서, 모든 함수에 공통되는 기능을 구현합니다.\n",
        "    * 구체적인 함수는 Function 클래스를 상속한 클래스에서 구현합니다.\n",
        "    \"\"\"\n",
        "    def __call__(self, *inputs):\n",
        "        xs = [ x.data for x in inputs ]\n",
        "        ys = self.forward(*xs)\n",
        "        if not isinstance(ys, tuple): ys = ys,\n",
        "        outputs = [ Variable(as_array(y)) for y in ys ]\n",
        "\n",
        "        for output in outputs:\n",
        "            output.set_creator(self)\n",
        "        self.inputs = inputs\n",
        "        self.outputs = outputs\n",
        "        return outputs if len(outputs) > 1 else outputs[0]\n",
        "\n",
        "    def forward(self, xs):\n",
        "        raise NotImplementedError()\n",
        "\n",
        "    def backward(self, gys):\n",
        "        raise NotImplementedError()"
      ],
      "metadata": {
        "id": "EB9h-rbAfc4v"
      },
      "execution_count": 6,
      "outputs": []
    },
    {
      "cell_type": "code",
      "source": [
        "class Add(Function):\n",
        "    def forward(self, x0, x1):\n",
        "        y = x0 + x1\n",
        "        return y\n",
        "\n",
        "    def backward(self, gy):\n",
        "        return gy, gy\n",
        "\n",
        "\n",
        "def add(x0, x1):\n",
        "    return Add()(x0, x1)"
      ],
      "metadata": {
        "id": "oDQKkjIaf10O"
      },
      "execution_count": 7,
      "outputs": []
    },
    {
      "cell_type": "code",
      "source": [
        "x = Variable(np.array(3.0))\n",
        "y = add(x, x)\n",
        "print('y', y.data)\n",
        "\n",
        "y.backward()\n",
        "print(\"x.grad\", x.grad)"
      ],
      "metadata": {
        "colab": {
          "base_uri": "https://localhost:8080/"
        },
        "id": "4zahfN2Aenvr",
        "outputId": "05022ce5-a1a1-43a9-d7bd-c25062d50909"
      },
      "execution_count": 8,
      "outputs": [
        {
          "output_type": "stream",
          "name": "stdout",
          "text": [
            "y 6.0\n",
            "x.grad 1.0\n"
          ]
        }
      ]
    },
    {
      "cell_type": "markdown",
      "source": [
        "### 14.1 문제의 원인"
      ],
      "metadata": {
        "id": "pTMKsX_4eIrp"
      }
    },
    {
      "cell_type": "code",
      "source": [
        "import numpy as np\n",
        "\n",
        "\n",
        "class Variable:\n",
        "    def __init__(self, data):\n",
        "        if data is not None:\n",
        "            if not isinstance(data, np.ndarray):\n",
        "                raise TypeError(f\"{type(data)}은(는) 지원하지 않습니다.\")\n",
        "\n",
        "        self.data = data\n",
        "        self.grad = None\n",
        "        self.creator = None\n",
        "\n",
        "    def set_creator(self, func):\n",
        "        self.creator = func\n",
        "\n",
        "    def backward(self):\n",
        "        if self.grad is None:\n",
        "            self.grad = np.ones_like(self.data)\n",
        "\n",
        "        funcs = [self.creator]\n",
        "        while funcs:\n",
        "            f = funcs.pop()\n",
        "            gys = [ output.grad for output in f.outputs ]\n",
        "            gxs = f.backward(*gys)\n",
        "            if not isinstance(gxs, tuple): gxs = gxs,\n",
        "\n",
        "            for x, gx in zip(f.inputs, gxs):\n",
        "                x.grad = gx  # 여기가 실수!\n",
        "\n",
        "                if x.creator is not None:\n",
        "                    funcs.append(x.creator)\n"
      ],
      "metadata": {
        "id": "165JIgLheICC"
      },
      "execution_count": 9,
      "outputs": []
    },
    {
      "cell_type": "markdown",
      "source": [
        "### 14.2 해결책"
      ],
      "metadata": {
        "id": "Jaa5BItqhAUM"
      }
    },
    {
      "cell_type": "code",
      "source": [
        "import numpy as np\n",
        "\n",
        "\n",
        "class Variable:\n",
        "    def __init__(self, data):\n",
        "        if data is not None:\n",
        "            if not isinstance(data, np.ndarray):\n",
        "                raise TypeError(f\"{type(data)}은(는) 지원하지 않습니다.\")\n",
        "\n",
        "        self.data = data\n",
        "        self.grad = None\n",
        "        self.creator = None\n",
        "\n",
        "    def set_creator(self, func):\n",
        "        self.creator = func\n",
        "\n",
        "    def backward(self):\n",
        "        if self.grad is None:\n",
        "            self.grad = np.ones_like(self.data)\n",
        "\n",
        "        funcs = [self.creator]\n",
        "        while funcs:\n",
        "            f = funcs.pop()\n",
        "            gys = [ output.grad for output in f.outputs ]\n",
        "            gxs = f.backward(*gys)\n",
        "            if not isinstance(gxs, tuple): gxs = gxs,\n",
        "\n",
        "            for x, gx in zip(f.inputs, gxs):\n",
        "                #########################\n",
        "                if x.grad is None:\n",
        "                    x.grad = gx\n",
        "                else:\n",
        "                    x.grad = x.grad + gx\n",
        "                #########################\n",
        "\n",
        "                if x.creator is not None:\n",
        "                    funcs.append(x.creator)\n"
      ],
      "metadata": {
        "id": "dGSrR562hNu_"
      },
      "execution_count": 10,
      "outputs": []
    },
    {
      "cell_type": "code",
      "source": [
        "x = Variable(np.array(3.0))\n",
        "y = add(x, x)\n",
        "y.backward()\n",
        "print(x.grad)"
      ],
      "metadata": {
        "colab": {
          "base_uri": "https://localhost:8080/"
        },
        "id": "KFB5LCk0h524",
        "outputId": "a2977e79-6a69-435b-f1c4-50769d93c70d"
      },
      "execution_count": 11,
      "outputs": [
        {
          "output_type": "stream",
          "name": "stdout",
          "text": [
            "2.0\n"
          ]
        }
      ]
    },
    {
      "cell_type": "code",
      "source": [
        "x = Variable(np.array(3.0))\n",
        "y = add(add(x, x), x)\n",
        "y.backward()\n",
        "print(x.grad)"
      ],
      "metadata": {
        "colab": {
          "base_uri": "https://localhost:8080/"
        },
        "id": "eyXuG1_5iGDa",
        "outputId": "861adb10-defa-4d74-a1c4-f50333f7ddaf"
      },
      "execution_count": 12,
      "outputs": [
        {
          "output_type": "stream",
          "name": "stdout",
          "text": [
            "3.0\n"
          ]
        }
      ]
    },
    {
      "cell_type": "markdown",
      "source": [
        "### 14.3 미분값 재설정"
      ],
      "metadata": {
        "id": "xLwu2bqVl5BS"
      }
    },
    {
      "cell_type": "code",
      "source": [
        "# 첫 번째 계산\n",
        "x = Variable(np.array(3.0))\n",
        "y = add(x, x)\n",
        "y.backward()\n",
        "print(x.grad)\n",
        "\n",
        "# 두 번째 계산 (같은 x를 사용하여 다른 계산을 수행)\n",
        "y = add(add(x, x), x)\n",
        "y.backward()\n",
        "print(x.grad)  # x.grad는 3이어야 맞음"
      ],
      "metadata": {
        "colab": {
          "base_uri": "https://localhost:8080/"
        },
        "id": "lwMvr7kll7x1",
        "outputId": "c402e6f1-07ef-4e09-e9cd-7a53a5a72c47"
      },
      "execution_count": 13,
      "outputs": [
        {
          "output_type": "stream",
          "name": "stdout",
          "text": [
            "2.0\n",
            "5.0\n"
          ]
        }
      ]
    },
    {
      "cell_type": "code",
      "source": [
        "import numpy as np\n",
        "\n",
        "\n",
        "class Variable:\n",
        "    def __init__(self, data):\n",
        "        if data is not None:\n",
        "            if not isinstance(data, np.ndarray):\n",
        "                raise TypeError(f\"{type(data)}은(는) 지원하지 않습니다.\")\n",
        "\n",
        "        self.data = data\n",
        "        self.grad = None\n",
        "        self.creator = None\n",
        "\n",
        "    def set_creator(self, func):\n",
        "        self.creator = func\n",
        "\n",
        "    def backward(self):\n",
        "        if self.grad is None:\n",
        "            self.grad = np.ones_like(self.data)\n",
        "\n",
        "        funcs = [self.creator]\n",
        "        while funcs:\n",
        "            f = funcs.pop()\n",
        "            gys = [ output.grad for output in f.outputs ]\n",
        "            gxs = f.backward(*gys)\n",
        "            if not isinstance(gxs, tuple): gxs = gxs,\n",
        "\n",
        "            for x, gx in zip(f.inputs, gxs):\n",
        "                if x.grad is None:\n",
        "                    x.grad = gx\n",
        "                else:\n",
        "                    x.grad = x.grad + gx\n",
        "\n",
        "                if x.creator is not None:\n",
        "                    funcs.append(x.creator)\n",
        "\n",
        "    #########################\n",
        "    def cleargrad(self):\n",
        "        self.grad = None\n",
        "    #########################\n"
      ],
      "metadata": {
        "id": "kHNeufzfmn2a"
      },
      "execution_count": 14,
      "outputs": []
    },
    {
      "cell_type": "code",
      "source": [
        "# 첫 번째 계산\n",
        "x = Variable(np.array(3.0))\n",
        "y = add(x, x)\n",
        "y.backward()\n",
        "print(x.grad)\n",
        "\n",
        "# 두 번째 계산 (같은 x를 사용하여 다른 계산을 수행)\n",
        "x.cleargrad()  # 미분값 초기화\n",
        "y = add(add(x, x), x)\n",
        "y.backward()\n",
        "print(x.grad)"
      ],
      "metadata": {
        "colab": {
          "base_uri": "https://localhost:8080/"
        },
        "id": "_zzAsRD8m5qz",
        "outputId": "60f6852d-22bf-46eb-b767-247570e32d62"
      },
      "execution_count": 15,
      "outputs": [
        {
          "output_type": "stream",
          "name": "stdout",
          "text": [
            "2.0\n",
            "3.0\n"
          ]
        }
      ]
    },
    {
      "cell_type": "markdown",
      "source": [
        "## Appendix A 인플레이스 연산"
      ],
      "metadata": {
        "id": "I1pqjZMdl9ea"
      }
    },
    {
      "cell_type": "markdown",
      "source": [
        "### A.1 문제 확인"
      ],
      "metadata": {
        "id": "QLLWeouEiRRV"
      }
    },
    {
      "cell_type": "code",
      "source": [],
      "metadata": {
        "id": "URf_FRlFiQ7_"
      },
      "execution_count": 15,
      "outputs": []
    },
    {
      "cell_type": "markdown",
      "source": [
        "### A.2 복사와 덮어 쓰기"
      ],
      "metadata": {
        "id": "KdWN7pAKjCcy"
      }
    },
    {
      "cell_type": "code",
      "source": [
        "import numpy as np\n",
        "x = np.array(1)\n",
        "id(x)"
      ],
      "metadata": {
        "colab": {
          "base_uri": "https://localhost:8080/"
        },
        "id": "kmxwyR85jGa_",
        "outputId": "42f8144a-c18b-4c1e-d809-2152076024ea"
      },
      "execution_count": 16,
      "outputs": [
        {
          "output_type": "execute_result",
          "data": {
            "text/plain": [
              "139857011574032"
            ]
          },
          "metadata": {},
          "execution_count": 16
        }
      ]
    },
    {
      "cell_type": "code",
      "source": [
        "x += x  # 덮어쓰기 -> 메모리의 값을 직접 덮어 쓰는 \"인플레이스 연산\"\n",
        "id(x)"
      ],
      "metadata": {
        "colab": {
          "base_uri": "https://localhost:8080/"
        },
        "id": "KUAxawdNjKon",
        "outputId": "261e1a76-c6bb-42af-a8eb-0851b3cb1489"
      },
      "execution_count": 17,
      "outputs": [
        {
          "output_type": "execute_result",
          "data": {
            "text/plain": [
              "139857011574032"
            ]
          },
          "metadata": {},
          "execution_count": 17
        }
      ]
    },
    {
      "cell_type": "code",
      "source": [
        "x = x + x  # 복사(새로 생성)\n",
        "id(x)"
      ],
      "metadata": {
        "colab": {
          "base_uri": "https://localhost:8080/"
        },
        "id": "sxREQRtAjSLS",
        "outputId": "7a7e04fb-2484-4fc3-a814-6579f9a4ca24"
      },
      "execution_count": 18,
      "outputs": [
        {
          "output_type": "execute_result",
          "data": {
            "text/plain": [
              "139857222876368"
            ]
          },
          "metadata": {},
          "execution_count": 18
        }
      ]
    },
    {
      "cell_type": "markdown",
      "source": [
        "### A.3 DeZero의 역전파에서는"
      ],
      "metadata": {
        "id": "mv8T3tHlkHt7"
      }
    },
    {
      "cell_type": "code",
      "source": [
        "import numpy as np\n",
        "\n",
        "\n",
        "class Variable:\n",
        "    def __init__(self, data):\n",
        "        if data is not None:\n",
        "            if not isinstance(data, np.ndarray):\n",
        "                raise TypeError(f\"{type(data)}은(는) 지원하지 않습니다.\")\n",
        "\n",
        "        self.data = data\n",
        "        self.grad = None\n",
        "        self.creator = None\n",
        "\n",
        "    def set_creator(self, func):\n",
        "        self.creator = func\n",
        "\n",
        "    def backward(self):\n",
        "        if self.grad is None:\n",
        "            self.grad = np.ones_like(self.data)\n",
        "\n",
        "        funcs = [self.creator]\n",
        "        while funcs:\n",
        "            f = funcs.pop()\n",
        "            gys = [ output.grad for output in f.outputs ]\n",
        "            gxs = f.backward(*gys)\n",
        "            if not isinstance(gxs, tuple): gxs = gxs,\n",
        "\n",
        "            for x, gx in zip(f.inputs, gxs):\n",
        "                #########################\n",
        "                if x.grad is None:\n",
        "                    x.grad = gx\n",
        "                else:\n",
        "                    x.grad += gx\n",
        "                #########################\n",
        "\n",
        "                if x.creator is not None:\n",
        "                    funcs.append(x.creator)\n"
      ],
      "metadata": {
        "id": "ZXno-mhlkVpn"
      },
      "execution_count": 19,
      "outputs": []
    },
    {
      "cell_type": "code",
      "source": [
        "x = Variable(np.array(3))\n",
        "y = add(x, x)\n",
        "y.backward()\n",
        "\n",
        "print(f\"y.grad: {y.grad}({id(y.grad)})\")  # y.grad는 1이어야 맞음\n",
        "print(f\"x.grad: {x.grad}({id(x.grad)})\")"
      ],
      "metadata": {
        "colab": {
          "base_uri": "https://localhost:8080/"
        },
        "id": "5RhdFMvUkhqD",
        "outputId": "4f899f88-9e0a-46be-f4b0-101783c9ea1f"
      },
      "execution_count": 20,
      "outputs": [
        {
          "output_type": "stream",
          "name": "stdout",
          "text": [
            "y.grad: 2(139857011578256)\n",
            "x.grad: 2(139857011578256)\n"
          ]
        }
      ]
    },
    {
      "cell_type": "code",
      "source": [
        "import numpy as np\n",
        "\n",
        "\n",
        "class Variable:\n",
        "    def __init__(self, data):\n",
        "        if data is not None:\n",
        "            if not isinstance(data, np.ndarray):\n",
        "                raise TypeError(f\"{type(data)}은(는) 지원하지 않습니다.\")\n",
        "\n",
        "        self.data = data\n",
        "        self.grad = None\n",
        "        self.creator = None\n",
        "\n",
        "    def set_creator(self, func):\n",
        "        self.creator = func\n",
        "\n",
        "    def backward(self):\n",
        "        if self.grad is None:\n",
        "            self.grad = np.ones_like(self.data)\n",
        "\n",
        "        funcs = [self.creator]\n",
        "        while funcs:\n",
        "            f = funcs.pop()\n",
        "            gys = [ output.grad for output in f.outputs ]\n",
        "            gxs = f.backward(*gys)\n",
        "            if not isinstance(gxs, tuple): gxs = gxs,\n",
        "\n",
        "            for x, gx in zip(f.inputs, gxs):\n",
        "                #########################\n",
        "                if x.grad is None:\n",
        "                    x.grad = gx\n",
        "                else:\n",
        "                    x.grad = x.grad + gx\n",
        "                #########################\n",
        "\n",
        "                if x.creator is not None:\n",
        "                    funcs.append(x.creator)\n"
      ],
      "metadata": {
        "id": "nD3BSzJgljS5"
      },
      "execution_count": 21,
      "outputs": []
    },
    {
      "cell_type": "code",
      "source": [
        "x = Variable(np.array(3))\n",
        "y = add(x, x)\n",
        "y.backward()\n",
        "\n",
        "print(f\"y.grad: {y.grad}({id(y.grad)})\")\n",
        "print(f\"x.grad: {x.grad}({id(x.grad)})\")"
      ],
      "metadata": {
        "colab": {
          "base_uri": "https://localhost:8080/"
        },
        "id": "FN7dxa-7lqjN",
        "outputId": "5f3824bb-b42b-4543-c7e7-893c3d493b8d"
      },
      "execution_count": 22,
      "outputs": [
        {
          "output_type": "stream",
          "name": "stdout",
          "text": [
            "y.grad: 1(139857011201328)\n",
            "x.grad: 2(139857222876144)\n"
          ]
        }
      ]
    }
  ]
}