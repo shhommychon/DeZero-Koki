{
    "nbformat": 4,
    "nbformat_minor": 0,
    "metadata": {
        "colab": {
            "provenance": [],
            "authorship_tag": "ABX9TyNHwNXcEZD9tEs0/sUn5Aei"
        },
        "kernelspec": {
            "name": "python3",
            "display_name": "Python 3"
        },
        "language_info": {
            "name": "python"
        }
    },
    "cells": [
        {
            "cell_type": "markdown",
            "source": [
                "[![Open In Colab](https://colab.research.google.com/assets/colab-badge.svg)](https://colab.research.google.com/github/shhommychon/DeZero-Koki/blob/master/from_scratch_3/steps/step13.ipynb)"
            ],
            "metadata": {
                "id": "tljHQ_kCyCDk"
            }
        },
        {
            "cell_type": "markdown",
            "source": [
                "# 제1고지 미분 자동 계산"
            ],
            "metadata": {
                "id": "4tRTGZRKzkVm"
            }
        },
        {
            "cell_type": "code",
            "source": [
                "import numpy as np\n",
                "\n",
                "\n",
                "def as_array(x):\n",
                "    if np.isscalar(x):\n",
                "        return np.array(x)\n",
                "    return x\n"
            ],
            "metadata": {
                "id": "39laKqc7G2zl",
                "executionInfo": {
                    "status": "ok",
                    "timestamp": 1706539594114,
                    "user_tz": -540,
                    "elapsed": 4,
                    "user": {
                        "displayName": "",
                        "userId": ""
                    }
                }
            },
            "execution_count": 1,
            "outputs": []
        },
        {
            "cell_type": "code",
            "source": [
                "# class Exp(Function):\n",
                "#     def forward(self, x):\n",
                "#         return np.exp(x)\n",
                "\n",
                "#     def backward(self, gy):\n",
                "#         x = self.input.data\n",
                "#         gx = np.exp(x) * gy\n",
                "#         return gx\n",
                "\n",
                "\n",
                "# def exp(x):\n",
                "#     return Exp()(x)\n"
            ],
            "metadata": {
                "id": "0tjotk1THBIw",
                "executionInfo": {
                    "status": "ok",
                    "timestamp": 1706539594114,
                    "user_tz": -540,
                    "elapsed": 3,
                    "user": {
                        "displayName": "",
                        "userId": ""
                    }
                }
            },
            "execution_count": 2,
            "outputs": []
        },
        {
            "cell_type": "code",
            "source": [
                "def numerical_diff(f, x, eps=1e-4):\n",
                "    \"\"\"\n",
                "\n",
                "      param:\n",
                "        f (Function): 미분의 대상이 되는 함수\n",
                "        x (Variable): 미분을 계산하는 변수\n",
                "        eps (float): 작은 값\n",
                "    \"\"\"\n",
                "    x0 = Variable(x.data - eps)\n",
                "    x1 = Variable(x.data + eps)\n",
                "    y0 = f(x0)\n",
                "    y1 = f(x1)\n",
                "    return (y1.data - y0.data) / (2 * eps)"
            ],
            "metadata": {
                "id": "6R-wCS0HKPSl",
                "executionInfo": {
                    "status": "ok",
                    "timestamp": 1706539594114,
                    "user_tz": -540,
                    "elapsed": 3,
                    "user": {
                        "displayName": "",
                        "userId": ""
                    }
                }
            },
            "execution_count": 3,
            "outputs": []
        },
        {
            "cell_type": "markdown",
            "source": [
                "# 제2고지 자연스러운 코드로"
            ],
            "metadata": {
                "id": "S4Byz6xBg7Fa"
            }
        },
        {
            "cell_type": "markdown",
            "source": [
                "## 11단계 가변 길이 인수(순전파 편)"
            ],
            "metadata": {
                "id": "asGSdga7hMnz"
            }
        },
        {
            "cell_type": "code",
            "source": [],
            "metadata": {
                "id": "e14gjXxIkLO8",
                "executionInfo": {
                    "status": "ok",
                    "timestamp": 1706539594442,
                    "user_tz": -540,
                    "elapsed": 331,
                    "user": {
                        "displayName": "",
                        "userId": ""
                    }
                }
            },
            "execution_count": 3,
            "outputs": []
        },
        {
            "cell_type": "markdown",
            "source": [
                "## 12단계 가변 길이 인수(개선 편)"
            ],
            "metadata": {
                "id": "4KAaNtzbku-t"
            }
        },
        {
            "cell_type": "code",
            "source": [
                "class Function:\n",
                "    \"\"\"\n",
                "\n",
                "    * Function 클래스는 기반 클래스로서, 모든 함수에 공통되는 기능을 구현합니다.\n",
                "    * 구체적인 함수는 Function 클래스를 상속한 클래스에서 구현합니다.\n",
                "    \"\"\"\n",
                "    def __call__(self, *inputs):\n",
                "        xs = [ x.data for x in inputs ]\n",
                "        ys = self.forward(*xs)  # (1)\n",
                "        if not isinstance(ys, tuple): ys = ys,  # (2)\n",
                "        outputs = [ Variable(as_array(y)) for y in ys ]\n",
                "\n",
                "        for output in outputs:\n",
                "            output.set_creator(self)\n",
                "        self.inputs = inputs\n",
                "        self.outputs = outputs\n",
                "        return outputs if len(outputs) > 1 else outputs[0]\n",
                "\n",
                "    def forward(self, xs):\n",
                "        raise NotImplementedError()\n",
                "\n",
                "    def backward(self, gys):\n",
                "        raise NotImplementedError()"
            ],
            "metadata": {
                "id": "oRQrnm1Dmg5h",
                "executionInfo": {
                    "status": "ok",
                    "timestamp": 1706539594442,
                    "user_tz": -540,
                    "elapsed": 5,
                    "user": {
                        "displayName": "",
                        "userId": ""
                    }
                }
            },
            "execution_count": 4,
            "outputs": []
        },
        {
            "cell_type": "markdown",
            "source": [
                "## 13단계 가변 길이 인수(역전파 편)"
            ],
            "metadata": {
                "id": "RMsSCNDIoV_h"
            }
        },
        {
            "cell_type": "markdown",
            "source": [
                "### 13.1 가변 길이 인수에 대응한 Add 클래스의 역전파"
            ],
            "metadata": {
                "id": "XB7FE3S2ogWP"
            }
        },
        {
            "cell_type": "code",
            "source": [
                "class Add(Function):\n",
                "    def forward(self, x0, x1):\n",
                "        y = x0 + x1\n",
                "        return y\n",
                "\n",
                "    def backward(self, gy):\n",
                "        return gy, gy"
            ],
            "metadata": {
                "id": "3aEqVUOOoX9f",
                "executionInfo": {
                    "status": "ok",
                    "timestamp": 1706539594442,
                    "user_tz": -540,
                    "elapsed": 4,
                    "user": {
                        "displayName": "",
                        "userId": ""
                    }
                }
            },
            "execution_count": 5,
            "outputs": []
        },
        {
            "cell_type": "code",
            "source": [
                "def add(x0, x1):\n",
                "    return Add()(x0, x1)"
            ],
            "metadata": {
                "id": "wNqsjWv4riPD",
                "executionInfo": {
                    "status": "ok",
                    "timestamp": 1706539594442,
                    "user_tz": -540,
                    "elapsed": 4,
                    "user": {
                        "displayName": "",
                        "userId": ""
                    }
                }
            },
            "execution_count": 6,
            "outputs": []
        },
        {
            "cell_type": "markdown",
            "source": [
                "### 13.2 Variable 클래스 수정"
            ],
            "metadata": {
                "id": "r7M1CACno326"
            }
        },
        {
            "cell_type": "code",
            "source": [
                "import numpy as np\n",
                "\n",
                "\n",
                "class Variable:\n",
                "    def __init__(self, data):\n",
                "        if data is not None:\n",
                "            if not isinstance(data, np.ndarray):\n",
                "                raise TypeError(f\"{type(data)}은(는) 지원하지 않습니다.\")\n",
                "\n",
                "        self.data = data\n",
                "        self.grad = None\n",
                "        self.creator = None\n",
                "\n",
                "    def set_creator(self, func):\n",
                "        self.creator = func\n",
                "\n",
                "    def backward(self):\n",
                "        if self.grad is None:\n",
                "            self.grad = np.ones_like(self.data)\n",
                "\n",
                "        funcs = [self.creator]\n",
                "        while funcs:\n",
                "            f = funcs.pop()\n",
                "            x, y = f.input, f.output  # (1) 함수의 입출력을 얻는다.\n",
                "            x.grad = f.backward(y.grad)  # (2) backward 메서드를 호출한다.\n",
                "\n",
                "            if x.creator is not None:\n",
                "                funcs.append(x.creator)\n"
            ],
            "metadata": {
                "id": "wczsLfPlpCLF",
                "executionInfo": {
                    "status": "ok",
                    "timestamp": 1706539594442,
                    "user_tz": -540,
                    "elapsed": 4,
                    "user": {
                        "displayName": "",
                        "userId": ""
                    }
                }
            },
            "execution_count": 7,
            "outputs": []
        },
        {
            "cell_type": "code",
            "source": [
                "import numpy as np\n",
                "\n",
                "\n",
                "class Variable:\n",
                "    def __init__(self, data):\n",
                "        if data is not None:\n",
                "            if not isinstance(data, np.ndarray):\n",
                "                raise TypeError(f\"{type(data)}은(는) 지원하지 않습니다.\")\n",
                "\n",
                "        self.data = data\n",
                "        self.grad = None\n",
                "        self.creator = None\n",
                "\n",
                "    def set_creator(self, func):\n",
                "        self.creator = func\n",
                "\n",
                "    def backward(self):\n",
                "        if self.grad is None:\n",
                "            self.grad = np.ones_like(self.data)\n",
                "\n",
                "        funcs = [self.creator]\n",
                "        while funcs:\n",
                "            f = funcs.pop()\n",
                "            gys = [ output.grad for output in f.outputs ]  # (1)\n",
                "            gxs = f.backward(*gys)  # (2)\n",
                "            if not isinstance(gxs, tuple): gxs = gxs,  # (3)\n",
                "\n",
                "            ############### (4) ###############\n",
                "            for x, gx in zip(f.inputs, gxs):\n",
                "                x.grad = gx\n",
                "\n",
                "                if x.creator is not None:\n",
                "                    funcs.append(x.creator)\n",
                "            ###################################\n"
            ],
            "metadata": {
                "id": "BZWqmti6pUTP",
                "executionInfo": {
                    "status": "ok",
                    "timestamp": 1706539594443,
                    "user_tz": -540,
                    "elapsed": 5,
                    "user": {
                        "displayName": "",
                        "userId": ""
                    }
                }
            },
            "execution_count": 8,
            "outputs": []
        },
        {
            "cell_type": "markdown",
            "source": [
                "### 13.3 Square 클래스 구현"
            ],
            "metadata": {
                "id": "jfxVfe1FqvA7"
            }
        },
        {
            "cell_type": "code",
            "source": [
                "class Square(Function):\n",
                "    def forward(self, x):\n",
                "        return x ** 2\n",
                "\n",
                "    def backward(self, gy):\n",
                "        x = self.inputs[0].data # x = self.input.data\n",
                "        gx = 2 * x * gy\n",
                "        return gx\n",
                "\n",
                "\n",
                "def square(x):\n",
                "    return Square()(x)  # 한 줄로 작성\n"
            ],
            "metadata": {
                "id": "Ar1Aik1Qqx27",
                "executionInfo": {
                    "status": "ok",
                    "timestamp": 1706539594443,
                    "user_tz": -540,
                    "elapsed": 5,
                    "user": {
                        "displayName": "",
                        "userId": ""
                    }
                }
            },
            "execution_count": 9,
            "outputs": []
        },
        {
            "cell_type": "code",
            "source": [
                "import numpy as np\n",
                "\n",
                "x = Variable(np.array(2.0))\n",
                "y = Variable(np.array(3.0))\n",
                "\n",
                "z = add(square(x), square(y))\n",
                "z.backward()\n",
                "print(z.data)\n",
                "print(x.grad)\n",
                "print(y.grad)"
            ],
            "metadata": {
                "colab": {
                    "base_uri": "https://localhost:8080/"
                },
                "id": "S3fP1dl-rI0N",
                "executionInfo": {
                    "status": "ok",
                    "timestamp": 1706539594443,
                    "user_tz": -540,
                    "elapsed": 4,
                    "user": {
                        "displayName": "",
                        "userId": ""
                    }
                },
                "outputId": "534c2753-eee5-40c0-bdc2-d516733daf8d"
            },
            "execution_count": 10,
            "outputs": [
                {
                    "output_type": "stream",
                    "name": "stdout",
                    "text": [
                        "13.0\n",
                        "4.0\n",
                        "6.0\n"
                    ]
                }
            ]
        }
    ]
}