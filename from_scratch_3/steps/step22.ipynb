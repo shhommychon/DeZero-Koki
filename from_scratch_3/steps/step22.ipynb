{
  "nbformat": 4,
  "nbformat_minor": 0,
  "metadata": {
    "colab": {
      "provenance": []
    },
    "kernelspec": {
      "name": "python3",
      "display_name": "Python 3"
    },
    "language_info": {
      "name": "python"
    }
  },
  "cells": [
    {
      "cell_type": "markdown",
      "source": [
        "[![Open In Colab](https://colab.research.google.com/assets/colab-badge.svg)](https://colab.research.google.com/github/shhommychon/DeZero-Koki/blob/master/from_scratch_3/steps/step22.ipynb)"
      ],
      "metadata": {
        "id": "tljHQ_kCyCDk"
      }
    },
    {
      "cell_type": "markdown",
      "source": [
        "# 제1고지 미분 자동 계산"
      ],
      "metadata": {
        "id": "4tRTGZRKzkVm"
      }
    },
    {
      "cell_type": "code",
      "source": [
        "import numpy as np\n",
        "\n",
        "\n",
        "def as_array(x):\n",
        "    if np.isscalar(x):\n",
        "        return np.array(x)\n",
        "    return x\n"
      ],
      "metadata": {
        "id": "39laKqc7G2zl"
      },
      "execution_count": 1,
      "outputs": []
    },
    {
      "cell_type": "code",
      "source": [
        "# class Exp(Function):\n",
        "#     def forward(self, x):\n",
        "#         return np.exp(x)\n",
        "\n",
        "#     def backward(self, gy):\n",
        "#         x = self.input.data\n",
        "#         gx = np.exp(x) * gy\n",
        "#         return gx\n",
        "\n",
        "\n",
        "# def exp(x):\n",
        "#     return Exp()(x)\n"
      ],
      "metadata": {
        "id": "0tjotk1THBIw"
      },
      "execution_count": 2,
      "outputs": []
    },
    {
      "cell_type": "code",
      "source": [
        "def numerical_diff(f, x, eps=1e-4):\n",
        "    \"\"\"\n",
        "\n",
        "      param:\n",
        "        f (Function): 미분의 대상이 되는 함수\n",
        "        x (Variable): 미분을 계산하는 변수\n",
        "        eps (float): 작은 값\n",
        "    \"\"\"\n",
        "    x0 = Variable(x.data - eps)\n",
        "    x1 = Variable(x.data + eps)\n",
        "    y0 = f(x0)\n",
        "    y1 = f(x1)\n",
        "    return (y1.data - y0.data) / (2 * eps)"
      ],
      "metadata": {
        "id": "6R-wCS0HKPSl"
      },
      "execution_count": 3,
      "outputs": []
    },
    {
      "cell_type": "markdown",
      "source": [
        "# 제2고지 자연스러운 코드로"
      ],
      "metadata": {
        "id": "S4Byz6xBg7Fa"
      }
    },
    {
      "cell_type": "markdown",
      "source": [
        "## 11단계 가변 길이 인수(순전파 편)"
      ],
      "metadata": {
        "id": "asGSdga7hMnz"
      }
    },
    {
      "cell_type": "code",
      "source": [],
      "metadata": {
        "id": "e14gjXxIkLO8"
      },
      "execution_count": 3,
      "outputs": []
    },
    {
      "cell_type": "markdown",
      "source": [
        "## 12단계 가변 길이 인수(개선 편)"
      ],
      "metadata": {
        "id": "4KAaNtzbku-t"
      }
    },
    {
      "cell_type": "code",
      "source": [],
      "metadata": {
        "id": "oRQrnm1Dmg5h"
      },
      "execution_count": 3,
      "outputs": []
    },
    {
      "cell_type": "markdown",
      "source": [
        "## 13단계 가변 길이 인수(역전파 편)"
      ],
      "metadata": {
        "id": "RMsSCNDIoV_h"
      }
    },
    {
      "cell_type": "code",
      "source": [],
      "metadata": {
        "id": "Ar1Aik1Qqx27"
      },
      "execution_count": 3,
      "outputs": []
    },
    {
      "cell_type": "markdown",
      "source": [
        "## 14단계 같은 변수 반복 사용"
      ],
      "metadata": {
        "id": "n1oBMPQVd8nj"
      }
    },
    {
      "cell_type": "code",
      "source": [],
      "metadata": {
        "id": "oDQKkjIaf10O"
      },
      "execution_count": 3,
      "outputs": []
    },
    {
      "cell_type": "markdown",
      "source": [
        "## 15단계 복잡한 계산 그래프(이론 편)"
      ],
      "metadata": {
        "id": "obUPPtCuv1Sw"
      }
    },
    {
      "cell_type": "code",
      "source": [],
      "metadata": {
        "id": "aVZ_w4fjv2e0"
      },
      "execution_count": 3,
      "outputs": []
    },
    {
      "cell_type": "markdown",
      "source": [
        "## 16단계 복잡한 계산 그래프(구현 편)"
      ],
      "metadata": {
        "id": "cszcSufvv2ua"
      }
    },
    {
      "cell_type": "code",
      "source": [],
      "metadata": {
        "id": "HhHicfa60Umc"
      },
      "execution_count": 3,
      "outputs": []
    },
    {
      "cell_type": "markdown",
      "source": [
        "## 17단계 메모리 관리와 순환 참조"
      ],
      "metadata": {
        "id": "9SJdzWiC5DVD"
      }
    },
    {
      "cell_type": "code",
      "source": [],
      "metadata": {
        "id": "MDmaZqRuJxOU"
      },
      "execution_count": 3,
      "outputs": []
    },
    {
      "cell_type": "markdown",
      "source": [
        "## 18단계 메모리 절약 모드"
      ],
      "metadata": {
        "id": "Uwa1-5XdXS9b"
      }
    },
    {
      "cell_type": "code",
      "source": [
        "class Config:\n",
        "    enable_backprop = True"
      ],
      "metadata": {
        "id": "mfWB6kIQcXUK"
      },
      "execution_count": 4,
      "outputs": []
    },
    {
      "cell_type": "code",
      "source": [
        "# class Square(Function):\n",
        "#     def forward(self, x):\n",
        "#         return x ** 2\n",
        "\n",
        "#     def backward(self, gy):\n",
        "#         x = self.inputs[0].data\n",
        "#         gx = 2 * x * gy\n",
        "#         return gx\n",
        "\n",
        "\n",
        "# def square(x):\n",
        "#     return Square()(x)\n"
      ],
      "metadata": {
        "id": "U3Cy-Sj_d7-r"
      },
      "execution_count": 5,
      "outputs": []
    },
    {
      "cell_type": "code",
      "source": [
        "import contextlib\n",
        "\n",
        "@contextlib.contextmanager\n",
        "def using_config(name, value):\n",
        "    old_value = getattr(Config, name)\n",
        "    setattr(Config, name, value)\n",
        "    try:\n",
        "        yield\n",
        "    finally:\n",
        "        setattr(Config, name, old_value)"
      ],
      "metadata": {
        "id": "iRCHZasrixTO"
      },
      "execution_count": 6,
      "outputs": []
    },
    {
      "cell_type": "code",
      "source": [
        "def no_grad():\n",
        "    return using_config(\"enable_backprop\", False)"
      ],
      "metadata": {
        "id": "gP2ZPR5UjUhZ"
      },
      "execution_count": 7,
      "outputs": []
    },
    {
      "cell_type": "markdown",
      "source": [
        "## 19단계 변수 사용성 개선"
      ],
      "metadata": {
        "id": "CGX4vW34nfj_"
      }
    },
    {
      "cell_type": "code",
      "source": [],
      "metadata": {
        "id": "KeuInx4AsjhO"
      },
      "execution_count": 7,
      "outputs": []
    },
    {
      "cell_type": "markdown",
      "source": [
        "## 20단계 연산자 오버로드(1)"
      ],
      "metadata": {
        "id": "iKpQzeVitplQ"
      }
    },
    {
      "cell_type": "code",
      "source": [],
      "metadata": {
        "id": "yPUd4m9JvZwq"
      },
      "execution_count": 7,
      "outputs": []
    },
    {
      "cell_type": "markdown",
      "source": [
        "## 21단계 연산자 오버로드(2)"
      ],
      "metadata": {
        "id": "ETqAUmHEx6dV"
      }
    },
    {
      "cell_type": "code",
      "source": [
        "def as_variable(obj):\n",
        "    if isinstance(obj, Variable):\n",
        "        return obj\n",
        "    return Variable(obj)"
      ],
      "metadata": {
        "id": "8XtNi8aWyIal"
      },
      "execution_count": 8,
      "outputs": []
    },
    {
      "cell_type": "code",
      "source": [
        "import weakref\n",
        "\n",
        "\n",
        "class Function:\n",
        "    \"\"\"\n",
        "\n",
        "    * Function 클래스는 기반 클래스로서, 모든 함수에 공통되는 기능을 구현합니다.\n",
        "    * 구체적인 함수는 Function 클래스를 상속한 클래스에서 구현합니다.\n",
        "    \"\"\"\n",
        "    def __call__(self, *inputs):\n",
        "        inputs = [ as_variable(x) for x in inputs ]  # 추가!\n",
        "\n",
        "        xs = [ x.data for x in inputs ]\n",
        "        ys = self.forward(*xs)\n",
        "        if not isinstance(ys, tuple): ys = ys,\n",
        "        outputs = [ Variable(as_array(y)) for y in ys ]\n",
        "\n",
        "        if Config.enable_backprop:\n",
        "            self.generation = max([x.generation for x in inputs])\n",
        "            for output in outputs:\n",
        "                output.set_creator(self)\n",
        "            self.inputs = inputs\n",
        "            self.outputs = [weakref.ref(output) for output in outputs]\n",
        "\n",
        "        return outputs if len(outputs) > 1 else outputs[0]\n",
        "\n",
        "    def forward(self, xs):\n",
        "        raise NotImplementedError()\n",
        "\n",
        "    def backward(self, gys):\n",
        "        raise NotImplementedError()"
      ],
      "metadata": {
        "id": "BDe6oP_2yli5"
      },
      "execution_count": 9,
      "outputs": []
    },
    {
      "cell_type": "code",
      "source": [
        "class Mul(Function):\n",
        "    def forward(self, x0, x1):\n",
        "        y = x0 * x1\n",
        "        return y\n",
        "\n",
        "    def backward(self, gy):\n",
        "        x0, x1 = self.inputs[0].data, self.inputs[1].data\n",
        "        return gy * x1, gy * x0\n",
        "\n",
        "def mul(x0, x1):\n",
        "    x1 = as_array(x1)\n",
        "    return Mul()(x0, x1)\n"
      ],
      "metadata": {
        "id": "0t_X5whczFpW"
      },
      "execution_count": 10,
      "outputs": []
    },
    {
      "cell_type": "code",
      "source": [
        "class Add(Function):\n",
        "    def forward(self, x0, x1):\n",
        "        y = x0 + x1\n",
        "        return y\n",
        "\n",
        "    def backward(self, gy):\n",
        "        return gy, gy\n",
        "\n",
        "\n",
        "def add(x0, x1):\n",
        "    x1 = as_array(x1)\n",
        "    return Add()(x0, x1)\n"
      ],
      "metadata": {
        "id": "hrlpr3GbzHp9"
      },
      "execution_count": 11,
      "outputs": []
    },
    {
      "cell_type": "code",
      "source": [
        "import numpy as np\n",
        "import weakref\n",
        "\n",
        "\n",
        "class Variable:\n",
        "    __array_priority__ = 200  # 추가!\n",
        "\n",
        "    def __init__(self, data, name=None):\n",
        "        if data is not None:\n",
        "            if not isinstance(data, np.ndarray):\n",
        "                raise TypeError(f\"{type(data)}은(는) 지원하지 않습니다.\")\n",
        "\n",
        "        self.data = data\n",
        "        self.name = name\n",
        "        self.grad = None\n",
        "        self.creator = None\n",
        "        self.generation = 0\n",
        "\n",
        "    def set_creator(self, func):\n",
        "        self.creator = func\n",
        "        self.generation = func.generation + 1\n",
        "\n",
        "    def backward(self, retain_grad=False):\n",
        "        if self.grad is None:\n",
        "            self.grad = np.ones_like(self.data)\n",
        "\n",
        "        funcs = []\n",
        "        seen_set = set()\n",
        "\n",
        "        def add_func(f):\n",
        "            if f not in seen_set:\n",
        "                funcs.append(f)\n",
        "                seen_set.add(f)\n",
        "                funcs.sort(key=lambda x: x.generation)\n",
        "\n",
        "        add_func(self.creator)\n",
        "\n",
        "        while funcs:\n",
        "            f = funcs.pop()\n",
        "            gys = [ output().grad for output in f.outputs ]\n",
        "            gxs = f.backward(*gys)\n",
        "            if not isinstance(gxs, tuple): gxs = gxs,\n",
        "\n",
        "            for x, gx in zip(f.inputs, gxs):\n",
        "                if x.grad is None:\n",
        "                    x.grad = gx\n",
        "                else:\n",
        "                    x.grad = x.grad + gx\n",
        "\n",
        "                if x.creator is not None:\n",
        "                    add_func(x.creator)\n",
        "\n",
        "            if not retain_grad:\n",
        "                for y in f.outputs:\n",
        "                    y().grad = None\n",
        "\n",
        "    def cleargrad(self):\n",
        "        self.grad = None\n",
        "\n",
        "    @property\n",
        "    def shape(self):\n",
        "        return self.data.shape\n",
        "\n",
        "    @property\n",
        "    def ndim(self):\n",
        "        return self.data.ndim\n",
        "\n",
        "    @property\n",
        "    def size(self):\n",
        "        return self.data.size\n",
        "\n",
        "    @property\n",
        "    def dtype(self):\n",
        "        return self.data.dtype\n",
        "\n",
        "    def __len__(self):\n",
        "        return len(self.data)\n",
        "\n",
        "    def __repr__(self):\n",
        "        if self.data is None:\n",
        "            return \"variable(None)\"\n",
        "        p = str(self.data).replace('\\n', '\\n' + ' ' * 9)\n",
        "        return f\"variable({p})\"\n",
        "\n",
        "Variable.__add__ = add\n",
        "Variable.__radd__ = add\n",
        "Variable.__mul__ = mul\n",
        "Variable.__rmul__ = mul\n"
      ],
      "metadata": {
        "id": "SyBTDl9I1Xbo"
      },
      "execution_count": 12,
      "outputs": []
    },
    {
      "cell_type": "markdown",
      "source": [
        "## 22단계 연산자 오버로드(3)"
      ],
      "metadata": {
        "id": "Lry419kK3opQ"
      }
    },
    {
      "cell_type": "markdown",
      "source": [
        "### 22.1 음수(부호 변환)"
      ],
      "metadata": {
        "id": "L4J05THs36fL"
      }
    },
    {
      "cell_type": "code",
      "source": [
        "class Neg(Function):\n",
        "    def forward(self, x):\n",
        "        return -x\n",
        "\n",
        "    def backward(self, gy):\n",
        "        return -gy\n",
        "\n",
        "def neg(x):\n",
        "    return Neg()(x)\n",
        "\n",
        "Variable.__neg__ = neg\n"
      ],
      "metadata": {
        "id": "X8A7luog39BD"
      },
      "execution_count": 13,
      "outputs": []
    },
    {
      "cell_type": "code",
      "source": [
        "x = Variable(np.array(2.0))\n",
        "y = -x  # 부호를 바꾼다.\n",
        "print(y)"
      ],
      "metadata": {
        "colab": {
          "base_uri": "https://localhost:8080/"
        },
        "id": "aOdmVTa94Sr6",
        "outputId": "2a211c6e-88ef-4c9f-dec5-7ac37711f56f"
      },
      "execution_count": 14,
      "outputs": [
        {
          "output_type": "stream",
          "name": "stdout",
          "text": [
            "variable(-2.0)\n"
          ]
        }
      ]
    },
    {
      "cell_type": "markdown",
      "source": [
        "### 22.2 뺄셈"
      ],
      "metadata": {
        "id": "5udj9G7T4vxI"
      }
    },
    {
      "cell_type": "code",
      "source": [
        "class Sub(Function):\n",
        "    def forward(self, x0, x1):\n",
        "        y = x0 - x1\n",
        "        return y\n",
        "\n",
        "    def backward(self, gy):\n",
        "        return gy, -gy\n",
        "\n",
        "def sub(x0, x1):\n",
        "    x1 = as_array(x1)\n",
        "    return Sub()(x0, x1)\n",
        "\n",
        "Variable.__sub__ = sub\n"
      ],
      "metadata": {
        "id": "W8HZgOXj4xzz"
      },
      "execution_count": 15,
      "outputs": []
    },
    {
      "cell_type": "code",
      "source": [
        "def rsub(x0, x1):\n",
        "    x1 = as_array(x1)\n",
        "    return Sub()(x1, x0)  # x0와 x1의 순서를 바꾼다.\n",
        "\n",
        "Variable.__rsub__ = rsub"
      ],
      "metadata": {
        "id": "GnFbDgsK5SJH"
      },
      "execution_count": 16,
      "outputs": []
    },
    {
      "cell_type": "code",
      "source": [
        "x = Variable(np.array(2.0))\n",
        "y1 = 2.0 - x\n",
        "y2 = x - 1.0\n",
        "print(y1)\n",
        "print(y2)"
      ],
      "metadata": {
        "colab": {
          "base_uri": "https://localhost:8080/"
        },
        "id": "rBeNwlJJ5bd-",
        "outputId": "db1d512e-ac36-42af-f393-1fcae410b1bc"
      },
      "execution_count": 17,
      "outputs": [
        {
          "output_type": "stream",
          "name": "stdout",
          "text": [
            "variable(0.0)\n",
            "variable(1.0)\n"
          ]
        }
      ]
    },
    {
      "cell_type": "markdown",
      "source": [
        "### 22.3 나눗셈"
      ],
      "metadata": {
        "id": "VI5fK4uo5k1z"
      }
    },
    {
      "cell_type": "code",
      "source": [
        "class Div(Function):\n",
        "    def forward(self, x0, x1):\n",
        "        y = x0 / x1\n",
        "        return y\n",
        "\n",
        "    def backward(self, gy):\n",
        "        x0, x1 = self.inputs[0].data, self.inputs[1].data\n",
        "        gx0 = gy / x1\n",
        "        gx1 = gy * (-x0 / x1 ** 2)\n",
        "        return gx0, -gx1\n",
        "\n",
        "def div(x0, x1):\n",
        "    x1 = as_array(x1)\n",
        "    return Div()(x0, x1)\n",
        "\n",
        "def rdiv(x0, x1):\n",
        "    x1 = as_array(x1)\n",
        "    return Div()(x1, x0)  # x0와 x1의 순서를 바꾼다.\n",
        "\n",
        "Variable.__truediv__ = div\n",
        "Variable.__rtruediv__ = rdiv\n"
      ],
      "metadata": {
        "id": "_zS67zf35hqW"
      },
      "execution_count": 18,
      "outputs": []
    },
    {
      "cell_type": "code",
      "source": [
        "x = Variable(np.array(2.0))\n",
        "y1 = 4.0 / x\n",
        "y2 = x / 2.0\n",
        "print(y1)\n",
        "print(y2)"
      ],
      "metadata": {
        "colab": {
          "base_uri": "https://localhost:8080/"
        },
        "id": "7Ij9MOzl6QDY",
        "outputId": "4447960c-c876-41c8-dde8-14eb43f95c14"
      },
      "execution_count": 19,
      "outputs": [
        {
          "output_type": "stream",
          "name": "stdout",
          "text": [
            "variable(2.0)\n",
            "variable(1.0)\n"
          ]
        }
      ]
    },
    {
      "cell_type": "markdown",
      "source": [
        "### 22.4 거듭제곱"
      ],
      "metadata": {
        "id": "JpcE7MpB6pmE"
      }
    },
    {
      "cell_type": "code",
      "source": [
        "class Pow(Function):\n",
        "    def __init__(self, c):\n",
        "        self.c = c\n",
        "\n",
        "    def forward(self, x):\n",
        "        y = x ** self.c\n",
        "        return y\n",
        "\n",
        "    def backward(self, gy):\n",
        "        x = self.inputs[0].data\n",
        "        c = self.c\n",
        "        gx = c * x ** (c - 1) * gy\n",
        "        return gx\n",
        "\n",
        "def pow(x, c):\n",
        "    return Pow(c)(x)\n",
        "\n",
        "Variable.__pow__ = pow\n"
      ],
      "metadata": {
        "id": "iB3Lps_J6tl_"
      },
      "execution_count": 20,
      "outputs": []
    },
    {
      "cell_type": "code",
      "source": [
        "x = Variable(np.array(2.0))\n",
        "y = x ** 3\n",
        "print(y)"
      ],
      "metadata": {
        "colab": {
          "base_uri": "https://localhost:8080/"
        },
        "id": "hYIQTiG_7GOR",
        "outputId": "d7241a88-ad63-4d29-d470-016613d42b5e"
      },
      "execution_count": 21,
      "outputs": [
        {
          "output_type": "stream",
          "name": "stdout",
          "text": [
            "variable(8.0)\n"
          ]
        }
      ]
    }
  ]
}