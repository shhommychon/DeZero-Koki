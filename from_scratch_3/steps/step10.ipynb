{
    "nbformat": 4,
    "nbformat_minor": 0,
    "metadata": {
        "colab": {
            "provenance": [],
            "authorship_tag": "ABX9TyOD25MnEhQFQjApLyoyhpuZ"
        },
        "kernelspec": {
            "name": "python3",
            "display_name": "Python 3"
        },
        "language_info": {
            "name": "python"
        }
    },
    "cells": [
        {
            "cell_type": "markdown",
            "source": [
                "[![Open In Colab](https://colab.research.google.com/assets/colab-badge.svg)](https://colab.research.google.com/github/shhommychon/DeZero-Koki/blob/master/from_scratch_3/steps/step10.ipynb)"
            ],
            "metadata": {
                "id": "tljHQ_kCyCDk"
            }
        },
        {
            "cell_type": "markdown",
            "source": [
                "# 제1고지 미분 자동 계산"
            ],
            "metadata": {
                "id": "4tRTGZRKzkVm"
            }
        },
        {
            "cell_type": "markdown",
            "source": [
                "## 1단계 상자로서의 변수"
            ],
            "metadata": {
                "id": "ULNPptMZujF1"
            }
        },
        {
            "cell_type": "code",
            "source": [],
            "metadata": {
                "id": "jdlYcPgEufTY",
                "executionInfo": {
                    "status": "ok",
                    "timestamp": 1706499465464,
                    "user_tz": -540,
                    "elapsed": 461,
                    "user": {
                        "displayName": "",
                        "userId": ""
                    }
                }
            },
            "execution_count": null,
            "outputs": []
        },
        {
            "cell_type": "markdown",
            "source": [
                "## 2단계 변수를 낳는 함수"
            ],
            "metadata": {
                "id": "ZmkXFiD-zo0P"
            }
        },
        {
            "cell_type": "code",
            "source": [],
            "metadata": {
                "id": "6dwttbuS1iuP",
                "executionInfo": {
                    "status": "ok",
                    "timestamp": 1706499465464,
                    "user_tz": -540,
                    "elapsed": 3,
                    "user": {
                        "displayName": "",
                        "userId": ""
                    }
                }
            },
            "execution_count": null,
            "outputs": []
        },
        {
            "cell_type": "markdown",
            "source": [
                "## 3단계 함수 연결"
            ],
            "metadata": {
                "id": "E21JKUaPu8Uq"
            }
        },
        {
            "cell_type": "code",
            "source": [],
            "metadata": {
                "id": "uHkBpSkWvAkf",
                "executionInfo": {
                    "status": "ok",
                    "timestamp": 1706499465464,
                    "user_tz": -540,
                    "elapsed": 3,
                    "user": {
                        "displayName": "",
                        "userId": ""
                    }
                }
            },
            "execution_count": null,
            "outputs": []
        },
        {
            "cell_type": "markdown",
            "source": [
                "## 4단계 수치 미분"
            ],
            "metadata": {
                "id": "SuY18rwB7-Rl"
            }
        },
        {
            "cell_type": "code",
            "source": [],
            "metadata": {
                "id": "U4wN2UD3-nSt",
                "executionInfo": {
                    "status": "ok",
                    "timestamp": 1706499465464,
                    "user_tz": -540,
                    "elapsed": 3,
                    "user": {
                        "displayName": "",
                        "userId": ""
                    }
                }
            },
            "execution_count": null,
            "outputs": []
        },
        {
            "cell_type": "markdown",
            "source": [
                "## 5단계 역전파 이론"
            ],
            "metadata": {
                "id": "iaKJPgv7Bsw7"
            }
        },
        {
            "cell_type": "code",
            "source": [],
            "metadata": {
                "id": "ZLIaGDOEDcA7",
                "executionInfo": {
                    "status": "ok",
                    "timestamp": 1706499465464,
                    "user_tz": -540,
                    "elapsed": 3,
                    "user": {
                        "displayName": "",
                        "userId": ""
                    }
                }
            },
            "execution_count": null,
            "outputs": []
        },
        {
            "cell_type": "markdown",
            "source": [
                "## 6단계 수동 역전파"
            ],
            "metadata": {
                "id": "3VCxqCDYCAKh"
            }
        },
        {
            "cell_type": "code",
            "source": [],
            "metadata": {
                "id": "4hOZW9vADc-d",
                "executionInfo": {
                    "status": "ok",
                    "timestamp": 1706499465465,
                    "user_tz": -540,
                    "elapsed": 3,
                    "user": {
                        "displayName": "",
                        "userId": ""
                    }
                }
            },
            "execution_count": null,
            "outputs": []
        },
        {
            "cell_type": "markdown",
            "source": [
                "## 7단계 역전파 자동화"
            ],
            "metadata": {
                "id": "DByzU1lqI2un"
            }
        },
        {
            "cell_type": "code",
            "source": [],
            "metadata": {
                "id": "B1DyNxtWMTYa",
                "executionInfo": {
                    "status": "ok",
                    "timestamp": 1706499465465,
                    "user_tz": -540,
                    "elapsed": 3,
                    "user": {
                        "displayName": "",
                        "userId": ""
                    }
                }
            },
            "execution_count": null,
            "outputs": []
        },
        {
            "cell_type": "markdown",
            "source": [
                "## 8단계 재귀에서 반복문으로"
            ],
            "metadata": {
                "id": "yW0evWphChSv"
            }
        },
        {
            "cell_type": "code",
            "source": [],
            "metadata": {
                "id": "Ec5pmuF_C0Wj",
                "executionInfo": {
                    "status": "ok",
                    "timestamp": 1706499465465,
                    "user_tz": -540,
                    "elapsed": 3,
                    "user": {
                        "displayName": "",
                        "userId": ""
                    }
                }
            },
            "execution_count": null,
            "outputs": []
        },
        {
            "cell_type": "markdown",
            "source": [
                "## 9단계 함수를 더 편리하게"
            ],
            "metadata": {
                "id": "iim2zumDFqNt"
            }
        },
        {
            "cell_type": "code",
            "source": [
                "mainfile = '''\n",
                "import numpy as np\n",
                "\n",
                "\n",
                "class Variable:\n",
                "    def __init__(self, data):\n",
                "        if data is not None:\n",
                "            if not isinstance(data, np.ndarray):\n",
                "                raise TypeError(f\"{type(data)}은(는) 지원하지 않습니다.\")\n",
                "\n",
                "        self.data = data\n",
                "        self.grad = None\n",
                "        self.creator = None\n",
                "\n",
                "    def set_creator(self, func):\n",
                "        self.creator = func\n",
                "\n",
                "    def backward(self):\n",
                "        if self.grad is None:\n",
                "            self.grad = np.ones_like(self.data)\n",
                "\n",
                "        funcs = [self.creator]\n",
                "        while funcs:\n",
                "            f = funcs.pop()\n",
                "            x, y = f.input, f.output\n",
                "            x.grad = f.backward(y.grad)\n",
                "\n",
                "            if x.creator is not None:\n",
                "                funcs.append(x.creator)\n",
                "\n",
                "'''\n",
                "\n",
                "with open(\"main.py\", 'a') as f: f.write(mainfile)"
            ],
            "metadata": {
                "id": "gPnV62dYGGkj",
                "executionInfo": {
                    "status": "ok",
                    "timestamp": 1706499465465,
                    "user_tz": -540,
                    "elapsed": 3,
                    "user": {
                        "displayName": "",
                        "userId": ""
                    }
                }
            },
            "execution_count": 1,
            "outputs": []
        },
        {
            "cell_type": "code",
            "source": [
                "mainfile = '''\n",
                "import numpy as np\n",
                "\n",
                "\n",
                "def as_array(x):\n",
                "    if np.isscalar(x):\n",
                "        return np.array(x)\n",
                "    return x\n",
                "\n",
                "\n",
                "class Function:\n",
                "    \"\"\"\n",
                "\n",
                "    * Function 클래스는 기반 클래스로서, 모든 함수에 공통되는 기능을 구현합니다.\n",
                "    * 구체적인 함수는 Function 클래스를 상속한 클래스에서 구현합니다.\n",
                "    \"\"\"\n",
                "    def __call__(self, input):\n",
                "        x = input.data\n",
                "        y = self.forward(x)\n",
                "        ########################################\n",
                "        output = Variable(as_array(y))\n",
                "        ########################################\n",
                "        output.set_creator(self)\n",
                "        self.input = input\n",
                "        self.output = output\n",
                "        return output\n",
                "\n",
                "    def forward(self, x):\n",
                "        raise NotImplementedError()\n",
                "\n",
                "    def backward(self, gy):\n",
                "        raise NotImplementedError()\n",
                "\n",
                "'''\n",
                "\n",
                "with open(\"main.py\", 'a') as f: f.write(mainfile)"
            ],
            "metadata": {
                "id": "6R-wCS0HKPSl",
                "executionInfo": {
                    "status": "ok",
                    "timestamp": 1706499465783,
                    "user_tz": -540,
                    "elapsed": 321,
                    "user": {
                        "displayName": "",
                        "userId": ""
                    }
                }
            },
            "execution_count": 2,
            "outputs": []
        },
        {
            "cell_type": "code",
            "source": [
                "mainfile = '''\n",
                "class Square(Function):\n",
                "    def forward(self, x):\n",
                "        return x ** 2\n",
                "\n",
                "    def backward(self, gy):\n",
                "        x = self.input.data\n",
                "        gx = 2 * x * gy\n",
                "        return gx\n",
                "\n",
                "\n",
                "class Exp(Function):\n",
                "    def forward(self, x):\n",
                "        return np.exp(x)\n",
                "\n",
                "    def backward(self, gy):\n",
                "        x = self.input.data\n",
                "        gx = np.exp(x) * gy\n",
                "        return gx\n",
                "\n",
                "\n",
                "def square(x):\n",
                "    return Square()(x)  # 한 줄로 작성\n",
                "\n",
                "\n",
                "def exp(x):\n",
                "    return Exp()(x)\n",
                "'''\n",
                "\n",
                "with open(\"main.py\", 'a') as f: f.write(mainfile)"
            ],
            "metadata": {
                "id": "fjUc2rnrLxiB",
                "executionInfo": {
                    "status": "ok",
                    "timestamp": 1706499465783,
                    "user_tz": -540,
                    "elapsed": 4,
                    "user": {
                        "displayName": "",
                        "userId": ""
                    }
                }
            },
            "execution_count": 3,
            "outputs": []
        },
        {
            "cell_type": "markdown",
            "source": [
                "## 10단계 테스트"
            ],
            "metadata": {
                "id": "YeOav02sMaZ0"
            }
        },
        {
            "cell_type": "markdown",
            "source": [
                "### 10.1 파이썬 단위 테스트"
            ],
            "metadata": {
                "id": "4H2qLWImMhzj"
            }
        },
        {
            "cell_type": "code",
            "source": [
                "testfile = \"\"\"\n",
                "import unittest\n",
                "\n",
                "import numpy as np\n",
                "\n",
                "from main import Variable\n",
                "from main import square\n",
                "\n",
                "\n",
                "class SquareTest(unittest.TestCase):\n",
                "    def test_forward(self):\n",
                "        x = Variable(np.array(2.0))\n",
                "        y = square(x)\n",
                "        expected = np.array(4.0)\n",
                "        self.assertEqual(y.data, expected)\n",
                "\"\"\".strip()\n",
                "\n",
                "with open(\"step10_1.py\", 'w') as f: f.write(testfile)"
            ],
            "metadata": {
                "id": "xNzm6W7UMlEa",
                "executionInfo": {
                    "status": "ok",
                    "timestamp": 1706499465783,
                    "user_tz": -540,
                    "elapsed": 3,
                    "user": {
                        "displayName": "",
                        "userId": ""
                    }
                }
            },
            "execution_count": 4,
            "outputs": []
        },
        {
            "cell_type": "code",
            "source": [
                "!python -m unittest step10_1.py"
            ],
            "metadata": {
                "colab": {
                    "base_uri": "https://localhost:8080/"
                },
                "id": "mTSBCmHmNUCr",
                "executionInfo": {
                    "status": "ok",
                    "timestamp": 1706499465783,
                    "user_tz": -540,
                    "elapsed": 3,
                    "user": {
                        "displayName": "",
                        "userId": ""
                    }
                },
                "outputId": "b193afb4-f1bc-4188-8bdf-0a72d375d586"
            },
            "execution_count": 5,
            "outputs": [
                {
                    "output_type": "stream",
                    "name": "stdout",
                    "text": [
                        ".\n",
                        "----------------------------------------------------------------------\n",
                        "Ran 1 test in 0.000s\n",
                        "\n",
                        "OK\n"
                    ]
                }
            ]
        },
        {
            "cell_type": "markdown",
            "source": [
                "### 10.2 square 함수의 역전파 테스트"
            ],
            "metadata": {
                "id": "jsVqFBx7PMgM"
            }
        },
        {
            "cell_type": "code",
            "source": [
                "testfile = \"\"\"\n",
                "import unittest\n",
                "\n",
                "import numpy as np\n",
                "\n",
                "from main import Variable\n",
                "from main import square\n",
                "\n",
                "\n",
                "class SquareTest(unittest.TestCase):\n",
                "    def test_forward(self):\n",
                "        x = Variable(np.array(2.0))\n",
                "        y = square(x)\n",
                "        expected = np.array(4.0)\n",
                "        self.assertEqual(y.data, expected)\n",
                "\n",
                "    def test_backward(self):\n",
                "        x = Variable(np.array(3.0))\n",
                "        y = square(x)\n",
                "        y.backward()\n",
                "        expected = np.array(6.0)\n",
                "        self.assertEqual(x.grad, expected)\n",
                "\"\"\".strip()\n",
                "\n",
                "with open(\"step10_2.py\", 'w') as f: f.write(testfile)"
            ],
            "metadata": {
                "id": "I736bEjbPQO_",
                "executionInfo": {
                    "status": "ok",
                    "timestamp": 1706499465783,
                    "user_tz": -540,
                    "elapsed": 2,
                    "user": {
                        "displayName": "",
                        "userId": ""
                    }
                }
            },
            "execution_count": 6,
            "outputs": []
        },
        {
            "cell_type": "code",
            "source": [
                "!python -m unittest step10_2.py"
            ],
            "metadata": {
                "colab": {
                    "base_uri": "https://localhost:8080/"
                },
                "id": "fQrH_a0qPw18",
                "executionInfo": {
                    "status": "ok",
                    "timestamp": 1706499466129,
                    "user_tz": -540,
                    "elapsed": 348,
                    "user": {
                        "displayName": "",
                        "userId": ""
                    }
                },
                "outputId": "6c190fde-7467-4964-8f41-027069817495"
            },
            "execution_count": 7,
            "outputs": [
                {
                    "output_type": "stream",
                    "name": "stdout",
                    "text": [
                        "..\n",
                        "----------------------------------------------------------------------\n",
                        "Ran 2 tests in 0.000s\n",
                        "\n",
                        "OK\n"
                    ]
                }
            ]
        },
        {
            "cell_type": "code",
            "source": [
                "testfile = '''\n",
                "import unittest\n",
                "\n",
                "import numpy as np\n",
                "\n",
                "from main import Variable\n",
                "from main import square\n",
                "\n",
                "\n",
                "def numerical_diff(f, x, eps=1e-4):\n",
                "    \"\"\"\n",
                "\n",
                "      param:\n",
                "        f (Function): 미분의 대상이 되는 함수\n",
                "        x (Variable): 미분을 계산하는 변수\n",
                "        eps (float): 작은 값\n",
                "    \"\"\"\n",
                "    x0 = Variable(x.data - eps)\n",
                "    x1 = Variable(x.data + eps)\n",
                "    y0 = f(x0)\n",
                "    y1 = f(x1)\n",
                "    return (y1.data - y0.data) / (2 * eps)\n",
                "\n",
                "\n",
                "class SquareTest(unittest.TestCase):\n",
                "    def test_forward(self):\n",
                "        x = Variable(np.array(2.0))\n",
                "        y = square(x)\n",
                "        expected = np.array(4.0)\n",
                "        self.assertEqual(y.data, expected)\n",
                "\n",
                "    def test_backward(self):\n",
                "        x = Variable(np.array(3.0))\n",
                "        y = square(x)\n",
                "        y.backward()\n",
                "        expected = np.array(6.0)\n",
                "        self.assertEqual(x.grad, expected)\n",
                "\n",
                "    def test_gradient_check(self):\n",
                "        x = Variable(np.random.rand(1))  # 무작위 입력값 생성\n",
                "        y = square(x)\n",
                "        y.backward()\n",
                "        num_grad = numerical_diff(square, x)\n",
                "        flg = np.allclose(x.grad, num_grad)\n",
                "        self.assertTrue(flg)\n",
                "'''.strip()\n",
                "\n",
                "with open(\"step10_3.py\", 'w') as f: f.write(testfile)"
            ],
            "metadata": {
                "id": "gqgeHZ8CP6mK",
                "executionInfo": {
                    "status": "ok",
                    "timestamp": 1706499466478,
                    "user_tz": -540,
                    "elapsed": 349,
                    "user": {
                        "displayName": "",
                        "userId": ""
                    }
                }
            },
            "execution_count": 8,
            "outputs": []
        },
        {
            "cell_type": "code",
            "source": [
                "!python -m unittest step10_3.py"
            ],
            "metadata": {
                "colab": {
                    "base_uri": "https://localhost:8080/"
                },
                "id": "V_l7Tt27Q8AP",
                "executionInfo": {
                    "status": "ok",
                    "timestamp": 1706499466762,
                    "user_tz": -540,
                    "elapsed": 285,
                    "user": {
                        "displayName": "",
                        "userId": ""
                    }
                },
                "outputId": "021c85b5-5032-4fc9-f355-f6ce013b749d"
            },
            "execution_count": 9,
            "outputs": [
                {
                    "output_type": "stream",
                    "name": "stdout",
                    "text": [
                        "...\n",
                        "----------------------------------------------------------------------\n",
                        "Ran 3 tests in 0.001s\n",
                        "\n",
                        "OK\n"
                    ]
                }
            ]
        },
        {
            "cell_type": "markdown",
            "source": [
                "### 10.4 테스트 정리"
            ],
            "metadata": {
                "id": "d46ZQFYCQ_4m"
            }
        },
        {
            "cell_type": "code",
            "source": [
                "!python -m unittest discover -s /content -p step10_3.py"
            ],
            "metadata": {
                "colab": {
                    "base_uri": "https://localhost:8080/"
                },
                "id": "0E7mWnjCRCeB",
                "executionInfo": {
                    "status": "ok",
                    "timestamp": 1706499467412,
                    "user_tz": -540,
                    "elapsed": 652,
                    "user": {
                        "displayName": "",
                        "userId": ""
                    }
                },
                "outputId": "067d332c-d1db-4b94-9691-cdf0d4ac8198"
            },
            "execution_count": 10,
            "outputs": [
                {
                    "output_type": "stream",
                    "name": "stdout",
                    "text": [
                        "...\n",
                        "----------------------------------------------------------------------\n",
                        "Ran 3 tests in 0.001s\n",
                        "\n",
                        "OK\n"
                    ]
                }
            ]
        }
    ]
}